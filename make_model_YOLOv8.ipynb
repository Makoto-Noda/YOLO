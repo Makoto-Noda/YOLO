{
 "cells": [
  {
   "cell_type": "code",
   "execution_count": 8,
   "metadata": {},
   "outputs": [],
   "source": [
    "from ultralytics import YOLO\n",
    "import os\n",
    "import shutil\n",
    "import pandas as pd\n",
    "from sklearn.model_selection import train_test_split as tts\n",
    "import torch\n",
    "import datetime\n",
    "\n",
    "pd.set_option('display.max_rows', 500)\n",
    "\n",
    "device = torch.device(\"mps\") if torch.backends.mps.is_available() else torch.device(\"cpu\")\n",
    "device = torch.device(device)"
   ]
  },
  {
   "cell_type": "code",
   "execution_count": 9,
   "metadata": {},
   "outputs": [
    {
     "data": {
      "text/plain": [
       "True"
      ]
     },
     "execution_count": 9,
     "metadata": {},
     "output_type": "execute_result"
    }
   ],
   "source": [
    "torch.backends.mps.is_available()"
   ]
  },
  {
   "cell_type": "code",
   "execution_count": 10,
   "metadata": {},
   "outputs": [],
   "source": [
    "model = YOLO('yolov8l.pt')"
   ]
  },
  {
   "cell_type": "code",
   "execution_count": 11,
   "metadata": {},
   "outputs": [],
   "source": [
    "#source = \"/Users/makoto/dev/YOLO/IMG_4263.jpeg\"\n",
    "#results = model.predict(source, project='/Users/makoto/Desktop', save=True, imgsz=640, conf=0.5, exist_ok=True)"
   ]
  },
  {
   "cell_type": "code",
   "execution_count": 12,
   "metadata": {},
   "outputs": [
    {
     "data": {
      "text/html": [
       "<div>\n",
       "<style scoped>\n",
       "    .dataframe tbody tr th:only-of-type {\n",
       "        vertical-align: middle;\n",
       "    }\n",
       "\n",
       "    .dataframe tbody tr th {\n",
       "        vertical-align: top;\n",
       "    }\n",
       "\n",
       "    .dataframe thead th {\n",
       "        text-align: right;\n",
       "    }\n",
       "</style>\n",
       "<table border=\"1\" class=\"dataframe\">\n",
       "  <thead>\n",
       "    <tr style=\"text-align: right;\">\n",
       "      <th></th>\n",
       "      <th>image</th>\n",
       "      <th>label</th>\n",
       "      <th>image_copy</th>\n",
       "      <th>label_copy</th>\n",
       "    </tr>\n",
       "  </thead>\n",
       "  <tbody>\n",
       "    <tr>\n",
       "      <th>131</th>\n",
       "      <td>./syntheticdata/images/image0131.png</td>\n",
       "      <td>./syntheticdata/labels/image0131.txt</td>\n",
       "      <td>./dataset/images/valid/image0131.png</td>\n",
       "      <td>./dataset/labels/valid/image0131.txt</td>\n",
       "    </tr>\n",
       "    <tr>\n",
       "      <th>203</th>\n",
       "      <td>./syntheticdata/images/image0203.png</td>\n",
       "      <td>./syntheticdata/labels/image0203.txt</td>\n",
       "      <td>./dataset/images/valid/image0203.png</td>\n",
       "      <td>./dataset/labels/valid/image0203.txt</td>\n",
       "    </tr>\n",
       "    <tr>\n",
       "      <th>50</th>\n",
       "      <td>./syntheticdata/images/image0050.png</td>\n",
       "      <td>./syntheticdata/labels/image0050.txt</td>\n",
       "      <td>./dataset/images/valid/image0050.png</td>\n",
       "      <td>./dataset/labels/valid/image0050.txt</td>\n",
       "    </tr>\n",
       "    <tr>\n",
       "      <th>585</th>\n",
       "      <td>./syntheticdata/images/image0585.png</td>\n",
       "      <td>./syntheticdata/labels/image0585.txt</td>\n",
       "      <td>./dataset/images/valid/image0585.png</td>\n",
       "      <td>./dataset/labels/valid/image0585.txt</td>\n",
       "    </tr>\n",
       "    <tr>\n",
       "      <th>138</th>\n",
       "      <td>./syntheticdata/images/image0138.png</td>\n",
       "      <td>./syntheticdata/labels/image0138.txt</td>\n",
       "      <td>./dataset/images/valid/image0138.png</td>\n",
       "      <td>./dataset/labels/valid/image0138.txt</td>\n",
       "    </tr>\n",
       "    <tr>\n",
       "      <th>632</th>\n",
       "      <td>./syntheticdata/images/image0632.png</td>\n",
       "      <td>./syntheticdata/labels/image0632.txt</td>\n",
       "      <td>./dataset/images/valid/image0632.png</td>\n",
       "      <td>./dataset/labels/valid/image0632.txt</td>\n",
       "    </tr>\n",
       "    <tr>\n",
       "      <th>328</th>\n",
       "      <td>./syntheticdata/images/image0328.png</td>\n",
       "      <td>./syntheticdata/labels/image0328.txt</td>\n",
       "      <td>./dataset/images/valid/image0328.png</td>\n",
       "      <td>./dataset/labels/valid/image0328.txt</td>\n",
       "    </tr>\n",
       "    <tr>\n",
       "      <th>461</th>\n",
       "      <td>./syntheticdata/images/image0461.png</td>\n",
       "      <td>./syntheticdata/labels/image0461.txt</td>\n",
       "      <td>./dataset/images/valid/image0461.png</td>\n",
       "      <td>./dataset/labels/valid/image0461.txt</td>\n",
       "    </tr>\n",
       "    <tr>\n",
       "      <th>924</th>\n",
       "      <td>./syntheticdata/images/image0924.png</td>\n",
       "      <td>./syntheticdata/labels/image0924.txt</td>\n",
       "      <td>./dataset/images/valid/image0924.png</td>\n",
       "      <td>./dataset/labels/valid/image0924.txt</td>\n",
       "    </tr>\n",
       "    <tr>\n",
       "      <th>479</th>\n",
       "      <td>./syntheticdata/images/image0479.png</td>\n",
       "      <td>./syntheticdata/labels/image0479.txt</td>\n",
       "      <td>./dataset/images/valid/image0479.png</td>\n",
       "      <td>./dataset/labels/valid/image0479.txt</td>\n",
       "    </tr>\n",
       "    <tr>\n",
       "      <th>195</th>\n",
       "      <td>./syntheticdata/images/image0195.png</td>\n",
       "      <td>./syntheticdata/labels/image0195.txt</td>\n",
       "      <td>./dataset/images/valid/image0195.png</td>\n",
       "      <td>./dataset/labels/valid/image0195.txt</td>\n",
       "    </tr>\n",
       "    <tr>\n",
       "      <th>221</th>\n",
       "      <td>./syntheticdata/images/image0221.png</td>\n",
       "      <td>./syntheticdata/labels/image0221.txt</td>\n",
       "      <td>./dataset/images/valid/image0221.png</td>\n",
       "      <td>./dataset/labels/valid/image0221.txt</td>\n",
       "    </tr>\n",
       "    <tr>\n",
       "      <th>209</th>\n",
       "      <td>./syntheticdata/images/image0209.png</td>\n",
       "      <td>./syntheticdata/labels/image0209.txt</td>\n",
       "      <td>./dataset/images/valid/image0209.png</td>\n",
       "      <td>./dataset/labels/valid/image0209.txt</td>\n",
       "    </tr>\n",
       "    <tr>\n",
       "      <th>378</th>\n",
       "      <td>./syntheticdata/images/image0378.png</td>\n",
       "      <td>./syntheticdata/labels/image0378.txt</td>\n",
       "      <td>./dataset/images/valid/image0378.png</td>\n",
       "      <td>./dataset/labels/valid/image0378.txt</td>\n",
       "    </tr>\n",
       "    <tr>\n",
       "      <th>156</th>\n",
       "      <td>./syntheticdata/images/image0156.png</td>\n",
       "      <td>./syntheticdata/labels/image0156.txt</td>\n",
       "      <td>./dataset/images/valid/image0156.png</td>\n",
       "      <td>./dataset/labels/valid/image0156.txt</td>\n",
       "    </tr>\n",
       "    <tr>\n",
       "      <th>327</th>\n",
       "      <td>./syntheticdata/images/image0327.png</td>\n",
       "      <td>./syntheticdata/labels/image0327.txt</td>\n",
       "      <td>./dataset/images/valid/image0327.png</td>\n",
       "      <td>./dataset/labels/valid/image0327.txt</td>\n",
       "    </tr>\n",
       "    <tr>\n",
       "      <th>761</th>\n",
       "      <td>./syntheticdata/images/image0761.png</td>\n",
       "      <td>./syntheticdata/labels/image0761.txt</td>\n",
       "      <td>./dataset/images/valid/image0761.png</td>\n",
       "      <td>./dataset/labels/valid/image0761.txt</td>\n",
       "    </tr>\n",
       "    <tr>\n",
       "      <th>320</th>\n",
       "      <td>./syntheticdata/images/image0320.png</td>\n",
       "      <td>./syntheticdata/labels/image0320.txt</td>\n",
       "      <td>./dataset/images/valid/image0320.png</td>\n",
       "      <td>./dataset/labels/valid/image0320.txt</td>\n",
       "    </tr>\n",
       "    <tr>\n",
       "      <th>274</th>\n",
       "      <td>./syntheticdata/images/image0274.png</td>\n",
       "      <td>./syntheticdata/labels/image0274.txt</td>\n",
       "      <td>./dataset/images/valid/image0274.png</td>\n",
       "      <td>./dataset/labels/valid/image0274.txt</td>\n",
       "    </tr>\n",
       "    <tr>\n",
       "      <th>417</th>\n",
       "      <td>./syntheticdata/images/image0417.png</td>\n",
       "      <td>./syntheticdata/labels/image0417.txt</td>\n",
       "      <td>./dataset/images/valid/image0417.png</td>\n",
       "      <td>./dataset/labels/valid/image0417.txt</td>\n",
       "    </tr>\n",
       "    <tr>\n",
       "      <th>372</th>\n",
       "      <td>./syntheticdata/images/image0372.png</td>\n",
       "      <td>./syntheticdata/labels/image0372.txt</td>\n",
       "      <td>./dataset/images/valid/image0372.png</td>\n",
       "      <td>./dataset/labels/valid/image0372.txt</td>\n",
       "    </tr>\n",
       "    <tr>\n",
       "      <th>299</th>\n",
       "      <td>./syntheticdata/images/image0299.png</td>\n",
       "      <td>./syntheticdata/labels/image0299.txt</td>\n",
       "      <td>./dataset/images/valid/image0299.png</td>\n",
       "      <td>./dataset/labels/valid/image0299.txt</td>\n",
       "    </tr>\n",
       "    <tr>\n",
       "      <th>229</th>\n",
       "      <td>./syntheticdata/images/image0229.png</td>\n",
       "      <td>./syntheticdata/labels/image0229.txt</td>\n",
       "      <td>./dataset/images/valid/image0229.png</td>\n",
       "      <td>./dataset/labels/valid/image0229.txt</td>\n",
       "    </tr>\n",
       "    <tr>\n",
       "      <th>896</th>\n",
       "      <td>./syntheticdata/images/image0896.png</td>\n",
       "      <td>./syntheticdata/labels/image0896.txt</td>\n",
       "      <td>./dataset/images/valid/image0896.png</td>\n",
       "      <td>./dataset/labels/valid/image0896.txt</td>\n",
       "    </tr>\n",
       "    <tr>\n",
       "      <th>594</th>\n",
       "      <td>./syntheticdata/images/image0594.png</td>\n",
       "      <td>./syntheticdata/labels/image0594.txt</td>\n",
       "      <td>./dataset/images/valid/image0594.png</td>\n",
       "      <td>./dataset/labels/valid/image0594.txt</td>\n",
       "    </tr>\n",
       "    <tr>\n",
       "      <th>983</th>\n",
       "      <td>./syntheticdata/images/image0983.png</td>\n",
       "      <td>./syntheticdata/labels/image0983.txt</td>\n",
       "      <td>./dataset/images/valid/image0983.png</td>\n",
       "      <td>./dataset/labels/valid/image0983.txt</td>\n",
       "    </tr>\n",
       "    <tr>\n",
       "      <th>736</th>\n",
       "      <td>./syntheticdata/images/image0736.png</td>\n",
       "      <td>./syntheticdata/labels/image0736.txt</td>\n",
       "      <td>./dataset/images/valid/image0736.png</td>\n",
       "      <td>./dataset/labels/valid/image0736.txt</td>\n",
       "    </tr>\n",
       "    <tr>\n",
       "      <th>85</th>\n",
       "      <td>./syntheticdata/images/image0085.png</td>\n",
       "      <td>./syntheticdata/labels/image0085.txt</td>\n",
       "      <td>./dataset/images/valid/image0085.png</td>\n",
       "      <td>./dataset/labels/valid/image0085.txt</td>\n",
       "    </tr>\n",
       "    <tr>\n",
       "      <th>882</th>\n",
       "      <td>./syntheticdata/images/image0882.png</td>\n",
       "      <td>./syntheticdata/labels/image0882.txt</td>\n",
       "      <td>./dataset/images/valid/image0882.png</td>\n",
       "      <td>./dataset/labels/valid/image0882.txt</td>\n",
       "    </tr>\n",
       "    <tr>\n",
       "      <th>7</th>\n",
       "      <td>./syntheticdata/images/image0007.png</td>\n",
       "      <td>./syntheticdata/labels/image0007.txt</td>\n",
       "      <td>./dataset/images/valid/image0007.png</td>\n",
       "      <td>./dataset/labels/valid/image0007.txt</td>\n",
       "    </tr>\n",
       "    <tr>\n",
       "      <th>722</th>\n",
       "      <td>./syntheticdata/images/image0722.png</td>\n",
       "      <td>./syntheticdata/labels/image0722.txt</td>\n",
       "      <td>./dataset/images/valid/image0722.png</td>\n",
       "      <td>./dataset/labels/valid/image0722.txt</td>\n",
       "    </tr>\n",
       "    <tr>\n",
       "      <th>43</th>\n",
       "      <td>./syntheticdata/images/image0043.png</td>\n",
       "      <td>./syntheticdata/labels/image0043.txt</td>\n",
       "      <td>./dataset/images/valid/image0043.png</td>\n",
       "      <td>./dataset/labels/valid/image0043.txt</td>\n",
       "    </tr>\n",
       "    <tr>\n",
       "      <th>566</th>\n",
       "      <td>./syntheticdata/images/image0566.png</td>\n",
       "      <td>./syntheticdata/labels/image0566.txt</td>\n",
       "      <td>./dataset/images/valid/image0566.png</td>\n",
       "      <td>./dataset/labels/valid/image0566.txt</td>\n",
       "    </tr>\n",
       "    <tr>\n",
       "      <th>317</th>\n",
       "      <td>./syntheticdata/images/image0317.png</td>\n",
       "      <td>./syntheticdata/labels/image0317.txt</td>\n",
       "      <td>./dataset/images/valid/image0317.png</td>\n",
       "      <td>./dataset/labels/valid/image0317.txt</td>\n",
       "    </tr>\n",
       "    <tr>\n",
       "      <th>874</th>\n",
       "      <td>./syntheticdata/images/image0874.png</td>\n",
       "      <td>./syntheticdata/labels/image0874.txt</td>\n",
       "      <td>./dataset/images/valid/image0874.png</td>\n",
       "      <td>./dataset/labels/valid/image0874.txt</td>\n",
       "    </tr>\n",
       "    <tr>\n",
       "      <th>743</th>\n",
       "      <td>./syntheticdata/images/image0743.png</td>\n",
       "      <td>./syntheticdata/labels/image0743.txt</td>\n",
       "      <td>./dataset/images/valid/image0743.png</td>\n",
       "      <td>./dataset/labels/valid/image0743.txt</td>\n",
       "    </tr>\n",
       "    <tr>\n",
       "      <th>353</th>\n",
       "      <td>./syntheticdata/images/image0353.png</td>\n",
       "      <td>./syntheticdata/labels/image0353.txt</td>\n",
       "      <td>./dataset/images/valid/image0353.png</td>\n",
       "      <td>./dataset/labels/valid/image0353.txt</td>\n",
       "    </tr>\n",
       "    <tr>\n",
       "      <th>145</th>\n",
       "      <td>./syntheticdata/images/image0145.png</td>\n",
       "      <td>./syntheticdata/labels/image0145.txt</td>\n",
       "      <td>./dataset/images/valid/image0145.png</td>\n",
       "      <td>./dataset/labels/valid/image0145.txt</td>\n",
       "    </tr>\n",
       "    <tr>\n",
       "      <th>346</th>\n",
       "      <td>./syntheticdata/images/image0346.png</td>\n",
       "      <td>./syntheticdata/labels/image0346.txt</td>\n",
       "      <td>./dataset/images/valid/image0346.png</td>\n",
       "      <td>./dataset/labels/valid/image0346.txt</td>\n",
       "    </tr>\n",
       "    <tr>\n",
       "      <th>590</th>\n",
       "      <td>./syntheticdata/images/image0590.png</td>\n",
       "      <td>./syntheticdata/labels/image0590.txt</td>\n",
       "      <td>./dataset/images/valid/image0590.png</td>\n",
       "      <td>./dataset/labels/valid/image0590.txt</td>\n",
       "    </tr>\n",
       "    <tr>\n",
       "      <th>771</th>\n",
       "      <td>./syntheticdata/images/image0771.png</td>\n",
       "      <td>./syntheticdata/labels/image0771.txt</td>\n",
       "      <td>./dataset/images/valid/image0771.png</td>\n",
       "      <td>./dataset/labels/valid/image0771.txt</td>\n",
       "    </tr>\n",
       "    <tr>\n",
       "      <th>336</th>\n",
       "      <td>./syntheticdata/images/image0336.png</td>\n",
       "      <td>./syntheticdata/labels/image0336.txt</td>\n",
       "      <td>./dataset/images/valid/image0336.png</td>\n",
       "      <td>./dataset/labels/valid/image0336.txt</td>\n",
       "    </tr>\n",
       "    <tr>\n",
       "      <th>633</th>\n",
       "      <td>./syntheticdata/images/image0633.png</td>\n",
       "      <td>./syntheticdata/labels/image0633.txt</td>\n",
       "      <td>./dataset/images/valid/image0633.png</td>\n",
       "      <td>./dataset/labels/valid/image0633.txt</td>\n",
       "    </tr>\n",
       "    <tr>\n",
       "      <th>310</th>\n",
       "      <td>./syntheticdata/images/image0310.png</td>\n",
       "      <td>./syntheticdata/labels/image0310.txt</td>\n",
       "      <td>./dataset/images/valid/image0310.png</td>\n",
       "      <td>./dataset/labels/valid/image0310.txt</td>\n",
       "    </tr>\n",
       "    <tr>\n",
       "      <th>693</th>\n",
       "      <td>./syntheticdata/images/image0693.png</td>\n",
       "      <td>./syntheticdata/labels/image0693.txt</td>\n",
       "      <td>./dataset/images/valid/image0693.png</td>\n",
       "      <td>./dataset/labels/valid/image0693.txt</td>\n",
       "    </tr>\n",
       "    <tr>\n",
       "      <th>691</th>\n",
       "      <td>./syntheticdata/images/image0691.png</td>\n",
       "      <td>./syntheticdata/labels/image0691.txt</td>\n",
       "      <td>./dataset/images/valid/image0691.png</td>\n",
       "      <td>./dataset/labels/valid/image0691.txt</td>\n",
       "    </tr>\n",
       "    <tr>\n",
       "      <th>338</th>\n",
       "      <td>./syntheticdata/images/image0338.png</td>\n",
       "      <td>./syntheticdata/labels/image0338.txt</td>\n",
       "      <td>./dataset/images/valid/image0338.png</td>\n",
       "      <td>./dataset/labels/valid/image0338.txt</td>\n",
       "    </tr>\n",
       "    <tr>\n",
       "      <th>901</th>\n",
       "      <td>./syntheticdata/images/image0901.png</td>\n",
       "      <td>./syntheticdata/labels/image0901.txt</td>\n",
       "      <td>./dataset/images/valid/image0901.png</td>\n",
       "      <td>./dataset/labels/valid/image0901.txt</td>\n",
       "    </tr>\n",
       "    <tr>\n",
       "      <th>318</th>\n",
       "      <td>./syntheticdata/images/image0318.png</td>\n",
       "      <td>./syntheticdata/labels/image0318.txt</td>\n",
       "      <td>./dataset/images/valid/image0318.png</td>\n",
       "      <td>./dataset/labels/valid/image0318.txt</td>\n",
       "    </tr>\n",
       "    <tr>\n",
       "      <th>352</th>\n",
       "      <td>./syntheticdata/images/image0352.png</td>\n",
       "      <td>./syntheticdata/labels/image0352.txt</td>\n",
       "      <td>./dataset/images/valid/image0352.png</td>\n",
       "      <td>./dataset/labels/valid/image0352.txt</td>\n",
       "    </tr>\n",
       "    <tr>\n",
       "      <th>161</th>\n",
       "      <td>./syntheticdata/images/image0161.png</td>\n",
       "      <td>./syntheticdata/labels/image0161.txt</td>\n",
       "      <td>./dataset/images/valid/image0161.png</td>\n",
       "      <td>./dataset/labels/valid/image0161.txt</td>\n",
       "    </tr>\n",
       "    <tr>\n",
       "      <th>542</th>\n",
       "      <td>./syntheticdata/images/image0542.png</td>\n",
       "      <td>./syntheticdata/labels/image0542.txt</td>\n",
       "      <td>./dataset/images/valid/image0542.png</td>\n",
       "      <td>./dataset/labels/valid/image0542.txt</td>\n",
       "    </tr>\n",
       "    <tr>\n",
       "      <th>786</th>\n",
       "      <td>./syntheticdata/images/image0786.png</td>\n",
       "      <td>./syntheticdata/labels/image0786.txt</td>\n",
       "      <td>./dataset/images/valid/image0786.png</td>\n",
       "      <td>./dataset/labels/valid/image0786.txt</td>\n",
       "    </tr>\n",
       "    <tr>\n",
       "      <th>917</th>\n",
       "      <td>./syntheticdata/images/image0917.png</td>\n",
       "      <td>./syntheticdata/labels/image0917.txt</td>\n",
       "      <td>./dataset/images/valid/image0917.png</td>\n",
       "      <td>./dataset/labels/valid/image0917.txt</td>\n",
       "    </tr>\n",
       "    <tr>\n",
       "      <th>387</th>\n",
       "      <td>./syntheticdata/images/image0387.png</td>\n",
       "      <td>./syntheticdata/labels/image0387.txt</td>\n",
       "      <td>./dataset/images/valid/image0387.png</td>\n",
       "      <td>./dataset/labels/valid/image0387.txt</td>\n",
       "    </tr>\n",
       "    <tr>\n",
       "      <th>196</th>\n",
       "      <td>./syntheticdata/images/image0196.png</td>\n",
       "      <td>./syntheticdata/labels/image0196.txt</td>\n",
       "      <td>./dataset/images/valid/image0196.png</td>\n",
       "      <td>./dataset/labels/valid/image0196.txt</td>\n",
       "    </tr>\n",
       "    <tr>\n",
       "      <th>648</th>\n",
       "      <td>./syntheticdata/images/image0648.png</td>\n",
       "      <td>./syntheticdata/labels/image0648.txt</td>\n",
       "      <td>./dataset/images/valid/image0648.png</td>\n",
       "      <td>./dataset/labels/valid/image0648.txt</td>\n",
       "    </tr>\n",
       "    <tr>\n",
       "      <th>167</th>\n",
       "      <td>./syntheticdata/images/image0167.png</td>\n",
       "      <td>./syntheticdata/labels/image0167.txt</td>\n",
       "      <td>./dataset/images/valid/image0167.png</td>\n",
       "      <td>./dataset/labels/valid/image0167.txt</td>\n",
       "    </tr>\n",
       "    <tr>\n",
       "      <th>597</th>\n",
       "      <td>./syntheticdata/images/image0597.png</td>\n",
       "      <td>./syntheticdata/labels/image0597.txt</td>\n",
       "      <td>./dataset/images/valid/image0597.png</td>\n",
       "      <td>./dataset/labels/valid/image0597.txt</td>\n",
       "    </tr>\n",
       "    <tr>\n",
       "      <th>392</th>\n",
       "      <td>./syntheticdata/images/image0392.png</td>\n",
       "      <td>./syntheticdata/labels/image0392.txt</td>\n",
       "      <td>./dataset/images/valid/image0392.png</td>\n",
       "      <td>./dataset/labels/valid/image0392.txt</td>\n",
       "    </tr>\n",
       "    <tr>\n",
       "      <th>803</th>\n",
       "      <td>./syntheticdata/images/image0803.png</td>\n",
       "      <td>./syntheticdata/labels/image0803.txt</td>\n",
       "      <td>./dataset/images/valid/image0803.png</td>\n",
       "      <td>./dataset/labels/valid/image0803.txt</td>\n",
       "    </tr>\n",
       "    <tr>\n",
       "      <th>536</th>\n",
       "      <td>./syntheticdata/images/image0536.png</td>\n",
       "      <td>./syntheticdata/labels/image0536.txt</td>\n",
       "      <td>./dataset/images/valid/image0536.png</td>\n",
       "      <td>./dataset/labels/valid/image0536.txt</td>\n",
       "    </tr>\n",
       "    <tr>\n",
       "      <th>172</th>\n",
       "      <td>./syntheticdata/images/image0172.png</td>\n",
       "      <td>./syntheticdata/labels/image0172.txt</td>\n",
       "      <td>./dataset/images/valid/image0172.png</td>\n",
       "      <td>./dataset/labels/valid/image0172.txt</td>\n",
       "    </tr>\n",
       "    <tr>\n",
       "      <th>830</th>\n",
       "      <td>./syntheticdata/images/image0830.png</td>\n",
       "      <td>./syntheticdata/labels/image0830.txt</td>\n",
       "      <td>./dataset/images/valid/image0830.png</td>\n",
       "      <td>./dataset/labels/valid/image0830.txt</td>\n",
       "    </tr>\n",
       "    <tr>\n",
       "      <th>182</th>\n",
       "      <td>./syntheticdata/images/image0182.png</td>\n",
       "      <td>./syntheticdata/labels/image0182.txt</td>\n",
       "      <td>./dataset/images/valid/image0182.png</td>\n",
       "      <td>./dataset/labels/valid/image0182.txt</td>\n",
       "    </tr>\n",
       "    <tr>\n",
       "      <th>702</th>\n",
       "      <td>./syntheticdata/images/image0702.png</td>\n",
       "      <td>./syntheticdata/labels/image0702.txt</td>\n",
       "      <td>./dataset/images/valid/image0702.png</td>\n",
       "      <td>./dataset/labels/valid/image0702.txt</td>\n",
       "    </tr>\n",
       "    <tr>\n",
       "      <th>784</th>\n",
       "      <td>./syntheticdata/images/image0784.png</td>\n",
       "      <td>./syntheticdata/labels/image0784.txt</td>\n",
       "      <td>./dataset/images/valid/image0784.png</td>\n",
       "      <td>./dataset/labels/valid/image0784.txt</td>\n",
       "    </tr>\n",
       "    <tr>\n",
       "      <th>613</th>\n",
       "      <td>./syntheticdata/images/image0613.png</td>\n",
       "      <td>./syntheticdata/labels/image0613.txt</td>\n",
       "      <td>./dataset/images/valid/image0613.png</td>\n",
       "      <td>./dataset/labels/valid/image0613.txt</td>\n",
       "    </tr>\n",
       "    <tr>\n",
       "      <th>965</th>\n",
       "      <td>./syntheticdata/images/image0965.png</td>\n",
       "      <td>./syntheticdata/labels/image0965.txt</td>\n",
       "      <td>./dataset/images/valid/image0965.png</td>\n",
       "      <td>./dataset/labels/valid/image0965.txt</td>\n",
       "    </tr>\n",
       "    <tr>\n",
       "      <th>171</th>\n",
       "      <td>./syntheticdata/images/image0171.png</td>\n",
       "      <td>./syntheticdata/labels/image0171.txt</td>\n",
       "      <td>./dataset/images/valid/image0171.png</td>\n",
       "      <td>./dataset/labels/valid/image0171.txt</td>\n",
       "    </tr>\n",
       "    <tr>\n",
       "      <th>345</th>\n",
       "      <td>./syntheticdata/images/image0345.png</td>\n",
       "      <td>./syntheticdata/labels/image0345.txt</td>\n",
       "      <td>./dataset/images/valid/image0345.png</td>\n",
       "      <td>./dataset/labels/valid/image0345.txt</td>\n",
       "    </tr>\n",
       "    <tr>\n",
       "      <th>822</th>\n",
       "      <td>./syntheticdata/images/image0822.png</td>\n",
       "      <td>./syntheticdata/labels/image0822.txt</td>\n",
       "      <td>./dataset/images/valid/image0822.png</td>\n",
       "      <td>./dataset/labels/valid/image0822.txt</td>\n",
       "    </tr>\n",
       "    <tr>\n",
       "      <th>877</th>\n",
       "      <td>./syntheticdata/images/image0877.png</td>\n",
       "      <td>./syntheticdata/labels/image0877.txt</td>\n",
       "      <td>./dataset/images/valid/image0877.png</td>\n",
       "      <td>./dataset/labels/valid/image0877.txt</td>\n",
       "    </tr>\n",
       "    <tr>\n",
       "      <th>147</th>\n",
       "      <td>./syntheticdata/images/image0147.png</td>\n",
       "      <td>./syntheticdata/labels/image0147.txt</td>\n",
       "      <td>./dataset/images/valid/image0147.png</td>\n",
       "      <td>./dataset/labels/valid/image0147.txt</td>\n",
       "    </tr>\n",
       "    <tr>\n",
       "      <th>548</th>\n",
       "      <td>./syntheticdata/images/image0548.png</td>\n",
       "      <td>./syntheticdata/labels/image0548.txt</td>\n",
       "      <td>./dataset/images/valid/image0548.png</td>\n",
       "      <td>./dataset/labels/valid/image0548.txt</td>\n",
       "    </tr>\n",
       "    <tr>\n",
       "      <th>642</th>\n",
       "      <td>./syntheticdata/images/image0642.png</td>\n",
       "      <td>./syntheticdata/labels/image0642.txt</td>\n",
       "      <td>./dataset/images/valid/image0642.png</td>\n",
       "      <td>./dataset/labels/valid/image0642.txt</td>\n",
       "    </tr>\n",
       "    <tr>\n",
       "      <th>971</th>\n",
       "      <td>./syntheticdata/images/image0971.png</td>\n",
       "      <td>./syntheticdata/labels/image0971.txt</td>\n",
       "      <td>./dataset/images/valid/image0971.png</td>\n",
       "      <td>./dataset/labels/valid/image0971.txt</td>\n",
       "    </tr>\n",
       "    <tr>\n",
       "      <th>934</th>\n",
       "      <td>./syntheticdata/images/image0934.png</td>\n",
       "      <td>./syntheticdata/labels/image0934.txt</td>\n",
       "      <td>./dataset/images/valid/image0934.png</td>\n",
       "      <td>./dataset/labels/valid/image0934.txt</td>\n",
       "    </tr>\n",
       "    <tr>\n",
       "      <th>184</th>\n",
       "      <td>./syntheticdata/images/image0184.png</td>\n",
       "      <td>./syntheticdata/labels/image0184.txt</td>\n",
       "      <td>./dataset/images/valid/image0184.png</td>\n",
       "      <td>./dataset/labels/valid/image0184.txt</td>\n",
       "    </tr>\n",
       "    <tr>\n",
       "      <th>607</th>\n",
       "      <td>./syntheticdata/images/image0607.png</td>\n",
       "      <td>./syntheticdata/labels/image0607.txt</td>\n",
       "      <td>./dataset/images/valid/image0607.png</td>\n",
       "      <td>./dataset/labels/valid/image0607.txt</td>\n",
       "    </tr>\n",
       "    <tr>\n",
       "      <th>437</th>\n",
       "      <td>./syntheticdata/images/image0437.png</td>\n",
       "      <td>./syntheticdata/labels/image0437.txt</td>\n",
       "      <td>./dataset/images/valid/image0437.png</td>\n",
       "      <td>./dataset/labels/valid/image0437.txt</td>\n",
       "    </tr>\n",
       "    <tr>\n",
       "      <th>266</th>\n",
       "      <td>./syntheticdata/images/image0266.png</td>\n",
       "      <td>./syntheticdata/labels/image0266.txt</td>\n",
       "      <td>./dataset/images/valid/image0266.png</td>\n",
       "      <td>./dataset/labels/valid/image0266.txt</td>\n",
       "    </tr>\n",
       "    <tr>\n",
       "      <th>808</th>\n",
       "      <td>./syntheticdata/images/image0808.png</td>\n",
       "      <td>./syntheticdata/labels/image0808.txt</td>\n",
       "      <td>./dataset/images/valid/image0808.png</td>\n",
       "      <td>./dataset/labels/valid/image0808.txt</td>\n",
       "    </tr>\n",
       "    <tr>\n",
       "      <th>447</th>\n",
       "      <td>./syntheticdata/images/image0447.png</td>\n",
       "      <td>./syntheticdata/labels/image0447.txt</td>\n",
       "      <td>./dataset/images/valid/image0447.png</td>\n",
       "      <td>./dataset/labels/valid/image0447.txt</td>\n",
       "    </tr>\n",
       "    <tr>\n",
       "      <th>713</th>\n",
       "      <td>./syntheticdata/images/image0713.png</td>\n",
       "      <td>./syntheticdata/labels/image0713.txt</td>\n",
       "      <td>./dataset/images/valid/image0713.png</td>\n",
       "      <td>./dataset/labels/valid/image0713.txt</td>\n",
       "    </tr>\n",
       "    <tr>\n",
       "      <th>114</th>\n",
       "      <td>./syntheticdata/images/image0114.png</td>\n",
       "      <td>./syntheticdata/labels/image0114.txt</td>\n",
       "      <td>./dataset/images/valid/image0114.png</td>\n",
       "      <td>./dataset/labels/valid/image0114.txt</td>\n",
       "    </tr>\n",
       "    <tr>\n",
       "      <th>656</th>\n",
       "      <td>./syntheticdata/images/image0656.png</td>\n",
       "      <td>./syntheticdata/labels/image0656.txt</td>\n",
       "      <td>./dataset/images/valid/image0656.png</td>\n",
       "      <td>./dataset/labels/valid/image0656.txt</td>\n",
       "    </tr>\n",
       "    <tr>\n",
       "      <th>985</th>\n",
       "      <td>./syntheticdata/images/image0985.png</td>\n",
       "      <td>./syntheticdata/labels/image0985.txt</td>\n",
       "      <td>./dataset/images/valid/image0985.png</td>\n",
       "      <td>./dataset/labels/valid/image0985.txt</td>\n",
       "    </tr>\n",
       "    <tr>\n",
       "      <th>426</th>\n",
       "      <td>./syntheticdata/images/image0426.png</td>\n",
       "      <td>./syntheticdata/labels/image0426.txt</td>\n",
       "      <td>./dataset/images/valid/image0426.png</td>\n",
       "      <td>./dataset/labels/valid/image0426.txt</td>\n",
       "    </tr>\n",
       "    <tr>\n",
       "      <th>5</th>\n",
       "      <td>./syntheticdata/images/image0005.png</td>\n",
       "      <td>./syntheticdata/labels/image0005.txt</td>\n",
       "      <td>./dataset/images/valid/image0005.png</td>\n",
       "      <td>./dataset/labels/valid/image0005.txt</td>\n",
       "    </tr>\n",
       "    <tr>\n",
       "      <th>640</th>\n",
       "      <td>./syntheticdata/images/image0640.png</td>\n",
       "      <td>./syntheticdata/labels/image0640.txt</td>\n",
       "      <td>./dataset/images/valid/image0640.png</td>\n",
       "      <td>./dataset/labels/valid/image0640.txt</td>\n",
       "    </tr>\n",
       "    <tr>\n",
       "      <th>986</th>\n",
       "      <td>./syntheticdata/images/image0986.png</td>\n",
       "      <td>./syntheticdata/labels/image0986.txt</td>\n",
       "      <td>./dataset/images/valid/image0986.png</td>\n",
       "      <td>./dataset/labels/valid/image0986.txt</td>\n",
       "    </tr>\n",
       "    <tr>\n",
       "      <th>932</th>\n",
       "      <td>./syntheticdata/images/image0932.png</td>\n",
       "      <td>./syntheticdata/labels/image0932.txt</td>\n",
       "      <td>./dataset/images/valid/image0932.png</td>\n",
       "      <td>./dataset/labels/valid/image0932.txt</td>\n",
       "    </tr>\n",
       "    <tr>\n",
       "      <th>41</th>\n",
       "      <td>./syntheticdata/images/image0041.png</td>\n",
       "      <td>./syntheticdata/labels/image0041.txt</td>\n",
       "      <td>./dataset/images/valid/image0041.png</td>\n",
       "      <td>./dataset/labels/valid/image0041.txt</td>\n",
       "    </tr>\n",
       "    <tr>\n",
       "      <th>134</th>\n",
       "      <td>./syntheticdata/images/image0134.png</td>\n",
       "      <td>./syntheticdata/labels/image0134.txt</td>\n",
       "      <td>./dataset/images/valid/image0134.png</td>\n",
       "      <td>./dataset/labels/valid/image0134.txt</td>\n",
       "    </tr>\n",
       "    <tr>\n",
       "      <th>938</th>\n",
       "      <td>./syntheticdata/images/image0938.png</td>\n",
       "      <td>./syntheticdata/labels/image0938.txt</td>\n",
       "      <td>./dataset/images/valid/image0938.png</td>\n",
       "      <td>./dataset/labels/valid/image0938.txt</td>\n",
       "    </tr>\n",
       "    <tr>\n",
       "      <th>814</th>\n",
       "      <td>./syntheticdata/images/image0814.png</td>\n",
       "      <td>./syntheticdata/labels/image0814.txt</td>\n",
       "      <td>./dataset/images/valid/image0814.png</td>\n",
       "      <td>./dataset/labels/valid/image0814.txt</td>\n",
       "    </tr>\n",
       "    <tr>\n",
       "      <th>994</th>\n",
       "      <td>./syntheticdata/images/image0994.png</td>\n",
       "      <td>./syntheticdata/labels/image0994.txt</td>\n",
       "      <td>./dataset/images/valid/image0994.png</td>\n",
       "      <td>./dataset/labels/valid/image0994.txt</td>\n",
       "    </tr>\n",
       "    <tr>\n",
       "      <th>805</th>\n",
       "      <td>./syntheticdata/images/image0805.png</td>\n",
       "      <td>./syntheticdata/labels/image0805.txt</td>\n",
       "      <td>./dataset/images/valid/image0805.png</td>\n",
       "      <td>./dataset/labels/valid/image0805.txt</td>\n",
       "    </tr>\n",
       "    <tr>\n",
       "      <th>558</th>\n",
       "      <td>./syntheticdata/images/image0558.png</td>\n",
       "      <td>./syntheticdata/labels/image0558.txt</td>\n",
       "      <td>./dataset/images/valid/image0558.png</td>\n",
       "      <td>./dataset/labels/valid/image0558.txt</td>\n",
       "    </tr>\n",
       "    <tr>\n",
       "      <th>875</th>\n",
       "      <td>./syntheticdata/images/image0875.png</td>\n",
       "      <td>./syntheticdata/labels/image0875.txt</td>\n",
       "      <td>./dataset/images/valid/image0875.png</td>\n",
       "      <td>./dataset/labels/valid/image0875.txt</td>\n",
       "    </tr>\n",
       "    <tr>\n",
       "      <th>933</th>\n",
       "      <td>./syntheticdata/images/image0933.png</td>\n",
       "      <td>./syntheticdata/labels/image0933.txt</td>\n",
       "      <td>./dataset/images/valid/image0933.png</td>\n",
       "      <td>./dataset/labels/valid/image0933.txt</td>\n",
       "    </tr>\n",
       "    <tr>\n",
       "      <th>861</th>\n",
       "      <td>./syntheticdata/images/image0861.png</td>\n",
       "      <td>./syntheticdata/labels/image0861.txt</td>\n",
       "      <td>./dataset/images/valid/image0861.png</td>\n",
       "      <td>./dataset/labels/valid/image0861.txt</td>\n",
       "    </tr>\n",
       "    <tr>\n",
       "      <th>868</th>\n",
       "      <td>./syntheticdata/images/image0868.png</td>\n",
       "      <td>./syntheticdata/labels/image0868.txt</td>\n",
       "      <td>./dataset/images/valid/image0868.png</td>\n",
       "      <td>./dataset/labels/valid/image0868.txt</td>\n",
       "    </tr>\n",
       "    <tr>\n",
       "      <th>792</th>\n",
       "      <td>./syntheticdata/images/image0792.png</td>\n",
       "      <td>./syntheticdata/labels/image0792.txt</td>\n",
       "      <td>./dataset/images/valid/image0792.png</td>\n",
       "      <td>./dataset/labels/valid/image0792.txt</td>\n",
       "    </tr>\n",
       "    <tr>\n",
       "      <th>928</th>\n",
       "      <td>./syntheticdata/images/image0928.png</td>\n",
       "      <td>./syntheticdata/labels/image0928.txt</td>\n",
       "      <td>./dataset/images/valid/image0928.png</td>\n",
       "      <td>./dataset/labels/valid/image0928.txt</td>\n",
       "    </tr>\n",
       "    <tr>\n",
       "      <th>246</th>\n",
       "      <td>./syntheticdata/images/image0246.png</td>\n",
       "      <td>./syntheticdata/labels/image0246.txt</td>\n",
       "      <td>./dataset/images/valid/image0246.png</td>\n",
       "      <td>./dataset/labels/valid/image0246.txt</td>\n",
       "    </tr>\n",
       "    <tr>\n",
       "      <th>764</th>\n",
       "      <td>./syntheticdata/images/image0764.png</td>\n",
       "      <td>./syntheticdata/labels/image0764.txt</td>\n",
       "      <td>./dataset/images/valid/image0764.png</td>\n",
       "      <td>./dataset/labels/valid/image0764.txt</td>\n",
       "    </tr>\n",
       "    <tr>\n",
       "      <th>939</th>\n",
       "      <td>./syntheticdata/images/image0939.png</td>\n",
       "      <td>./syntheticdata/labels/image0939.txt</td>\n",
       "      <td>./dataset/images/valid/image0939.png</td>\n",
       "      <td>./dataset/labels/valid/image0939.txt</td>\n",
       "    </tr>\n",
       "    <tr>\n",
       "      <th>48</th>\n",
       "      <td>./syntheticdata/images/image0048.png</td>\n",
       "      <td>./syntheticdata/labels/image0048.txt</td>\n",
       "      <td>./dataset/images/valid/image0048.png</td>\n",
       "      <td>./dataset/labels/valid/image0048.txt</td>\n",
       "    </tr>\n",
       "    <tr>\n",
       "      <th>828</th>\n",
       "      <td>./syntheticdata/images/image0828.png</td>\n",
       "      <td>./syntheticdata/labels/image0828.txt</td>\n",
       "      <td>./dataset/images/valid/image0828.png</td>\n",
       "      <td>./dataset/labels/valid/image0828.txt</td>\n",
       "    </tr>\n",
       "    <tr>\n",
       "      <th>616</th>\n",
       "      <td>./syntheticdata/images/image0616.png</td>\n",
       "      <td>./syntheticdata/labels/image0616.txt</td>\n",
       "      <td>./dataset/images/valid/image0616.png</td>\n",
       "      <td>./dataset/labels/valid/image0616.txt</td>\n",
       "    </tr>\n",
       "    <tr>\n",
       "      <th>316</th>\n",
       "      <td>./syntheticdata/images/image0316.png</td>\n",
       "      <td>./syntheticdata/labels/image0316.txt</td>\n",
       "      <td>./dataset/images/valid/image0316.png</td>\n",
       "      <td>./dataset/labels/valid/image0316.txt</td>\n",
       "    </tr>\n",
       "    <tr>\n",
       "      <th>446</th>\n",
       "      <td>./syntheticdata/images/image0446.png</td>\n",
       "      <td>./syntheticdata/labels/image0446.txt</td>\n",
       "      <td>./dataset/images/valid/image0446.png</td>\n",
       "      <td>./dataset/labels/valid/image0446.txt</td>\n",
       "    </tr>\n",
       "    <tr>\n",
       "      <th>313</th>\n",
       "      <td>./syntheticdata/images/image0313.png</td>\n",
       "      <td>./syntheticdata/labels/image0313.txt</td>\n",
       "      <td>./dataset/images/valid/image0313.png</td>\n",
       "      <td>./dataset/labels/valid/image0313.txt</td>\n",
       "    </tr>\n",
       "    <tr>\n",
       "      <th>416</th>\n",
       "      <td>./syntheticdata/images/image0416.png</td>\n",
       "      <td>./syntheticdata/labels/image0416.txt</td>\n",
       "      <td>./dataset/images/valid/image0416.png</td>\n",
       "      <td>./dataset/labels/valid/image0416.txt</td>\n",
       "    </tr>\n",
       "    <tr>\n",
       "      <th>571</th>\n",
       "      <td>./syntheticdata/images/image0571.png</td>\n",
       "      <td>./syntheticdata/labels/image0571.txt</td>\n",
       "      <td>./dataset/images/valid/image0571.png</td>\n",
       "      <td>./dataset/labels/valid/image0571.txt</td>\n",
       "    </tr>\n",
       "    <tr>\n",
       "      <th>921</th>\n",
       "      <td>./syntheticdata/images/image0921.png</td>\n",
       "      <td>./syntheticdata/labels/image0921.txt</td>\n",
       "      <td>./dataset/images/valid/image0921.png</td>\n",
       "      <td>./dataset/labels/valid/image0921.txt</td>\n",
       "    </tr>\n",
       "    <tr>\n",
       "      <th>103</th>\n",
       "      <td>./syntheticdata/images/image0103.png</td>\n",
       "      <td>./syntheticdata/labels/image0103.txt</td>\n",
       "      <td>./dataset/images/valid/image0103.png</td>\n",
       "      <td>./dataset/labels/valid/image0103.txt</td>\n",
       "    </tr>\n",
       "    <tr>\n",
       "      <th>541</th>\n",
       "      <td>./syntheticdata/images/image0541.png</td>\n",
       "      <td>./syntheticdata/labels/image0541.txt</td>\n",
       "      <td>./dataset/images/valid/image0541.png</td>\n",
       "      <td>./dataset/labels/valid/image0541.txt</td>\n",
       "    </tr>\n",
       "    <tr>\n",
       "      <th>891</th>\n",
       "      <td>./syntheticdata/images/image0891.png</td>\n",
       "      <td>./syntheticdata/labels/image0891.txt</td>\n",
       "      <td>./dataset/images/valid/image0891.png</td>\n",
       "      <td>./dataset/labels/valid/image0891.txt</td>\n",
       "    </tr>\n",
       "    <tr>\n",
       "      <th>660</th>\n",
       "      <td>./syntheticdata/images/image0660.png</td>\n",
       "      <td>./syntheticdata/labels/image0660.txt</td>\n",
       "      <td>./dataset/images/valid/image0660.png</td>\n",
       "      <td>./dataset/labels/valid/image0660.txt</td>\n",
       "    </tr>\n",
       "    <tr>\n",
       "      <th>35</th>\n",
       "      <td>./syntheticdata/images/image0035.png</td>\n",
       "      <td>./syntheticdata/labels/image0035.txt</td>\n",
       "      <td>./dataset/images/valid/image0035.png</td>\n",
       "      <td>./dataset/labels/valid/image0035.txt</td>\n",
       "    </tr>\n",
       "    <tr>\n",
       "      <th>869</th>\n",
       "      <td>./syntheticdata/images/image0869.png</td>\n",
       "      <td>./syntheticdata/labels/image0869.txt</td>\n",
       "      <td>./dataset/images/valid/image0869.png</td>\n",
       "      <td>./dataset/labels/valid/image0869.txt</td>\n",
       "    </tr>\n",
       "    <tr>\n",
       "      <th>916</th>\n",
       "      <td>./syntheticdata/images/image0916.png</td>\n",
       "      <td>./syntheticdata/labels/image0916.txt</td>\n",
       "      <td>./dataset/images/valid/image0916.png</td>\n",
       "      <td>./dataset/labels/valid/image0916.txt</td>\n",
       "    </tr>\n",
       "    <tr>\n",
       "      <th>102</th>\n",
       "      <td>./syntheticdata/images/image0102.png</td>\n",
       "      <td>./syntheticdata/labels/image0102.txt</td>\n",
       "      <td>./dataset/images/valid/image0102.png</td>\n",
       "      <td>./dataset/labels/valid/image0102.txt</td>\n",
       "    </tr>\n",
       "    <tr>\n",
       "      <th>791</th>\n",
       "      <td>./syntheticdata/images/image0791.png</td>\n",
       "      <td>./syntheticdata/labels/image0791.txt</td>\n",
       "      <td>./dataset/images/valid/image0791.png</td>\n",
       "      <td>./dataset/labels/valid/image0791.txt</td>\n",
       "    </tr>\n",
       "    <tr>\n",
       "      <th>52</th>\n",
       "      <td>./syntheticdata/images/image0052.png</td>\n",
       "      <td>./syntheticdata/labels/image0052.txt</td>\n",
       "      <td>./dataset/images/valid/image0052.png</td>\n",
       "      <td>./dataset/labels/valid/image0052.txt</td>\n",
       "    </tr>\n",
       "    <tr>\n",
       "      <th>200</th>\n",
       "      <td>./syntheticdata/images/image0200.png</td>\n",
       "      <td>./syntheticdata/labels/image0200.txt</td>\n",
       "      <td>./dataset/images/valid/image0200.png</td>\n",
       "      <td>./dataset/labels/valid/image0200.txt</td>\n",
       "    </tr>\n",
       "    <tr>\n",
       "      <th>4</th>\n",
       "      <td>./syntheticdata/images/image0004.png</td>\n",
       "      <td>./syntheticdata/labels/image0004.txt</td>\n",
       "      <td>./dataset/images/valid/image0004.png</td>\n",
       "      <td>./dataset/labels/valid/image0004.txt</td>\n",
       "    </tr>\n",
       "    <tr>\n",
       "      <th>953</th>\n",
       "      <td>./syntheticdata/images/image0953.png</td>\n",
       "      <td>./syntheticdata/labels/image0953.txt</td>\n",
       "      <td>./dataset/images/valid/image0953.png</td>\n",
       "      <td>./dataset/labels/valid/image0953.txt</td>\n",
       "    </tr>\n",
       "    <tr>\n",
       "      <th>453</th>\n",
       "      <td>./syntheticdata/images/image0453.png</td>\n",
       "      <td>./syntheticdata/labels/image0453.txt</td>\n",
       "      <td>./dataset/images/valid/image0453.png</td>\n",
       "      <td>./dataset/labels/valid/image0453.txt</td>\n",
       "    </tr>\n",
       "    <tr>\n",
       "      <th>714</th>\n",
       "      <td>./syntheticdata/images/image0714.png</td>\n",
       "      <td>./syntheticdata/labels/image0714.txt</td>\n",
       "      <td>./dataset/images/valid/image0714.png</td>\n",
       "      <td>./dataset/labels/valid/image0714.txt</td>\n",
       "    </tr>\n",
       "    <tr>\n",
       "      <th>476</th>\n",
       "      <td>./syntheticdata/images/image0476.png</td>\n",
       "      <td>./syntheticdata/labels/image0476.txt</td>\n",
       "      <td>./dataset/images/valid/image0476.png</td>\n",
       "      <td>./dataset/labels/valid/image0476.txt</td>\n",
       "    </tr>\n",
       "    <tr>\n",
       "      <th>470</th>\n",
       "      <td>./syntheticdata/images/image0470.png</td>\n",
       "      <td>./syntheticdata/labels/image0470.txt</td>\n",
       "      <td>./dataset/images/valid/image0470.png</td>\n",
       "      <td>./dataset/labels/valid/image0470.txt</td>\n",
       "    </tr>\n",
       "    <tr>\n",
       "      <th>599</th>\n",
       "      <td>./syntheticdata/images/image0599.png</td>\n",
       "      <td>./syntheticdata/labels/image0599.txt</td>\n",
       "      <td>./dataset/images/valid/image0599.png</td>\n",
       "      <td>./dataset/labels/valid/image0599.txt</td>\n",
       "    </tr>\n",
       "    <tr>\n",
       "      <th>646</th>\n",
       "      <td>./syntheticdata/images/image0646.png</td>\n",
       "      <td>./syntheticdata/labels/image0646.txt</td>\n",
       "      <td>./dataset/images/valid/image0646.png</td>\n",
       "      <td>./dataset/labels/valid/image0646.txt</td>\n",
       "    </tr>\n",
       "    <tr>\n",
       "      <th>235</th>\n",
       "      <td>./syntheticdata/images/image0235.png</td>\n",
       "      <td>./syntheticdata/labels/image0235.txt</td>\n",
       "      <td>./dataset/images/valid/image0235.png</td>\n",
       "      <td>./dataset/labels/valid/image0235.txt</td>\n",
       "    </tr>\n",
       "    <tr>\n",
       "      <th>793</th>\n",
       "      <td>./syntheticdata/images/image0793.png</td>\n",
       "      <td>./syntheticdata/labels/image0793.txt</td>\n",
       "      <td>./dataset/images/valid/image0793.png</td>\n",
       "      <td>./dataset/labels/valid/image0793.txt</td>\n",
       "    </tr>\n",
       "    <tr>\n",
       "      <th>972</th>\n",
       "      <td>./syntheticdata/images/image0972.png</td>\n",
       "      <td>./syntheticdata/labels/image0972.txt</td>\n",
       "      <td>./dataset/images/valid/image0972.png</td>\n",
       "      <td>./dataset/labels/valid/image0972.txt</td>\n",
       "    </tr>\n",
       "    <tr>\n",
       "      <th>298</th>\n",
       "      <td>./syntheticdata/images/image0298.png</td>\n",
       "      <td>./syntheticdata/labels/image0298.txt</td>\n",
       "      <td>./dataset/images/valid/image0298.png</td>\n",
       "      <td>./dataset/labels/valid/image0298.txt</td>\n",
       "    </tr>\n",
       "    <tr>\n",
       "      <th>856</th>\n",
       "      <td>./syntheticdata/images/image0856.png</td>\n",
       "      <td>./syntheticdata/labels/image0856.txt</td>\n",
       "      <td>./dataset/images/valid/image0856.png</td>\n",
       "      <td>./dataset/labels/valid/image0856.txt</td>\n",
       "    </tr>\n",
       "    <tr>\n",
       "      <th>261</th>\n",
       "      <td>./syntheticdata/images/image0261.png</td>\n",
       "      <td>./syntheticdata/labels/image0261.txt</td>\n",
       "      <td>./dataset/images/valid/image0261.png</td>\n",
       "      <td>./dataset/labels/valid/image0261.txt</td>\n",
       "    </tr>\n",
       "    <tr>\n",
       "      <th>57</th>\n",
       "      <td>./syntheticdata/images/image0057.png</td>\n",
       "      <td>./syntheticdata/labels/image0057.txt</td>\n",
       "      <td>./dataset/images/valid/image0057.png</td>\n",
       "      <td>./dataset/labels/valid/image0057.txt</td>\n",
       "    </tr>\n",
       "    <tr>\n",
       "      <th>164</th>\n",
       "      <td>./syntheticdata/images/image0164.png</td>\n",
       "      <td>./syntheticdata/labels/image0164.txt</td>\n",
       "      <td>./dataset/images/valid/image0164.png</td>\n",
       "      <td>./dataset/labels/valid/image0164.txt</td>\n",
       "    </tr>\n",
       "    <tr>\n",
       "      <th>758</th>\n",
       "      <td>./syntheticdata/images/image0758.png</td>\n",
       "      <td>./syntheticdata/labels/image0758.txt</td>\n",
       "      <td>./dataset/images/valid/image0758.png</td>\n",
       "      <td>./dataset/labels/valid/image0758.txt</td>\n",
       "    </tr>\n",
       "    <tr>\n",
       "      <th>696</th>\n",
       "      <td>./syntheticdata/images/image0696.png</td>\n",
       "      <td>./syntheticdata/labels/image0696.txt</td>\n",
       "      <td>./dataset/images/valid/image0696.png</td>\n",
       "      <td>./dataset/labels/valid/image0696.txt</td>\n",
       "    </tr>\n",
       "    <tr>\n",
       "      <th>55</th>\n",
       "      <td>./syntheticdata/images/image0055.png</td>\n",
       "      <td>./syntheticdata/labels/image0055.txt</td>\n",
       "      <td>./dataset/images/valid/image0055.png</td>\n",
       "      <td>./dataset/labels/valid/image0055.txt</td>\n",
       "    </tr>\n",
       "    <tr>\n",
       "      <th>966</th>\n",
       "      <td>./syntheticdata/images/image0966.png</td>\n",
       "      <td>./syntheticdata/labels/image0966.txt</td>\n",
       "      <td>./dataset/images/valid/image0966.png</td>\n",
       "      <td>./dataset/labels/valid/image0966.txt</td>\n",
       "    </tr>\n",
       "    <tr>\n",
       "      <th>28</th>\n",
       "      <td>./syntheticdata/images/image0028.png</td>\n",
       "      <td>./syntheticdata/labels/image0028.txt</td>\n",
       "      <td>./dataset/images/valid/image0028.png</td>\n",
       "      <td>./dataset/labels/valid/image0028.txt</td>\n",
       "    </tr>\n",
       "    <tr>\n",
       "      <th>923</th>\n",
       "      <td>./syntheticdata/images/image0923.png</td>\n",
       "      <td>./syntheticdata/labels/image0923.txt</td>\n",
       "      <td>./dataset/images/valid/image0923.png</td>\n",
       "      <td>./dataset/labels/valid/image0923.txt</td>\n",
       "    </tr>\n",
       "    <tr>\n",
       "      <th>188</th>\n",
       "      <td>./syntheticdata/images/image0188.png</td>\n",
       "      <td>./syntheticdata/labels/image0188.txt</td>\n",
       "      <td>./dataset/images/valid/image0188.png</td>\n",
       "      <td>./dataset/labels/valid/image0188.txt</td>\n",
       "    </tr>\n",
       "    <tr>\n",
       "      <th>669</th>\n",
       "      <td>./syntheticdata/images/image0669.png</td>\n",
       "      <td>./syntheticdata/labels/image0669.txt</td>\n",
       "      <td>./dataset/images/valid/image0669.png</td>\n",
       "      <td>./dataset/labels/valid/image0669.txt</td>\n",
       "    </tr>\n",
       "    <tr>\n",
       "      <th>688</th>\n",
       "      <td>./syntheticdata/images/image0688.png</td>\n",
       "      <td>./syntheticdata/labels/image0688.txt</td>\n",
       "      <td>./dataset/images/valid/image0688.png</td>\n",
       "      <td>./dataset/labels/valid/image0688.txt</td>\n",
       "    </tr>\n",
       "    <tr>\n",
       "      <th>375</th>\n",
       "      <td>./syntheticdata/images/image0375.png</td>\n",
       "      <td>./syntheticdata/labels/image0375.txt</td>\n",
       "      <td>./dataset/images/valid/image0375.png</td>\n",
       "      <td>./dataset/labels/valid/image0375.txt</td>\n",
       "    </tr>\n",
       "    <tr>\n",
       "      <th>798</th>\n",
       "      <td>./syntheticdata/images/image0798.png</td>\n",
       "      <td>./syntheticdata/labels/image0798.txt</td>\n",
       "      <td>./dataset/images/valid/image0798.png</td>\n",
       "      <td>./dataset/labels/valid/image0798.txt</td>\n",
       "    </tr>\n",
       "    <tr>\n",
       "      <th>308</th>\n",
       "      <td>./syntheticdata/images/image0308.png</td>\n",
       "      <td>./syntheticdata/labels/image0308.txt</td>\n",
       "      <td>./dataset/images/valid/image0308.png</td>\n",
       "      <td>./dataset/labels/valid/image0308.txt</td>\n",
       "    </tr>\n",
       "    <tr>\n",
       "      <th>54</th>\n",
       "      <td>./syntheticdata/images/image0054.png</td>\n",
       "      <td>./syntheticdata/labels/image0054.txt</td>\n",
       "      <td>./dataset/images/valid/image0054.png</td>\n",
       "      <td>./dataset/labels/valid/image0054.txt</td>\n",
       "    </tr>\n",
       "    <tr>\n",
       "      <th>117</th>\n",
       "      <td>./syntheticdata/images/image0117.png</td>\n",
       "      <td>./syntheticdata/labels/image0117.txt</td>\n",
       "      <td>./dataset/images/valid/image0117.png</td>\n",
       "      <td>./dataset/labels/valid/image0117.txt</td>\n",
       "    </tr>\n",
       "    <tr>\n",
       "      <th>692</th>\n",
       "      <td>./syntheticdata/images/image0692.png</td>\n",
       "      <td>./syntheticdata/labels/image0692.txt</td>\n",
       "      <td>./dataset/images/valid/image0692.png</td>\n",
       "      <td>./dataset/labels/valid/image0692.txt</td>\n",
       "    </tr>\n",
       "    <tr>\n",
       "      <th>204</th>\n",
       "      <td>./syntheticdata/images/image0204.png</td>\n",
       "      <td>./syntheticdata/labels/image0204.txt</td>\n",
       "      <td>./dataset/images/valid/image0204.png</td>\n",
       "      <td>./dataset/labels/valid/image0204.txt</td>\n",
       "    </tr>\n",
       "    <tr>\n",
       "      <th>898</th>\n",
       "      <td>./syntheticdata/images/image0898.png</td>\n",
       "      <td>./syntheticdata/labels/image0898.txt</td>\n",
       "      <td>./dataset/images/valid/image0898.png</td>\n",
       "      <td>./dataset/labels/valid/image0898.txt</td>\n",
       "    </tr>\n",
       "    <tr>\n",
       "      <th>303</th>\n",
       "      <td>./syntheticdata/images/image0303.png</td>\n",
       "      <td>./syntheticdata/labels/image0303.txt</td>\n",
       "      <td>./dataset/images/valid/image0303.png</td>\n",
       "      <td>./dataset/labels/valid/image0303.txt</td>\n",
       "    </tr>\n",
       "    <tr>\n",
       "      <th>260</th>\n",
       "      <td>./syntheticdata/images/image0260.png</td>\n",
       "      <td>./syntheticdata/labels/image0260.txt</td>\n",
       "      <td>./dataset/images/valid/image0260.png</td>\n",
       "      <td>./dataset/labels/valid/image0260.txt</td>\n",
       "    </tr>\n",
       "    <tr>\n",
       "      <th>31</th>\n",
       "      <td>./syntheticdata/images/image0031.png</td>\n",
       "      <td>./syntheticdata/labels/image0031.txt</td>\n",
       "      <td>./dataset/images/valid/image0031.png</td>\n",
       "      <td>./dataset/labels/valid/image0031.txt</td>\n",
       "    </tr>\n",
       "    <tr>\n",
       "      <th>485</th>\n",
       "      <td>./syntheticdata/images/image0485.png</td>\n",
       "      <td>./syntheticdata/labels/image0485.txt</td>\n",
       "      <td>./dataset/images/valid/image0485.png</td>\n",
       "      <td>./dataset/labels/valid/image0485.txt</td>\n",
       "    </tr>\n",
       "    <tr>\n",
       "      <th>859</th>\n",
       "      <td>./syntheticdata/images/image0859.png</td>\n",
       "      <td>./syntheticdata/labels/image0859.txt</td>\n",
       "      <td>./dataset/images/valid/image0859.png</td>\n",
       "      <td>./dataset/labels/valid/image0859.txt</td>\n",
       "    </tr>\n",
       "    <tr>\n",
       "      <th>36</th>\n",
       "      <td>./syntheticdata/images/image0036.png</td>\n",
       "      <td>./syntheticdata/labels/image0036.txt</td>\n",
       "      <td>./dataset/images/valid/image0036.png</td>\n",
       "      <td>./dataset/labels/valid/image0036.txt</td>\n",
       "    </tr>\n",
       "    <tr>\n",
       "      <th>162</th>\n",
       "      <td>./syntheticdata/images/image0162.png</td>\n",
       "      <td>./syntheticdata/labels/image0162.txt</td>\n",
       "      <td>./dataset/images/valid/image0162.png</td>\n",
       "      <td>./dataset/labels/valid/image0162.txt</td>\n",
       "    </tr>\n",
       "    <tr>\n",
       "      <th>482</th>\n",
       "      <td>./syntheticdata/images/image0482.png</td>\n",
       "      <td>./syntheticdata/labels/image0482.txt</td>\n",
       "      <td>./dataset/images/valid/image0482.png</td>\n",
       "      <td>./dataset/labels/valid/image0482.txt</td>\n",
       "    </tr>\n",
       "    <tr>\n",
       "      <th>807</th>\n",
       "      <td>./syntheticdata/images/image0807.png</td>\n",
       "      <td>./syntheticdata/labels/image0807.txt</td>\n",
       "      <td>./dataset/images/valid/image0807.png</td>\n",
       "      <td>./dataset/labels/valid/image0807.txt</td>\n",
       "    </tr>\n",
       "    <tr>\n",
       "      <th>845</th>\n",
       "      <td>./syntheticdata/images/image0845.png</td>\n",
       "      <td>./syntheticdata/labels/image0845.txt</td>\n",
       "      <td>./dataset/images/valid/image0845.png</td>\n",
       "      <td>./dataset/labels/valid/image0845.txt</td>\n",
       "    </tr>\n",
       "    <tr>\n",
       "      <th>835</th>\n",
       "      <td>./syntheticdata/images/image0835.png</td>\n",
       "      <td>./syntheticdata/labels/image0835.txt</td>\n",
       "      <td>./dataset/images/valid/image0835.png</td>\n",
       "      <td>./dataset/labels/valid/image0835.txt</td>\n",
       "    </tr>\n",
       "    <tr>\n",
       "      <th>922</th>\n",
       "      <td>./syntheticdata/images/image0922.png</td>\n",
       "      <td>./syntheticdata/labels/image0922.txt</td>\n",
       "      <td>./dataset/images/valid/image0922.png</td>\n",
       "      <td>./dataset/labels/valid/image0922.txt</td>\n",
       "    </tr>\n",
       "    <tr>\n",
       "      <th>744</th>\n",
       "      <td>./syntheticdata/images/image0744.png</td>\n",
       "      <td>./syntheticdata/labels/image0744.txt</td>\n",
       "      <td>./dataset/images/valid/image0744.png</td>\n",
       "      <td>./dataset/labels/valid/image0744.txt</td>\n",
       "    </tr>\n",
       "    <tr>\n",
       "      <th>384</th>\n",
       "      <td>./syntheticdata/images/image0384.png</td>\n",
       "      <td>./syntheticdata/labels/image0384.txt</td>\n",
       "      <td>./dataset/images/valid/image0384.png</td>\n",
       "      <td>./dataset/labels/valid/image0384.txt</td>\n",
       "    </tr>\n",
       "    <tr>\n",
       "      <th>749</th>\n",
       "      <td>./syntheticdata/images/image0749.png</td>\n",
       "      <td>./syntheticdata/labels/image0749.txt</td>\n",
       "      <td>./dataset/images/valid/image0749.png</td>\n",
       "      <td>./dataset/labels/valid/image0749.txt</td>\n",
       "    </tr>\n",
       "    <tr>\n",
       "      <th>100</th>\n",
       "      <td>./syntheticdata/images/image0100.png</td>\n",
       "      <td>./syntheticdata/labels/image0100.txt</td>\n",
       "      <td>./dataset/images/valid/image0100.png</td>\n",
       "      <td>./dataset/labels/valid/image0100.txt</td>\n",
       "    </tr>\n",
       "    <tr>\n",
       "      <th>689</th>\n",
       "      <td>./syntheticdata/images/image0689.png</td>\n",
       "      <td>./syntheticdata/labels/image0689.txt</td>\n",
       "      <td>./dataset/images/valid/image0689.png</td>\n",
       "      <td>./dataset/labels/valid/image0689.txt</td>\n",
       "    </tr>\n",
       "    <tr>\n",
       "      <th>226</th>\n",
       "      <td>./syntheticdata/images/image0226.png</td>\n",
       "      <td>./syntheticdata/labels/image0226.txt</td>\n",
       "      <td>./dataset/images/valid/image0226.png</td>\n",
       "      <td>./dataset/labels/valid/image0226.txt</td>\n",
       "    </tr>\n",
       "    <tr>\n",
       "      <th>456</th>\n",
       "      <td>./syntheticdata/images/image0456.png</td>\n",
       "      <td>./syntheticdata/labels/image0456.txt</td>\n",
       "      <td>./dataset/images/valid/image0456.png</td>\n",
       "      <td>./dataset/labels/valid/image0456.txt</td>\n",
       "    </tr>\n",
       "    <tr>\n",
       "      <th>397</th>\n",
       "      <td>./syntheticdata/images/image0397.png</td>\n",
       "      <td>./syntheticdata/labels/image0397.txt</td>\n",
       "      <td>./dataset/images/valid/image0397.png</td>\n",
       "      <td>./dataset/labels/valid/image0397.txt</td>\n",
       "    </tr>\n",
       "    <tr>\n",
       "      <th>674</th>\n",
       "      <td>./syntheticdata/images/image0674.png</td>\n",
       "      <td>./syntheticdata/labels/image0674.txt</td>\n",
       "      <td>./dataset/images/valid/image0674.png</td>\n",
       "      <td>./dataset/labels/valid/image0674.txt</td>\n",
       "    </tr>\n",
       "    <tr>\n",
       "      <th>267</th>\n",
       "      <td>./syntheticdata/images/image0267.png</td>\n",
       "      <td>./syntheticdata/labels/image0267.txt</td>\n",
       "      <td>./dataset/images/valid/image0267.png</td>\n",
       "      <td>./dataset/labels/valid/image0267.txt</td>\n",
       "    </tr>\n",
       "    <tr>\n",
       "      <th>373</th>\n",
       "      <td>./syntheticdata/images/image0373.png</td>\n",
       "      <td>./syntheticdata/labels/image0373.txt</td>\n",
       "      <td>./dataset/images/valid/image0373.png</td>\n",
       "      <td>./dataset/labels/valid/image0373.txt</td>\n",
       "    </tr>\n",
       "    <tr>\n",
       "      <th>677</th>\n",
       "      <td>./syntheticdata/images/image0677.png</td>\n",
       "      <td>./syntheticdata/labels/image0677.txt</td>\n",
       "      <td>./dataset/images/valid/image0677.png</td>\n",
       "      <td>./dataset/labels/valid/image0677.txt</td>\n",
       "    </tr>\n",
       "    <tr>\n",
       "      <th>931</th>\n",
       "      <td>./syntheticdata/images/image0931.png</td>\n",
       "      <td>./syntheticdata/labels/image0931.txt</td>\n",
       "      <td>./dataset/images/valid/image0931.png</td>\n",
       "      <td>./dataset/labels/valid/image0931.txt</td>\n",
       "    </tr>\n",
       "    <tr>\n",
       "      <th>185</th>\n",
       "      <td>./syntheticdata/images/image0185.png</td>\n",
       "      <td>./syntheticdata/labels/image0185.txt</td>\n",
       "      <td>./dataset/images/valid/image0185.png</td>\n",
       "      <td>./dataset/labels/valid/image0185.txt</td>\n",
       "    </tr>\n",
       "    <tr>\n",
       "      <th>335</th>\n",
       "      <td>./syntheticdata/images/image0335.png</td>\n",
       "      <td>./syntheticdata/labels/image0335.txt</td>\n",
       "      <td>./dataset/images/valid/image0335.png</td>\n",
       "      <td>./dataset/labels/valid/image0335.txt</td>\n",
       "    </tr>\n",
       "    <tr>\n",
       "      <th>811</th>\n",
       "      <td>./syntheticdata/images/image0811.png</td>\n",
       "      <td>./syntheticdata/labels/image0811.txt</td>\n",
       "      <td>./dataset/images/valid/image0811.png</td>\n",
       "      <td>./dataset/labels/valid/image0811.txt</td>\n",
       "    </tr>\n",
       "    <tr>\n",
       "      <th>388</th>\n",
       "      <td>./syntheticdata/images/image0388.png</td>\n",
       "      <td>./syntheticdata/labels/image0388.txt</td>\n",
       "      <td>./dataset/images/valid/image0388.png</td>\n",
       "      <td>./dataset/labels/valid/image0388.txt</td>\n",
       "    </tr>\n",
       "    <tr>\n",
       "      <th>78</th>\n",
       "      <td>./syntheticdata/images/image0078.png</td>\n",
       "      <td>./syntheticdata/labels/image0078.txt</td>\n",
       "      <td>./dataset/images/valid/image0078.png</td>\n",
       "      <td>./dataset/labels/valid/image0078.txt</td>\n",
       "    </tr>\n",
       "    <tr>\n",
       "      <th>769</th>\n",
       "      <td>./syntheticdata/images/image0769.png</td>\n",
       "      <td>./syntheticdata/labels/image0769.txt</td>\n",
       "      <td>./dataset/images/valid/image0769.png</td>\n",
       "      <td>./dataset/labels/valid/image0769.txt</td>\n",
       "    </tr>\n",
       "    <tr>\n",
       "      <th>751</th>\n",
       "      <td>./syntheticdata/images/image0751.png</td>\n",
       "      <td>./syntheticdata/labels/image0751.txt</td>\n",
       "      <td>./dataset/images/valid/image0751.png</td>\n",
       "      <td>./dataset/labels/valid/image0751.txt</td>\n",
       "    </tr>\n",
       "    <tr>\n",
       "      <th>344</th>\n",
       "      <td>./syntheticdata/images/image0344.png</td>\n",
       "      <td>./syntheticdata/labels/image0344.txt</td>\n",
       "      <td>./dataset/images/valid/image0344.png</td>\n",
       "      <td>./dataset/labels/valid/image0344.txt</td>\n",
       "    </tr>\n",
       "    <tr>\n",
       "      <th>79</th>\n",
       "      <td>./syntheticdata/images/image0079.png</td>\n",
       "      <td>./syntheticdata/labels/image0079.txt</td>\n",
       "      <td>./dataset/images/valid/image0079.png</td>\n",
       "      <td>./dataset/labels/valid/image0079.txt</td>\n",
       "    </tr>\n",
       "    <tr>\n",
       "      <th>177</th>\n",
       "      <td>./syntheticdata/images/image0177.png</td>\n",
       "      <td>./syntheticdata/labels/image0177.txt</td>\n",
       "      <td>./dataset/images/valid/image0177.png</td>\n",
       "      <td>./dataset/labels/valid/image0177.txt</td>\n",
       "    </tr>\n",
       "    <tr>\n",
       "      <th>657</th>\n",
       "      <td>./syntheticdata/images/image0657.png</td>\n",
       "      <td>./syntheticdata/labels/image0657.txt</td>\n",
       "      <td>./dataset/images/valid/image0657.png</td>\n",
       "      <td>./dataset/labels/valid/image0657.txt</td>\n",
       "    </tr>\n",
       "    <tr>\n",
       "      <th>210</th>\n",
       "      <td>./syntheticdata/images/image0210.png</td>\n",
       "      <td>./syntheticdata/labels/image0210.txt</td>\n",
       "      <td>./dataset/images/valid/image0210.png</td>\n",
       "      <td>./dataset/labels/valid/image0210.txt</td>\n",
       "    </tr>\n",
       "    <tr>\n",
       "      <th>381</th>\n",
       "      <td>./syntheticdata/images/image0381.png</td>\n",
       "      <td>./syntheticdata/labels/image0381.txt</td>\n",
       "      <td>./dataset/images/valid/image0381.png</td>\n",
       "      <td>./dataset/labels/valid/image0381.txt</td>\n",
       "    </tr>\n",
       "  </tbody>\n",
       "</table>\n",
       "</div>"
      ],
      "text/plain": [
       "                                    image  \\\n",
       "131  ./syntheticdata/images/image0131.png   \n",
       "203  ./syntheticdata/images/image0203.png   \n",
       "50   ./syntheticdata/images/image0050.png   \n",
       "585  ./syntheticdata/images/image0585.png   \n",
       "138  ./syntheticdata/images/image0138.png   \n",
       "632  ./syntheticdata/images/image0632.png   \n",
       "328  ./syntheticdata/images/image0328.png   \n",
       "461  ./syntheticdata/images/image0461.png   \n",
       "924  ./syntheticdata/images/image0924.png   \n",
       "479  ./syntheticdata/images/image0479.png   \n",
       "195  ./syntheticdata/images/image0195.png   \n",
       "221  ./syntheticdata/images/image0221.png   \n",
       "209  ./syntheticdata/images/image0209.png   \n",
       "378  ./syntheticdata/images/image0378.png   \n",
       "156  ./syntheticdata/images/image0156.png   \n",
       "327  ./syntheticdata/images/image0327.png   \n",
       "761  ./syntheticdata/images/image0761.png   \n",
       "320  ./syntheticdata/images/image0320.png   \n",
       "274  ./syntheticdata/images/image0274.png   \n",
       "417  ./syntheticdata/images/image0417.png   \n",
       "372  ./syntheticdata/images/image0372.png   \n",
       "299  ./syntheticdata/images/image0299.png   \n",
       "229  ./syntheticdata/images/image0229.png   \n",
       "896  ./syntheticdata/images/image0896.png   \n",
       "594  ./syntheticdata/images/image0594.png   \n",
       "983  ./syntheticdata/images/image0983.png   \n",
       "736  ./syntheticdata/images/image0736.png   \n",
       "85   ./syntheticdata/images/image0085.png   \n",
       "882  ./syntheticdata/images/image0882.png   \n",
       "7    ./syntheticdata/images/image0007.png   \n",
       "722  ./syntheticdata/images/image0722.png   \n",
       "43   ./syntheticdata/images/image0043.png   \n",
       "566  ./syntheticdata/images/image0566.png   \n",
       "317  ./syntheticdata/images/image0317.png   \n",
       "874  ./syntheticdata/images/image0874.png   \n",
       "743  ./syntheticdata/images/image0743.png   \n",
       "353  ./syntheticdata/images/image0353.png   \n",
       "145  ./syntheticdata/images/image0145.png   \n",
       "346  ./syntheticdata/images/image0346.png   \n",
       "590  ./syntheticdata/images/image0590.png   \n",
       "771  ./syntheticdata/images/image0771.png   \n",
       "336  ./syntheticdata/images/image0336.png   \n",
       "633  ./syntheticdata/images/image0633.png   \n",
       "310  ./syntheticdata/images/image0310.png   \n",
       "693  ./syntheticdata/images/image0693.png   \n",
       "691  ./syntheticdata/images/image0691.png   \n",
       "338  ./syntheticdata/images/image0338.png   \n",
       "901  ./syntheticdata/images/image0901.png   \n",
       "318  ./syntheticdata/images/image0318.png   \n",
       "352  ./syntheticdata/images/image0352.png   \n",
       "161  ./syntheticdata/images/image0161.png   \n",
       "542  ./syntheticdata/images/image0542.png   \n",
       "786  ./syntheticdata/images/image0786.png   \n",
       "917  ./syntheticdata/images/image0917.png   \n",
       "387  ./syntheticdata/images/image0387.png   \n",
       "196  ./syntheticdata/images/image0196.png   \n",
       "648  ./syntheticdata/images/image0648.png   \n",
       "167  ./syntheticdata/images/image0167.png   \n",
       "597  ./syntheticdata/images/image0597.png   \n",
       "392  ./syntheticdata/images/image0392.png   \n",
       "803  ./syntheticdata/images/image0803.png   \n",
       "536  ./syntheticdata/images/image0536.png   \n",
       "172  ./syntheticdata/images/image0172.png   \n",
       "830  ./syntheticdata/images/image0830.png   \n",
       "182  ./syntheticdata/images/image0182.png   \n",
       "702  ./syntheticdata/images/image0702.png   \n",
       "784  ./syntheticdata/images/image0784.png   \n",
       "613  ./syntheticdata/images/image0613.png   \n",
       "965  ./syntheticdata/images/image0965.png   \n",
       "171  ./syntheticdata/images/image0171.png   \n",
       "345  ./syntheticdata/images/image0345.png   \n",
       "822  ./syntheticdata/images/image0822.png   \n",
       "877  ./syntheticdata/images/image0877.png   \n",
       "147  ./syntheticdata/images/image0147.png   \n",
       "548  ./syntheticdata/images/image0548.png   \n",
       "642  ./syntheticdata/images/image0642.png   \n",
       "971  ./syntheticdata/images/image0971.png   \n",
       "934  ./syntheticdata/images/image0934.png   \n",
       "184  ./syntheticdata/images/image0184.png   \n",
       "607  ./syntheticdata/images/image0607.png   \n",
       "437  ./syntheticdata/images/image0437.png   \n",
       "266  ./syntheticdata/images/image0266.png   \n",
       "808  ./syntheticdata/images/image0808.png   \n",
       "447  ./syntheticdata/images/image0447.png   \n",
       "713  ./syntheticdata/images/image0713.png   \n",
       "114  ./syntheticdata/images/image0114.png   \n",
       "656  ./syntheticdata/images/image0656.png   \n",
       "985  ./syntheticdata/images/image0985.png   \n",
       "426  ./syntheticdata/images/image0426.png   \n",
       "5    ./syntheticdata/images/image0005.png   \n",
       "640  ./syntheticdata/images/image0640.png   \n",
       "986  ./syntheticdata/images/image0986.png   \n",
       "932  ./syntheticdata/images/image0932.png   \n",
       "41   ./syntheticdata/images/image0041.png   \n",
       "134  ./syntheticdata/images/image0134.png   \n",
       "938  ./syntheticdata/images/image0938.png   \n",
       "814  ./syntheticdata/images/image0814.png   \n",
       "994  ./syntheticdata/images/image0994.png   \n",
       "805  ./syntheticdata/images/image0805.png   \n",
       "558  ./syntheticdata/images/image0558.png   \n",
       "875  ./syntheticdata/images/image0875.png   \n",
       "933  ./syntheticdata/images/image0933.png   \n",
       "861  ./syntheticdata/images/image0861.png   \n",
       "868  ./syntheticdata/images/image0868.png   \n",
       "792  ./syntheticdata/images/image0792.png   \n",
       "928  ./syntheticdata/images/image0928.png   \n",
       "246  ./syntheticdata/images/image0246.png   \n",
       "764  ./syntheticdata/images/image0764.png   \n",
       "939  ./syntheticdata/images/image0939.png   \n",
       "48   ./syntheticdata/images/image0048.png   \n",
       "828  ./syntheticdata/images/image0828.png   \n",
       "616  ./syntheticdata/images/image0616.png   \n",
       "316  ./syntheticdata/images/image0316.png   \n",
       "446  ./syntheticdata/images/image0446.png   \n",
       "313  ./syntheticdata/images/image0313.png   \n",
       "416  ./syntheticdata/images/image0416.png   \n",
       "571  ./syntheticdata/images/image0571.png   \n",
       "921  ./syntheticdata/images/image0921.png   \n",
       "103  ./syntheticdata/images/image0103.png   \n",
       "541  ./syntheticdata/images/image0541.png   \n",
       "891  ./syntheticdata/images/image0891.png   \n",
       "660  ./syntheticdata/images/image0660.png   \n",
       "35   ./syntheticdata/images/image0035.png   \n",
       "869  ./syntheticdata/images/image0869.png   \n",
       "916  ./syntheticdata/images/image0916.png   \n",
       "102  ./syntheticdata/images/image0102.png   \n",
       "791  ./syntheticdata/images/image0791.png   \n",
       "52   ./syntheticdata/images/image0052.png   \n",
       "200  ./syntheticdata/images/image0200.png   \n",
       "4    ./syntheticdata/images/image0004.png   \n",
       "953  ./syntheticdata/images/image0953.png   \n",
       "453  ./syntheticdata/images/image0453.png   \n",
       "714  ./syntheticdata/images/image0714.png   \n",
       "476  ./syntheticdata/images/image0476.png   \n",
       "470  ./syntheticdata/images/image0470.png   \n",
       "599  ./syntheticdata/images/image0599.png   \n",
       "646  ./syntheticdata/images/image0646.png   \n",
       "235  ./syntheticdata/images/image0235.png   \n",
       "793  ./syntheticdata/images/image0793.png   \n",
       "972  ./syntheticdata/images/image0972.png   \n",
       "298  ./syntheticdata/images/image0298.png   \n",
       "856  ./syntheticdata/images/image0856.png   \n",
       "261  ./syntheticdata/images/image0261.png   \n",
       "57   ./syntheticdata/images/image0057.png   \n",
       "164  ./syntheticdata/images/image0164.png   \n",
       "758  ./syntheticdata/images/image0758.png   \n",
       "696  ./syntheticdata/images/image0696.png   \n",
       "55   ./syntheticdata/images/image0055.png   \n",
       "966  ./syntheticdata/images/image0966.png   \n",
       "28   ./syntheticdata/images/image0028.png   \n",
       "923  ./syntheticdata/images/image0923.png   \n",
       "188  ./syntheticdata/images/image0188.png   \n",
       "669  ./syntheticdata/images/image0669.png   \n",
       "688  ./syntheticdata/images/image0688.png   \n",
       "375  ./syntheticdata/images/image0375.png   \n",
       "798  ./syntheticdata/images/image0798.png   \n",
       "308  ./syntheticdata/images/image0308.png   \n",
       "54   ./syntheticdata/images/image0054.png   \n",
       "117  ./syntheticdata/images/image0117.png   \n",
       "692  ./syntheticdata/images/image0692.png   \n",
       "204  ./syntheticdata/images/image0204.png   \n",
       "898  ./syntheticdata/images/image0898.png   \n",
       "303  ./syntheticdata/images/image0303.png   \n",
       "260  ./syntheticdata/images/image0260.png   \n",
       "31   ./syntheticdata/images/image0031.png   \n",
       "485  ./syntheticdata/images/image0485.png   \n",
       "859  ./syntheticdata/images/image0859.png   \n",
       "36   ./syntheticdata/images/image0036.png   \n",
       "162  ./syntheticdata/images/image0162.png   \n",
       "482  ./syntheticdata/images/image0482.png   \n",
       "807  ./syntheticdata/images/image0807.png   \n",
       "845  ./syntheticdata/images/image0845.png   \n",
       "835  ./syntheticdata/images/image0835.png   \n",
       "922  ./syntheticdata/images/image0922.png   \n",
       "744  ./syntheticdata/images/image0744.png   \n",
       "384  ./syntheticdata/images/image0384.png   \n",
       "749  ./syntheticdata/images/image0749.png   \n",
       "100  ./syntheticdata/images/image0100.png   \n",
       "689  ./syntheticdata/images/image0689.png   \n",
       "226  ./syntheticdata/images/image0226.png   \n",
       "456  ./syntheticdata/images/image0456.png   \n",
       "397  ./syntheticdata/images/image0397.png   \n",
       "674  ./syntheticdata/images/image0674.png   \n",
       "267  ./syntheticdata/images/image0267.png   \n",
       "373  ./syntheticdata/images/image0373.png   \n",
       "677  ./syntheticdata/images/image0677.png   \n",
       "931  ./syntheticdata/images/image0931.png   \n",
       "185  ./syntheticdata/images/image0185.png   \n",
       "335  ./syntheticdata/images/image0335.png   \n",
       "811  ./syntheticdata/images/image0811.png   \n",
       "388  ./syntheticdata/images/image0388.png   \n",
       "78   ./syntheticdata/images/image0078.png   \n",
       "769  ./syntheticdata/images/image0769.png   \n",
       "751  ./syntheticdata/images/image0751.png   \n",
       "344  ./syntheticdata/images/image0344.png   \n",
       "79   ./syntheticdata/images/image0079.png   \n",
       "177  ./syntheticdata/images/image0177.png   \n",
       "657  ./syntheticdata/images/image0657.png   \n",
       "210  ./syntheticdata/images/image0210.png   \n",
       "381  ./syntheticdata/images/image0381.png   \n",
       "\n",
       "                                    label  \\\n",
       "131  ./syntheticdata/labels/image0131.txt   \n",
       "203  ./syntheticdata/labels/image0203.txt   \n",
       "50   ./syntheticdata/labels/image0050.txt   \n",
       "585  ./syntheticdata/labels/image0585.txt   \n",
       "138  ./syntheticdata/labels/image0138.txt   \n",
       "632  ./syntheticdata/labels/image0632.txt   \n",
       "328  ./syntheticdata/labels/image0328.txt   \n",
       "461  ./syntheticdata/labels/image0461.txt   \n",
       "924  ./syntheticdata/labels/image0924.txt   \n",
       "479  ./syntheticdata/labels/image0479.txt   \n",
       "195  ./syntheticdata/labels/image0195.txt   \n",
       "221  ./syntheticdata/labels/image0221.txt   \n",
       "209  ./syntheticdata/labels/image0209.txt   \n",
       "378  ./syntheticdata/labels/image0378.txt   \n",
       "156  ./syntheticdata/labels/image0156.txt   \n",
       "327  ./syntheticdata/labels/image0327.txt   \n",
       "761  ./syntheticdata/labels/image0761.txt   \n",
       "320  ./syntheticdata/labels/image0320.txt   \n",
       "274  ./syntheticdata/labels/image0274.txt   \n",
       "417  ./syntheticdata/labels/image0417.txt   \n",
       "372  ./syntheticdata/labels/image0372.txt   \n",
       "299  ./syntheticdata/labels/image0299.txt   \n",
       "229  ./syntheticdata/labels/image0229.txt   \n",
       "896  ./syntheticdata/labels/image0896.txt   \n",
       "594  ./syntheticdata/labels/image0594.txt   \n",
       "983  ./syntheticdata/labels/image0983.txt   \n",
       "736  ./syntheticdata/labels/image0736.txt   \n",
       "85   ./syntheticdata/labels/image0085.txt   \n",
       "882  ./syntheticdata/labels/image0882.txt   \n",
       "7    ./syntheticdata/labels/image0007.txt   \n",
       "722  ./syntheticdata/labels/image0722.txt   \n",
       "43   ./syntheticdata/labels/image0043.txt   \n",
       "566  ./syntheticdata/labels/image0566.txt   \n",
       "317  ./syntheticdata/labels/image0317.txt   \n",
       "874  ./syntheticdata/labels/image0874.txt   \n",
       "743  ./syntheticdata/labels/image0743.txt   \n",
       "353  ./syntheticdata/labels/image0353.txt   \n",
       "145  ./syntheticdata/labels/image0145.txt   \n",
       "346  ./syntheticdata/labels/image0346.txt   \n",
       "590  ./syntheticdata/labels/image0590.txt   \n",
       "771  ./syntheticdata/labels/image0771.txt   \n",
       "336  ./syntheticdata/labels/image0336.txt   \n",
       "633  ./syntheticdata/labels/image0633.txt   \n",
       "310  ./syntheticdata/labels/image0310.txt   \n",
       "693  ./syntheticdata/labels/image0693.txt   \n",
       "691  ./syntheticdata/labels/image0691.txt   \n",
       "338  ./syntheticdata/labels/image0338.txt   \n",
       "901  ./syntheticdata/labels/image0901.txt   \n",
       "318  ./syntheticdata/labels/image0318.txt   \n",
       "352  ./syntheticdata/labels/image0352.txt   \n",
       "161  ./syntheticdata/labels/image0161.txt   \n",
       "542  ./syntheticdata/labels/image0542.txt   \n",
       "786  ./syntheticdata/labels/image0786.txt   \n",
       "917  ./syntheticdata/labels/image0917.txt   \n",
       "387  ./syntheticdata/labels/image0387.txt   \n",
       "196  ./syntheticdata/labels/image0196.txt   \n",
       "648  ./syntheticdata/labels/image0648.txt   \n",
       "167  ./syntheticdata/labels/image0167.txt   \n",
       "597  ./syntheticdata/labels/image0597.txt   \n",
       "392  ./syntheticdata/labels/image0392.txt   \n",
       "803  ./syntheticdata/labels/image0803.txt   \n",
       "536  ./syntheticdata/labels/image0536.txt   \n",
       "172  ./syntheticdata/labels/image0172.txt   \n",
       "830  ./syntheticdata/labels/image0830.txt   \n",
       "182  ./syntheticdata/labels/image0182.txt   \n",
       "702  ./syntheticdata/labels/image0702.txt   \n",
       "784  ./syntheticdata/labels/image0784.txt   \n",
       "613  ./syntheticdata/labels/image0613.txt   \n",
       "965  ./syntheticdata/labels/image0965.txt   \n",
       "171  ./syntheticdata/labels/image0171.txt   \n",
       "345  ./syntheticdata/labels/image0345.txt   \n",
       "822  ./syntheticdata/labels/image0822.txt   \n",
       "877  ./syntheticdata/labels/image0877.txt   \n",
       "147  ./syntheticdata/labels/image0147.txt   \n",
       "548  ./syntheticdata/labels/image0548.txt   \n",
       "642  ./syntheticdata/labels/image0642.txt   \n",
       "971  ./syntheticdata/labels/image0971.txt   \n",
       "934  ./syntheticdata/labels/image0934.txt   \n",
       "184  ./syntheticdata/labels/image0184.txt   \n",
       "607  ./syntheticdata/labels/image0607.txt   \n",
       "437  ./syntheticdata/labels/image0437.txt   \n",
       "266  ./syntheticdata/labels/image0266.txt   \n",
       "808  ./syntheticdata/labels/image0808.txt   \n",
       "447  ./syntheticdata/labels/image0447.txt   \n",
       "713  ./syntheticdata/labels/image0713.txt   \n",
       "114  ./syntheticdata/labels/image0114.txt   \n",
       "656  ./syntheticdata/labels/image0656.txt   \n",
       "985  ./syntheticdata/labels/image0985.txt   \n",
       "426  ./syntheticdata/labels/image0426.txt   \n",
       "5    ./syntheticdata/labels/image0005.txt   \n",
       "640  ./syntheticdata/labels/image0640.txt   \n",
       "986  ./syntheticdata/labels/image0986.txt   \n",
       "932  ./syntheticdata/labels/image0932.txt   \n",
       "41   ./syntheticdata/labels/image0041.txt   \n",
       "134  ./syntheticdata/labels/image0134.txt   \n",
       "938  ./syntheticdata/labels/image0938.txt   \n",
       "814  ./syntheticdata/labels/image0814.txt   \n",
       "994  ./syntheticdata/labels/image0994.txt   \n",
       "805  ./syntheticdata/labels/image0805.txt   \n",
       "558  ./syntheticdata/labels/image0558.txt   \n",
       "875  ./syntheticdata/labels/image0875.txt   \n",
       "933  ./syntheticdata/labels/image0933.txt   \n",
       "861  ./syntheticdata/labels/image0861.txt   \n",
       "868  ./syntheticdata/labels/image0868.txt   \n",
       "792  ./syntheticdata/labels/image0792.txt   \n",
       "928  ./syntheticdata/labels/image0928.txt   \n",
       "246  ./syntheticdata/labels/image0246.txt   \n",
       "764  ./syntheticdata/labels/image0764.txt   \n",
       "939  ./syntheticdata/labels/image0939.txt   \n",
       "48   ./syntheticdata/labels/image0048.txt   \n",
       "828  ./syntheticdata/labels/image0828.txt   \n",
       "616  ./syntheticdata/labels/image0616.txt   \n",
       "316  ./syntheticdata/labels/image0316.txt   \n",
       "446  ./syntheticdata/labels/image0446.txt   \n",
       "313  ./syntheticdata/labels/image0313.txt   \n",
       "416  ./syntheticdata/labels/image0416.txt   \n",
       "571  ./syntheticdata/labels/image0571.txt   \n",
       "921  ./syntheticdata/labels/image0921.txt   \n",
       "103  ./syntheticdata/labels/image0103.txt   \n",
       "541  ./syntheticdata/labels/image0541.txt   \n",
       "891  ./syntheticdata/labels/image0891.txt   \n",
       "660  ./syntheticdata/labels/image0660.txt   \n",
       "35   ./syntheticdata/labels/image0035.txt   \n",
       "869  ./syntheticdata/labels/image0869.txt   \n",
       "916  ./syntheticdata/labels/image0916.txt   \n",
       "102  ./syntheticdata/labels/image0102.txt   \n",
       "791  ./syntheticdata/labels/image0791.txt   \n",
       "52   ./syntheticdata/labels/image0052.txt   \n",
       "200  ./syntheticdata/labels/image0200.txt   \n",
       "4    ./syntheticdata/labels/image0004.txt   \n",
       "953  ./syntheticdata/labels/image0953.txt   \n",
       "453  ./syntheticdata/labels/image0453.txt   \n",
       "714  ./syntheticdata/labels/image0714.txt   \n",
       "476  ./syntheticdata/labels/image0476.txt   \n",
       "470  ./syntheticdata/labels/image0470.txt   \n",
       "599  ./syntheticdata/labels/image0599.txt   \n",
       "646  ./syntheticdata/labels/image0646.txt   \n",
       "235  ./syntheticdata/labels/image0235.txt   \n",
       "793  ./syntheticdata/labels/image0793.txt   \n",
       "972  ./syntheticdata/labels/image0972.txt   \n",
       "298  ./syntheticdata/labels/image0298.txt   \n",
       "856  ./syntheticdata/labels/image0856.txt   \n",
       "261  ./syntheticdata/labels/image0261.txt   \n",
       "57   ./syntheticdata/labels/image0057.txt   \n",
       "164  ./syntheticdata/labels/image0164.txt   \n",
       "758  ./syntheticdata/labels/image0758.txt   \n",
       "696  ./syntheticdata/labels/image0696.txt   \n",
       "55   ./syntheticdata/labels/image0055.txt   \n",
       "966  ./syntheticdata/labels/image0966.txt   \n",
       "28   ./syntheticdata/labels/image0028.txt   \n",
       "923  ./syntheticdata/labels/image0923.txt   \n",
       "188  ./syntheticdata/labels/image0188.txt   \n",
       "669  ./syntheticdata/labels/image0669.txt   \n",
       "688  ./syntheticdata/labels/image0688.txt   \n",
       "375  ./syntheticdata/labels/image0375.txt   \n",
       "798  ./syntheticdata/labels/image0798.txt   \n",
       "308  ./syntheticdata/labels/image0308.txt   \n",
       "54   ./syntheticdata/labels/image0054.txt   \n",
       "117  ./syntheticdata/labels/image0117.txt   \n",
       "692  ./syntheticdata/labels/image0692.txt   \n",
       "204  ./syntheticdata/labels/image0204.txt   \n",
       "898  ./syntheticdata/labels/image0898.txt   \n",
       "303  ./syntheticdata/labels/image0303.txt   \n",
       "260  ./syntheticdata/labels/image0260.txt   \n",
       "31   ./syntheticdata/labels/image0031.txt   \n",
       "485  ./syntheticdata/labels/image0485.txt   \n",
       "859  ./syntheticdata/labels/image0859.txt   \n",
       "36   ./syntheticdata/labels/image0036.txt   \n",
       "162  ./syntheticdata/labels/image0162.txt   \n",
       "482  ./syntheticdata/labels/image0482.txt   \n",
       "807  ./syntheticdata/labels/image0807.txt   \n",
       "845  ./syntheticdata/labels/image0845.txt   \n",
       "835  ./syntheticdata/labels/image0835.txt   \n",
       "922  ./syntheticdata/labels/image0922.txt   \n",
       "744  ./syntheticdata/labels/image0744.txt   \n",
       "384  ./syntheticdata/labels/image0384.txt   \n",
       "749  ./syntheticdata/labels/image0749.txt   \n",
       "100  ./syntheticdata/labels/image0100.txt   \n",
       "689  ./syntheticdata/labels/image0689.txt   \n",
       "226  ./syntheticdata/labels/image0226.txt   \n",
       "456  ./syntheticdata/labels/image0456.txt   \n",
       "397  ./syntheticdata/labels/image0397.txt   \n",
       "674  ./syntheticdata/labels/image0674.txt   \n",
       "267  ./syntheticdata/labels/image0267.txt   \n",
       "373  ./syntheticdata/labels/image0373.txt   \n",
       "677  ./syntheticdata/labels/image0677.txt   \n",
       "931  ./syntheticdata/labels/image0931.txt   \n",
       "185  ./syntheticdata/labels/image0185.txt   \n",
       "335  ./syntheticdata/labels/image0335.txt   \n",
       "811  ./syntheticdata/labels/image0811.txt   \n",
       "388  ./syntheticdata/labels/image0388.txt   \n",
       "78   ./syntheticdata/labels/image0078.txt   \n",
       "769  ./syntheticdata/labels/image0769.txt   \n",
       "751  ./syntheticdata/labels/image0751.txt   \n",
       "344  ./syntheticdata/labels/image0344.txt   \n",
       "79   ./syntheticdata/labels/image0079.txt   \n",
       "177  ./syntheticdata/labels/image0177.txt   \n",
       "657  ./syntheticdata/labels/image0657.txt   \n",
       "210  ./syntheticdata/labels/image0210.txt   \n",
       "381  ./syntheticdata/labels/image0381.txt   \n",
       "\n",
       "                               image_copy  \\\n",
       "131  ./dataset/images/valid/image0131.png   \n",
       "203  ./dataset/images/valid/image0203.png   \n",
       "50   ./dataset/images/valid/image0050.png   \n",
       "585  ./dataset/images/valid/image0585.png   \n",
       "138  ./dataset/images/valid/image0138.png   \n",
       "632  ./dataset/images/valid/image0632.png   \n",
       "328  ./dataset/images/valid/image0328.png   \n",
       "461  ./dataset/images/valid/image0461.png   \n",
       "924  ./dataset/images/valid/image0924.png   \n",
       "479  ./dataset/images/valid/image0479.png   \n",
       "195  ./dataset/images/valid/image0195.png   \n",
       "221  ./dataset/images/valid/image0221.png   \n",
       "209  ./dataset/images/valid/image0209.png   \n",
       "378  ./dataset/images/valid/image0378.png   \n",
       "156  ./dataset/images/valid/image0156.png   \n",
       "327  ./dataset/images/valid/image0327.png   \n",
       "761  ./dataset/images/valid/image0761.png   \n",
       "320  ./dataset/images/valid/image0320.png   \n",
       "274  ./dataset/images/valid/image0274.png   \n",
       "417  ./dataset/images/valid/image0417.png   \n",
       "372  ./dataset/images/valid/image0372.png   \n",
       "299  ./dataset/images/valid/image0299.png   \n",
       "229  ./dataset/images/valid/image0229.png   \n",
       "896  ./dataset/images/valid/image0896.png   \n",
       "594  ./dataset/images/valid/image0594.png   \n",
       "983  ./dataset/images/valid/image0983.png   \n",
       "736  ./dataset/images/valid/image0736.png   \n",
       "85   ./dataset/images/valid/image0085.png   \n",
       "882  ./dataset/images/valid/image0882.png   \n",
       "7    ./dataset/images/valid/image0007.png   \n",
       "722  ./dataset/images/valid/image0722.png   \n",
       "43   ./dataset/images/valid/image0043.png   \n",
       "566  ./dataset/images/valid/image0566.png   \n",
       "317  ./dataset/images/valid/image0317.png   \n",
       "874  ./dataset/images/valid/image0874.png   \n",
       "743  ./dataset/images/valid/image0743.png   \n",
       "353  ./dataset/images/valid/image0353.png   \n",
       "145  ./dataset/images/valid/image0145.png   \n",
       "346  ./dataset/images/valid/image0346.png   \n",
       "590  ./dataset/images/valid/image0590.png   \n",
       "771  ./dataset/images/valid/image0771.png   \n",
       "336  ./dataset/images/valid/image0336.png   \n",
       "633  ./dataset/images/valid/image0633.png   \n",
       "310  ./dataset/images/valid/image0310.png   \n",
       "693  ./dataset/images/valid/image0693.png   \n",
       "691  ./dataset/images/valid/image0691.png   \n",
       "338  ./dataset/images/valid/image0338.png   \n",
       "901  ./dataset/images/valid/image0901.png   \n",
       "318  ./dataset/images/valid/image0318.png   \n",
       "352  ./dataset/images/valid/image0352.png   \n",
       "161  ./dataset/images/valid/image0161.png   \n",
       "542  ./dataset/images/valid/image0542.png   \n",
       "786  ./dataset/images/valid/image0786.png   \n",
       "917  ./dataset/images/valid/image0917.png   \n",
       "387  ./dataset/images/valid/image0387.png   \n",
       "196  ./dataset/images/valid/image0196.png   \n",
       "648  ./dataset/images/valid/image0648.png   \n",
       "167  ./dataset/images/valid/image0167.png   \n",
       "597  ./dataset/images/valid/image0597.png   \n",
       "392  ./dataset/images/valid/image0392.png   \n",
       "803  ./dataset/images/valid/image0803.png   \n",
       "536  ./dataset/images/valid/image0536.png   \n",
       "172  ./dataset/images/valid/image0172.png   \n",
       "830  ./dataset/images/valid/image0830.png   \n",
       "182  ./dataset/images/valid/image0182.png   \n",
       "702  ./dataset/images/valid/image0702.png   \n",
       "784  ./dataset/images/valid/image0784.png   \n",
       "613  ./dataset/images/valid/image0613.png   \n",
       "965  ./dataset/images/valid/image0965.png   \n",
       "171  ./dataset/images/valid/image0171.png   \n",
       "345  ./dataset/images/valid/image0345.png   \n",
       "822  ./dataset/images/valid/image0822.png   \n",
       "877  ./dataset/images/valid/image0877.png   \n",
       "147  ./dataset/images/valid/image0147.png   \n",
       "548  ./dataset/images/valid/image0548.png   \n",
       "642  ./dataset/images/valid/image0642.png   \n",
       "971  ./dataset/images/valid/image0971.png   \n",
       "934  ./dataset/images/valid/image0934.png   \n",
       "184  ./dataset/images/valid/image0184.png   \n",
       "607  ./dataset/images/valid/image0607.png   \n",
       "437  ./dataset/images/valid/image0437.png   \n",
       "266  ./dataset/images/valid/image0266.png   \n",
       "808  ./dataset/images/valid/image0808.png   \n",
       "447  ./dataset/images/valid/image0447.png   \n",
       "713  ./dataset/images/valid/image0713.png   \n",
       "114  ./dataset/images/valid/image0114.png   \n",
       "656  ./dataset/images/valid/image0656.png   \n",
       "985  ./dataset/images/valid/image0985.png   \n",
       "426  ./dataset/images/valid/image0426.png   \n",
       "5    ./dataset/images/valid/image0005.png   \n",
       "640  ./dataset/images/valid/image0640.png   \n",
       "986  ./dataset/images/valid/image0986.png   \n",
       "932  ./dataset/images/valid/image0932.png   \n",
       "41   ./dataset/images/valid/image0041.png   \n",
       "134  ./dataset/images/valid/image0134.png   \n",
       "938  ./dataset/images/valid/image0938.png   \n",
       "814  ./dataset/images/valid/image0814.png   \n",
       "994  ./dataset/images/valid/image0994.png   \n",
       "805  ./dataset/images/valid/image0805.png   \n",
       "558  ./dataset/images/valid/image0558.png   \n",
       "875  ./dataset/images/valid/image0875.png   \n",
       "933  ./dataset/images/valid/image0933.png   \n",
       "861  ./dataset/images/valid/image0861.png   \n",
       "868  ./dataset/images/valid/image0868.png   \n",
       "792  ./dataset/images/valid/image0792.png   \n",
       "928  ./dataset/images/valid/image0928.png   \n",
       "246  ./dataset/images/valid/image0246.png   \n",
       "764  ./dataset/images/valid/image0764.png   \n",
       "939  ./dataset/images/valid/image0939.png   \n",
       "48   ./dataset/images/valid/image0048.png   \n",
       "828  ./dataset/images/valid/image0828.png   \n",
       "616  ./dataset/images/valid/image0616.png   \n",
       "316  ./dataset/images/valid/image0316.png   \n",
       "446  ./dataset/images/valid/image0446.png   \n",
       "313  ./dataset/images/valid/image0313.png   \n",
       "416  ./dataset/images/valid/image0416.png   \n",
       "571  ./dataset/images/valid/image0571.png   \n",
       "921  ./dataset/images/valid/image0921.png   \n",
       "103  ./dataset/images/valid/image0103.png   \n",
       "541  ./dataset/images/valid/image0541.png   \n",
       "891  ./dataset/images/valid/image0891.png   \n",
       "660  ./dataset/images/valid/image0660.png   \n",
       "35   ./dataset/images/valid/image0035.png   \n",
       "869  ./dataset/images/valid/image0869.png   \n",
       "916  ./dataset/images/valid/image0916.png   \n",
       "102  ./dataset/images/valid/image0102.png   \n",
       "791  ./dataset/images/valid/image0791.png   \n",
       "52   ./dataset/images/valid/image0052.png   \n",
       "200  ./dataset/images/valid/image0200.png   \n",
       "4    ./dataset/images/valid/image0004.png   \n",
       "953  ./dataset/images/valid/image0953.png   \n",
       "453  ./dataset/images/valid/image0453.png   \n",
       "714  ./dataset/images/valid/image0714.png   \n",
       "476  ./dataset/images/valid/image0476.png   \n",
       "470  ./dataset/images/valid/image0470.png   \n",
       "599  ./dataset/images/valid/image0599.png   \n",
       "646  ./dataset/images/valid/image0646.png   \n",
       "235  ./dataset/images/valid/image0235.png   \n",
       "793  ./dataset/images/valid/image0793.png   \n",
       "972  ./dataset/images/valid/image0972.png   \n",
       "298  ./dataset/images/valid/image0298.png   \n",
       "856  ./dataset/images/valid/image0856.png   \n",
       "261  ./dataset/images/valid/image0261.png   \n",
       "57   ./dataset/images/valid/image0057.png   \n",
       "164  ./dataset/images/valid/image0164.png   \n",
       "758  ./dataset/images/valid/image0758.png   \n",
       "696  ./dataset/images/valid/image0696.png   \n",
       "55   ./dataset/images/valid/image0055.png   \n",
       "966  ./dataset/images/valid/image0966.png   \n",
       "28   ./dataset/images/valid/image0028.png   \n",
       "923  ./dataset/images/valid/image0923.png   \n",
       "188  ./dataset/images/valid/image0188.png   \n",
       "669  ./dataset/images/valid/image0669.png   \n",
       "688  ./dataset/images/valid/image0688.png   \n",
       "375  ./dataset/images/valid/image0375.png   \n",
       "798  ./dataset/images/valid/image0798.png   \n",
       "308  ./dataset/images/valid/image0308.png   \n",
       "54   ./dataset/images/valid/image0054.png   \n",
       "117  ./dataset/images/valid/image0117.png   \n",
       "692  ./dataset/images/valid/image0692.png   \n",
       "204  ./dataset/images/valid/image0204.png   \n",
       "898  ./dataset/images/valid/image0898.png   \n",
       "303  ./dataset/images/valid/image0303.png   \n",
       "260  ./dataset/images/valid/image0260.png   \n",
       "31   ./dataset/images/valid/image0031.png   \n",
       "485  ./dataset/images/valid/image0485.png   \n",
       "859  ./dataset/images/valid/image0859.png   \n",
       "36   ./dataset/images/valid/image0036.png   \n",
       "162  ./dataset/images/valid/image0162.png   \n",
       "482  ./dataset/images/valid/image0482.png   \n",
       "807  ./dataset/images/valid/image0807.png   \n",
       "845  ./dataset/images/valid/image0845.png   \n",
       "835  ./dataset/images/valid/image0835.png   \n",
       "922  ./dataset/images/valid/image0922.png   \n",
       "744  ./dataset/images/valid/image0744.png   \n",
       "384  ./dataset/images/valid/image0384.png   \n",
       "749  ./dataset/images/valid/image0749.png   \n",
       "100  ./dataset/images/valid/image0100.png   \n",
       "689  ./dataset/images/valid/image0689.png   \n",
       "226  ./dataset/images/valid/image0226.png   \n",
       "456  ./dataset/images/valid/image0456.png   \n",
       "397  ./dataset/images/valid/image0397.png   \n",
       "674  ./dataset/images/valid/image0674.png   \n",
       "267  ./dataset/images/valid/image0267.png   \n",
       "373  ./dataset/images/valid/image0373.png   \n",
       "677  ./dataset/images/valid/image0677.png   \n",
       "931  ./dataset/images/valid/image0931.png   \n",
       "185  ./dataset/images/valid/image0185.png   \n",
       "335  ./dataset/images/valid/image0335.png   \n",
       "811  ./dataset/images/valid/image0811.png   \n",
       "388  ./dataset/images/valid/image0388.png   \n",
       "78   ./dataset/images/valid/image0078.png   \n",
       "769  ./dataset/images/valid/image0769.png   \n",
       "751  ./dataset/images/valid/image0751.png   \n",
       "344  ./dataset/images/valid/image0344.png   \n",
       "79   ./dataset/images/valid/image0079.png   \n",
       "177  ./dataset/images/valid/image0177.png   \n",
       "657  ./dataset/images/valid/image0657.png   \n",
       "210  ./dataset/images/valid/image0210.png   \n",
       "381  ./dataset/images/valid/image0381.png   \n",
       "\n",
       "                               label_copy  \n",
       "131  ./dataset/labels/valid/image0131.txt  \n",
       "203  ./dataset/labels/valid/image0203.txt  \n",
       "50   ./dataset/labels/valid/image0050.txt  \n",
       "585  ./dataset/labels/valid/image0585.txt  \n",
       "138  ./dataset/labels/valid/image0138.txt  \n",
       "632  ./dataset/labels/valid/image0632.txt  \n",
       "328  ./dataset/labels/valid/image0328.txt  \n",
       "461  ./dataset/labels/valid/image0461.txt  \n",
       "924  ./dataset/labels/valid/image0924.txt  \n",
       "479  ./dataset/labels/valid/image0479.txt  \n",
       "195  ./dataset/labels/valid/image0195.txt  \n",
       "221  ./dataset/labels/valid/image0221.txt  \n",
       "209  ./dataset/labels/valid/image0209.txt  \n",
       "378  ./dataset/labels/valid/image0378.txt  \n",
       "156  ./dataset/labels/valid/image0156.txt  \n",
       "327  ./dataset/labels/valid/image0327.txt  \n",
       "761  ./dataset/labels/valid/image0761.txt  \n",
       "320  ./dataset/labels/valid/image0320.txt  \n",
       "274  ./dataset/labels/valid/image0274.txt  \n",
       "417  ./dataset/labels/valid/image0417.txt  \n",
       "372  ./dataset/labels/valid/image0372.txt  \n",
       "299  ./dataset/labels/valid/image0299.txt  \n",
       "229  ./dataset/labels/valid/image0229.txt  \n",
       "896  ./dataset/labels/valid/image0896.txt  \n",
       "594  ./dataset/labels/valid/image0594.txt  \n",
       "983  ./dataset/labels/valid/image0983.txt  \n",
       "736  ./dataset/labels/valid/image0736.txt  \n",
       "85   ./dataset/labels/valid/image0085.txt  \n",
       "882  ./dataset/labels/valid/image0882.txt  \n",
       "7    ./dataset/labels/valid/image0007.txt  \n",
       "722  ./dataset/labels/valid/image0722.txt  \n",
       "43   ./dataset/labels/valid/image0043.txt  \n",
       "566  ./dataset/labels/valid/image0566.txt  \n",
       "317  ./dataset/labels/valid/image0317.txt  \n",
       "874  ./dataset/labels/valid/image0874.txt  \n",
       "743  ./dataset/labels/valid/image0743.txt  \n",
       "353  ./dataset/labels/valid/image0353.txt  \n",
       "145  ./dataset/labels/valid/image0145.txt  \n",
       "346  ./dataset/labels/valid/image0346.txt  \n",
       "590  ./dataset/labels/valid/image0590.txt  \n",
       "771  ./dataset/labels/valid/image0771.txt  \n",
       "336  ./dataset/labels/valid/image0336.txt  \n",
       "633  ./dataset/labels/valid/image0633.txt  \n",
       "310  ./dataset/labels/valid/image0310.txt  \n",
       "693  ./dataset/labels/valid/image0693.txt  \n",
       "691  ./dataset/labels/valid/image0691.txt  \n",
       "338  ./dataset/labels/valid/image0338.txt  \n",
       "901  ./dataset/labels/valid/image0901.txt  \n",
       "318  ./dataset/labels/valid/image0318.txt  \n",
       "352  ./dataset/labels/valid/image0352.txt  \n",
       "161  ./dataset/labels/valid/image0161.txt  \n",
       "542  ./dataset/labels/valid/image0542.txt  \n",
       "786  ./dataset/labels/valid/image0786.txt  \n",
       "917  ./dataset/labels/valid/image0917.txt  \n",
       "387  ./dataset/labels/valid/image0387.txt  \n",
       "196  ./dataset/labels/valid/image0196.txt  \n",
       "648  ./dataset/labels/valid/image0648.txt  \n",
       "167  ./dataset/labels/valid/image0167.txt  \n",
       "597  ./dataset/labels/valid/image0597.txt  \n",
       "392  ./dataset/labels/valid/image0392.txt  \n",
       "803  ./dataset/labels/valid/image0803.txt  \n",
       "536  ./dataset/labels/valid/image0536.txt  \n",
       "172  ./dataset/labels/valid/image0172.txt  \n",
       "830  ./dataset/labels/valid/image0830.txt  \n",
       "182  ./dataset/labels/valid/image0182.txt  \n",
       "702  ./dataset/labels/valid/image0702.txt  \n",
       "784  ./dataset/labels/valid/image0784.txt  \n",
       "613  ./dataset/labels/valid/image0613.txt  \n",
       "965  ./dataset/labels/valid/image0965.txt  \n",
       "171  ./dataset/labels/valid/image0171.txt  \n",
       "345  ./dataset/labels/valid/image0345.txt  \n",
       "822  ./dataset/labels/valid/image0822.txt  \n",
       "877  ./dataset/labels/valid/image0877.txt  \n",
       "147  ./dataset/labels/valid/image0147.txt  \n",
       "548  ./dataset/labels/valid/image0548.txt  \n",
       "642  ./dataset/labels/valid/image0642.txt  \n",
       "971  ./dataset/labels/valid/image0971.txt  \n",
       "934  ./dataset/labels/valid/image0934.txt  \n",
       "184  ./dataset/labels/valid/image0184.txt  \n",
       "607  ./dataset/labels/valid/image0607.txt  \n",
       "437  ./dataset/labels/valid/image0437.txt  \n",
       "266  ./dataset/labels/valid/image0266.txt  \n",
       "808  ./dataset/labels/valid/image0808.txt  \n",
       "447  ./dataset/labels/valid/image0447.txt  \n",
       "713  ./dataset/labels/valid/image0713.txt  \n",
       "114  ./dataset/labels/valid/image0114.txt  \n",
       "656  ./dataset/labels/valid/image0656.txt  \n",
       "985  ./dataset/labels/valid/image0985.txt  \n",
       "426  ./dataset/labels/valid/image0426.txt  \n",
       "5    ./dataset/labels/valid/image0005.txt  \n",
       "640  ./dataset/labels/valid/image0640.txt  \n",
       "986  ./dataset/labels/valid/image0986.txt  \n",
       "932  ./dataset/labels/valid/image0932.txt  \n",
       "41   ./dataset/labels/valid/image0041.txt  \n",
       "134  ./dataset/labels/valid/image0134.txt  \n",
       "938  ./dataset/labels/valid/image0938.txt  \n",
       "814  ./dataset/labels/valid/image0814.txt  \n",
       "994  ./dataset/labels/valid/image0994.txt  \n",
       "805  ./dataset/labels/valid/image0805.txt  \n",
       "558  ./dataset/labels/valid/image0558.txt  \n",
       "875  ./dataset/labels/valid/image0875.txt  \n",
       "933  ./dataset/labels/valid/image0933.txt  \n",
       "861  ./dataset/labels/valid/image0861.txt  \n",
       "868  ./dataset/labels/valid/image0868.txt  \n",
       "792  ./dataset/labels/valid/image0792.txt  \n",
       "928  ./dataset/labels/valid/image0928.txt  \n",
       "246  ./dataset/labels/valid/image0246.txt  \n",
       "764  ./dataset/labels/valid/image0764.txt  \n",
       "939  ./dataset/labels/valid/image0939.txt  \n",
       "48   ./dataset/labels/valid/image0048.txt  \n",
       "828  ./dataset/labels/valid/image0828.txt  \n",
       "616  ./dataset/labels/valid/image0616.txt  \n",
       "316  ./dataset/labels/valid/image0316.txt  \n",
       "446  ./dataset/labels/valid/image0446.txt  \n",
       "313  ./dataset/labels/valid/image0313.txt  \n",
       "416  ./dataset/labels/valid/image0416.txt  \n",
       "571  ./dataset/labels/valid/image0571.txt  \n",
       "921  ./dataset/labels/valid/image0921.txt  \n",
       "103  ./dataset/labels/valid/image0103.txt  \n",
       "541  ./dataset/labels/valid/image0541.txt  \n",
       "891  ./dataset/labels/valid/image0891.txt  \n",
       "660  ./dataset/labels/valid/image0660.txt  \n",
       "35   ./dataset/labels/valid/image0035.txt  \n",
       "869  ./dataset/labels/valid/image0869.txt  \n",
       "916  ./dataset/labels/valid/image0916.txt  \n",
       "102  ./dataset/labels/valid/image0102.txt  \n",
       "791  ./dataset/labels/valid/image0791.txt  \n",
       "52   ./dataset/labels/valid/image0052.txt  \n",
       "200  ./dataset/labels/valid/image0200.txt  \n",
       "4    ./dataset/labels/valid/image0004.txt  \n",
       "953  ./dataset/labels/valid/image0953.txt  \n",
       "453  ./dataset/labels/valid/image0453.txt  \n",
       "714  ./dataset/labels/valid/image0714.txt  \n",
       "476  ./dataset/labels/valid/image0476.txt  \n",
       "470  ./dataset/labels/valid/image0470.txt  \n",
       "599  ./dataset/labels/valid/image0599.txt  \n",
       "646  ./dataset/labels/valid/image0646.txt  \n",
       "235  ./dataset/labels/valid/image0235.txt  \n",
       "793  ./dataset/labels/valid/image0793.txt  \n",
       "972  ./dataset/labels/valid/image0972.txt  \n",
       "298  ./dataset/labels/valid/image0298.txt  \n",
       "856  ./dataset/labels/valid/image0856.txt  \n",
       "261  ./dataset/labels/valid/image0261.txt  \n",
       "57   ./dataset/labels/valid/image0057.txt  \n",
       "164  ./dataset/labels/valid/image0164.txt  \n",
       "758  ./dataset/labels/valid/image0758.txt  \n",
       "696  ./dataset/labels/valid/image0696.txt  \n",
       "55   ./dataset/labels/valid/image0055.txt  \n",
       "966  ./dataset/labels/valid/image0966.txt  \n",
       "28   ./dataset/labels/valid/image0028.txt  \n",
       "923  ./dataset/labels/valid/image0923.txt  \n",
       "188  ./dataset/labels/valid/image0188.txt  \n",
       "669  ./dataset/labels/valid/image0669.txt  \n",
       "688  ./dataset/labels/valid/image0688.txt  \n",
       "375  ./dataset/labels/valid/image0375.txt  \n",
       "798  ./dataset/labels/valid/image0798.txt  \n",
       "308  ./dataset/labels/valid/image0308.txt  \n",
       "54   ./dataset/labels/valid/image0054.txt  \n",
       "117  ./dataset/labels/valid/image0117.txt  \n",
       "692  ./dataset/labels/valid/image0692.txt  \n",
       "204  ./dataset/labels/valid/image0204.txt  \n",
       "898  ./dataset/labels/valid/image0898.txt  \n",
       "303  ./dataset/labels/valid/image0303.txt  \n",
       "260  ./dataset/labels/valid/image0260.txt  \n",
       "31   ./dataset/labels/valid/image0031.txt  \n",
       "485  ./dataset/labels/valid/image0485.txt  \n",
       "859  ./dataset/labels/valid/image0859.txt  \n",
       "36   ./dataset/labels/valid/image0036.txt  \n",
       "162  ./dataset/labels/valid/image0162.txt  \n",
       "482  ./dataset/labels/valid/image0482.txt  \n",
       "807  ./dataset/labels/valid/image0807.txt  \n",
       "845  ./dataset/labels/valid/image0845.txt  \n",
       "835  ./dataset/labels/valid/image0835.txt  \n",
       "922  ./dataset/labels/valid/image0922.txt  \n",
       "744  ./dataset/labels/valid/image0744.txt  \n",
       "384  ./dataset/labels/valid/image0384.txt  \n",
       "749  ./dataset/labels/valid/image0749.txt  \n",
       "100  ./dataset/labels/valid/image0100.txt  \n",
       "689  ./dataset/labels/valid/image0689.txt  \n",
       "226  ./dataset/labels/valid/image0226.txt  \n",
       "456  ./dataset/labels/valid/image0456.txt  \n",
       "397  ./dataset/labels/valid/image0397.txt  \n",
       "674  ./dataset/labels/valid/image0674.txt  \n",
       "267  ./dataset/labels/valid/image0267.txt  \n",
       "373  ./dataset/labels/valid/image0373.txt  \n",
       "677  ./dataset/labels/valid/image0677.txt  \n",
       "931  ./dataset/labels/valid/image0931.txt  \n",
       "185  ./dataset/labels/valid/image0185.txt  \n",
       "335  ./dataset/labels/valid/image0335.txt  \n",
       "811  ./dataset/labels/valid/image0811.txt  \n",
       "388  ./dataset/labels/valid/image0388.txt  \n",
       "78   ./dataset/labels/valid/image0078.txt  \n",
       "769  ./dataset/labels/valid/image0769.txt  \n",
       "751  ./dataset/labels/valid/image0751.txt  \n",
       "344  ./dataset/labels/valid/image0344.txt  \n",
       "79   ./dataset/labels/valid/image0079.txt  \n",
       "177  ./dataset/labels/valid/image0177.txt  \n",
       "657  ./dataset/labels/valid/image0657.txt  \n",
       "210  ./dataset/labels/valid/image0210.txt  \n",
       "381  ./dataset/labels/valid/image0381.txt  "
      ]
     },
     "execution_count": 12,
     "metadata": {},
     "output_type": "execute_result"
    }
   ],
   "source": [
    "# train, validデータセットの作成\n",
    "\n",
    "images_dir = './syntheticdata/images'\n",
    "labels_dir = './syntheticdata/labels'\n",
    "\n",
    "train_images_dir = './dataset/images/train'\n",
    "train_labels_dir = './dataset/labels/train'\n",
    "valid_images_dir = './dataset/images/valid'\n",
    "valid_labels_dir = './dataset/labels/valid'\n",
    "\n",
    "os.makedirs(train_images_dir, exist_ok=True)\n",
    "os.makedirs(train_labels_dir, exist_ok=True)\n",
    "os.makedirs(valid_images_dir, exist_ok=True)\n",
    "os.makedirs(valid_labels_dir, exist_ok=True)\n",
    "\n",
    "images = os.listdir(images_dir)\n",
    "images.sort()\n",
    "image_paths = [f'{images_dir}/{x}' for x in images]\n",
    "image_names = [x.split('.')[0] for x in images]\n",
    "label_paths = [f'{labels_dir}/{x}.txt' for x in image_names]\n",
    "\n",
    "df = pd.DataFrame(columns=['image', 'label'])\n",
    "df['image'] = image_paths\n",
    "df['label'] = label_paths\n",
    "\n",
    "train_df, valid_df = tts(df, test_size = 0.2, random_state=123)\n",
    "\n",
    "train_images = [x.split('/')[-1] for x in train_df['image']]\n",
    "train_df['image_copy'] = [f'{train_images_dir}/{x}' for x in train_images]\n",
    "train_labels = [x.split('/')[-1] for x in train_df['label']]\n",
    "train_df['label_copy'] = [f'{train_labels_dir}/{x}' for x in train_labels]\n",
    "\n",
    "valid_images = [x.split('/')[-1] for x in valid_df['image']]\n",
    "valid_df['image_copy'] = [f'{valid_images_dir}/{x}' for x in valid_images]\n",
    "valid_labels = [x.split('/')[-1] for x in valid_df['label']]\n",
    "valid_df['label_copy'] = [f'{valid_labels_dir}/{x}' for x in valid_labels]\n",
    "\n",
    "def copy_files(row):\n",
    "    \n",
    "    shutil.copyfile(row['image'], row['image_copy'])\n",
    "    shutil.copyfile(row['label'], row['label_copy'])\n",
    "    \n",
    "    return row\n",
    "\n",
    "train_df.apply(copy_files, axis=1)\n",
    "valid_df.apply(copy_files, axis=1)"
   ]
  },
  {
   "cell_type": "code",
   "execution_count": 13,
   "metadata": {},
   "outputs": [],
   "source": [
    "## yaml設定ファイルの作成\n",
    "#\n",
    "#%%writefile dataset.yaml\n",
    "## Path\n",
    "#path: ./dataset\n",
    "#train: images/train\n",
    "#val: images/valid\n",
    "#\n",
    "## Classes\n",
    "#nc: 4\n",
    "#names: ['UtukushiNihongoErabiJiten', 'KodaiChugokuNo24Jikan', 'ChainSawMan12', 'ChugokugoNavi202204']"
   ]
  },
  {
   "cell_type": "code",
   "execution_count": 14,
   "metadata": {},
   "outputs": [
    {
     "name": "stdout",
     "output_type": "stream",
     "text": [
      "New https://pypi.org/project/ultralytics/8.2.2 available 😃 Update with 'pip install -U ultralytics'\n",
      "Ultralytics YOLOv8.1.47 🚀 Python-3.8.19 torch-2.2.2 CPU (Apple M2)\n",
      "\u001b[34m\u001b[1mengine/trainer: \u001b[0mtask=detect, mode=train, model=yolov8l.pt, data=dataset.yaml, epochs=100, time=None, patience=10, batch=16, imgsz=640, save=True, save_period=-1, cache=False, device=cpu, workers=8, project=/Users/makoto/dev/YOLO/training_log, name=l_22, exist_ok=False, pretrained=True, optimizer=auto, verbose=True, seed=123, deterministic=True, single_cls=False, rect=False, cos_lr=True, close_mosaic=10, resume=False, amp=True, fraction=1.0, profile=False, freeze=None, multi_scale=False, overlap_mask=True, mask_ratio=4, dropout=0.0, val=True, split=val, save_json=False, save_hybrid=False, conf=None, iou=0.7, max_det=300, half=False, dnn=False, plots=True, source=None, vid_stride=1, stream_buffer=False, visualize=False, augment=False, agnostic_nms=False, classes=None, retina_masks=False, embed=None, show=False, save_frames=False, save_txt=False, save_conf=False, save_crop=False, show_labels=True, show_conf=True, show_boxes=True, line_width=None, format=torchscript, keras=False, optimize=False, int8=False, dynamic=False, simplify=False, opset=None, workspace=4, nms=False, lr0=0.01, lrf=0.01, momentum=0.937, weight_decay=0.0005, warmup_epochs=3.0, warmup_momentum=0.8, warmup_bias_lr=0.1, box=7.5, cls=0.5, dfl=1.5, pose=12.0, kobj=1.0, label_smoothing=0.0, nbs=64, hsv_h=0.015, hsv_s=0.7, hsv_v=0.4, degrees=180, translate=0.1, scale=0.5, shear=30, perspective=0.0, flipud=0.0, fliplr=0.5, bgr=0.0, mosaic=1.0, mixup=0.0, copy_paste=0.0, auto_augment=randaugment, erasing=0.4, crop_fraction=1.0, cfg=None, tracker=botsort.yaml, save_dir=/Users/makoto/dev/YOLO/training_log/l_22\n",
      "Overriding model.yaml nc=80 with nc=4\n",
      "\n",
      "                   from  n    params  module                                       arguments                     \n",
      "  0                  -1  1      1856  ultralytics.nn.modules.conv.Conv             [3, 64, 3, 2]                 \n",
      "  1                  -1  1     73984  ultralytics.nn.modules.conv.Conv             [64, 128, 3, 2]               \n",
      "  2                  -1  3    279808  ultralytics.nn.modules.block.C2f             [128, 128, 3, True]           \n",
      "  3                  -1  1    295424  ultralytics.nn.modules.conv.Conv             [128, 256, 3, 2]              \n",
      "  4                  -1  6   2101248  ultralytics.nn.modules.block.C2f             [256, 256, 6, True]           \n",
      "  5                  -1  1   1180672  ultralytics.nn.modules.conv.Conv             [256, 512, 3, 2]              \n",
      "  6                  -1  6   8396800  ultralytics.nn.modules.block.C2f             [512, 512, 6, True]           \n",
      "  7                  -1  1   2360320  ultralytics.nn.modules.conv.Conv             [512, 512, 3, 2]              \n",
      "  8                  -1  3   4461568  ultralytics.nn.modules.block.C2f             [512, 512, 3, True]           \n",
      "  9                  -1  1    656896  ultralytics.nn.modules.block.SPPF            [512, 512, 5]                 \n",
      " 10                  -1  1         0  torch.nn.modules.upsampling.Upsample         [None, 2, 'nearest']          \n",
      " 11             [-1, 6]  1         0  ultralytics.nn.modules.conv.Concat           [1]                           \n",
      " 12                  -1  3   4723712  ultralytics.nn.modules.block.C2f             [1024, 512, 3]                \n",
      " 13                  -1  1         0  torch.nn.modules.upsampling.Upsample         [None, 2, 'nearest']          \n",
      " 14             [-1, 4]  1         0  ultralytics.nn.modules.conv.Concat           [1]                           \n",
      " 15                  -1  3   1247744  ultralytics.nn.modules.block.C2f             [768, 256, 3]                 \n",
      " 16                  -1  1    590336  ultralytics.nn.modules.conv.Conv             [256, 256, 3, 2]              \n",
      " 17            [-1, 12]  1         0  ultralytics.nn.modules.conv.Concat           [1]                           \n",
      " 18                  -1  3   4592640  ultralytics.nn.modules.block.C2f             [768, 512, 3]                 \n",
      " 19                  -1  1   2360320  ultralytics.nn.modules.conv.Conv             [512, 512, 3, 2]              \n",
      " 20             [-1, 9]  1         0  ultralytics.nn.modules.conv.Concat           [1]                           \n",
      " 21                  -1  3   4723712  ultralytics.nn.modules.block.C2f             [1024, 512, 3]                \n",
      " 22        [15, 18, 21]  1   5585884  ultralytics.nn.modules.head.Detect           [4, [256, 512, 512]]          \n",
      "Model summary: 365 layers, 43632924 parameters, 43632908 gradients\n",
      "\n",
      "Transferred 589/595 items from pretrained weights\n",
      "Freezing layer 'model.22.dfl.conv.weight'\n"
     ]
    },
    {
     "name": "stderr",
     "output_type": "stream",
     "text": [
      "\u001b[34m\u001b[1mtrain: \u001b[0mScanning /Users/makoto/dev/YOLO/dataset/labels/train.cache... 800 images, 0 backgrounds, 0 corrupt: 100%|██████████| 800/800 [00:00<?, ?it/s]\n",
      "\u001b[34m\u001b[1mval: \u001b[0mScanning /Users/makoto/dev/YOLO/dataset/labels/valid.cache... 200 images, 0 backgrounds, 0 corrupt: 100%|██████████| 200/200 [00:00<?, ?it/s]"
     ]
    },
    {
     "name": "stdout",
     "output_type": "stream",
     "text": [
      "Plotting labels to /Users/makoto/dev/YOLO/training_log/l_22/labels.jpg... \n"
     ]
    },
    {
     "name": "stderr",
     "output_type": "stream",
     "text": [
      "\n"
     ]
    },
    {
     "name": "stdout",
     "output_type": "stream",
     "text": [
      "\u001b[34m\u001b[1moptimizer:\u001b[0m 'optimizer=auto' found, ignoring 'lr0=0.01' and 'momentum=0.937' and determining best 'optimizer', 'lr0' and 'momentum' automatically... \n",
      "\u001b[34m\u001b[1moptimizer:\u001b[0m AdamW(lr=0.00125, momentum=0.9) with parameter groups 97 weight(decay=0.0), 104 weight(decay=0.0005), 103 bias(decay=0.0)\n",
      "Image sizes 640 train, 640 val\n",
      "Using 0 dataloader workers\n",
      "Logging results to \u001b[1m/Users/makoto/dev/YOLO/training_log/l_22\u001b[0m\n",
      "Starting training for 100 epochs...\n",
      "\n",
      "      Epoch    GPU_mem   box_loss   cls_loss   dfl_loss  Instances       Size\n"
     ]
    },
    {
     "name": "stderr",
     "output_type": "stream",
     "text": [
      "      1/100         0G     0.8027        1.3       1.32         78        640: 100%|██████████| 50/50 [36:27<00:00, 43.75s/it]\n",
      "                 Class     Images  Instances      Box(P          R      mAP50  mAP50-95): 100%|██████████| 7/7 [03:52<00:00, 33.25s/it]"
     ]
    },
    {
     "name": "stdout",
     "output_type": "stream",
     "text": [
      "                   all        200        668      0.075      0.815      0.131      0.106\n"
     ]
    },
    {
     "name": "stderr",
     "output_type": "stream",
     "text": [
      "\n"
     ]
    },
    {
     "name": "stdout",
     "output_type": "stream",
     "text": [
      "\n",
      "      Epoch    GPU_mem   box_loss   cls_loss   dfl_loss  Instances       Size\n"
     ]
    },
    {
     "name": "stderr",
     "output_type": "stream",
     "text": [
      "      2/100         0G      0.859     0.8947      1.342         89        640: 100%|██████████| 50/50 [38:59<00:00, 46.79s/it]\n",
      "                 Class     Images  Instances      Box(P          R      mAP50  mAP50-95): 100%|██████████| 7/7 [04:01<00:00, 34.48s/it]"
     ]
    },
    {
     "name": "stdout",
     "output_type": "stream",
     "text": [
      "                   all        200        668      0.213      0.686      0.448       0.27\n"
     ]
    },
    {
     "name": "stderr",
     "output_type": "stream",
     "text": [
      "\n"
     ]
    },
    {
     "name": "stdout",
     "output_type": "stream",
     "text": [
      "\n",
      "      Epoch    GPU_mem   box_loss   cls_loss   dfl_loss  Instances       Size\n"
     ]
    },
    {
     "name": "stderr",
     "output_type": "stream",
     "text": [
      "      3/100         0G     0.8969     0.8627      1.363        121        640: 100%|██████████| 50/50 [37:06<00:00, 44.54s/it]\n",
      "                 Class     Images  Instances      Box(P          R      mAP50  mAP50-95): 100%|██████████| 7/7 [03:05<00:00, 26.56s/it]"
     ]
    },
    {
     "name": "stdout",
     "output_type": "stream",
     "text": [
      "                   all        200        668      0.391      0.788      0.661      0.444\n"
     ]
    },
    {
     "name": "stderr",
     "output_type": "stream",
     "text": [
      "\n"
     ]
    },
    {
     "name": "stdout",
     "output_type": "stream",
     "text": [
      "\n",
      "      Epoch    GPU_mem   box_loss   cls_loss   dfl_loss  Instances       Size\n"
     ]
    },
    {
     "name": "stderr",
     "output_type": "stream",
     "text": [
      "      4/100         0G     0.9077     0.8463      1.389        103        640: 100%|██████████| 50/50 [36:47<00:00, 44.15s/it]\n",
      "                 Class     Images  Instances      Box(P          R      mAP50  mAP50-95): 100%|██████████| 7/7 [03:37<00:00, 31.11s/it]"
     ]
    },
    {
     "name": "stdout",
     "output_type": "stream",
     "text": [
      "                   all        200        668      0.673      0.738      0.774      0.564\n"
     ]
    },
    {
     "name": "stderr",
     "output_type": "stream",
     "text": [
      "\n"
     ]
    },
    {
     "name": "stdout",
     "output_type": "stream",
     "text": [
      "\n",
      "      Epoch    GPU_mem   box_loss   cls_loss   dfl_loss  Instances       Size\n"
     ]
    },
    {
     "name": "stderr",
     "output_type": "stream",
     "text": [
      "      5/100         0G      0.855     0.7583      1.325         95        640: 100%|██████████| 50/50 [39:46<00:00, 47.74s/it]\n",
      "                 Class     Images  Instances      Box(P          R      mAP50  mAP50-95): 100%|██████████| 7/7 [03:07<00:00, 26.85s/it]"
     ]
    },
    {
     "name": "stdout",
     "output_type": "stream",
     "text": [
      "                   all        200        668      0.808      0.789       0.88      0.668\n"
     ]
    },
    {
     "name": "stderr",
     "output_type": "stream",
     "text": [
      "\n"
     ]
    },
    {
     "name": "stdout",
     "output_type": "stream",
     "text": [
      "\n",
      "      Epoch    GPU_mem   box_loss   cls_loss   dfl_loss  Instances       Size\n"
     ]
    },
    {
     "name": "stderr",
     "output_type": "stream",
     "text": [
      "      6/100         0G     0.8046     0.7154      1.298         87        640: 100%|██████████| 50/50 [33:28<00:00, 40.17s/it]\n",
      "                 Class     Images  Instances      Box(P          R      mAP50  mAP50-95): 100%|██████████| 7/7 [03:17<00:00, 28.16s/it]"
     ]
    },
    {
     "name": "stdout",
     "output_type": "stream",
     "text": [
      "                   all        200        668      0.972      0.987      0.994      0.832\n"
     ]
    },
    {
     "name": "stderr",
     "output_type": "stream",
     "text": [
      "\n"
     ]
    },
    {
     "name": "stdout",
     "output_type": "stream",
     "text": [
      "\n",
      "      Epoch    GPU_mem   box_loss   cls_loss   dfl_loss  Instances       Size\n"
     ]
    },
    {
     "name": "stderr",
     "output_type": "stream",
     "text": [
      "      7/100         0G     0.7711     0.6591      1.276         92        640: 100%|██████████| 50/50 [32:50<00:00, 39.40s/it]\n",
      "                 Class     Images  Instances      Box(P          R      mAP50  mAP50-95): 100%|██████████| 7/7 [03:10<00:00, 27.25s/it]"
     ]
    },
    {
     "name": "stdout",
     "output_type": "stream",
     "text": [
      "                   all        200        668       0.93      0.961      0.989      0.877\n"
     ]
    },
    {
     "name": "stderr",
     "output_type": "stream",
     "text": [
      "\n"
     ]
    },
    {
     "name": "stdout",
     "output_type": "stream",
     "text": [
      "\n",
      "      Epoch    GPU_mem   box_loss   cls_loss   dfl_loss  Instances       Size\n"
     ]
    },
    {
     "name": "stderr",
     "output_type": "stream",
     "text": [
      "      8/100         0G     0.6993      0.613      1.224        101        640: 100%|██████████| 50/50 [32:56<00:00, 39.53s/it]\n",
      "                 Class     Images  Instances      Box(P          R      mAP50  mAP50-95): 100%|██████████| 7/7 [03:11<00:00, 27.31s/it]"
     ]
    },
    {
     "name": "stdout",
     "output_type": "stream",
     "text": [
      "                   all        200        668      0.928      0.968       0.98      0.834\n"
     ]
    },
    {
     "name": "stderr",
     "output_type": "stream",
     "text": [
      "\n"
     ]
    },
    {
     "name": "stdout",
     "output_type": "stream",
     "text": [
      "\n",
      "      Epoch    GPU_mem   box_loss   cls_loss   dfl_loss  Instances       Size\n"
     ]
    },
    {
     "name": "stderr",
     "output_type": "stream",
     "text": [
      "      9/100         0G     0.7048     0.5839      1.217         93        640: 100%|██████████| 50/50 [33:07<00:00, 39.76s/it]\n",
      "                 Class     Images  Instances      Box(P          R      mAP50  mAP50-95): 100%|██████████| 7/7 [03:10<00:00, 27.27s/it]"
     ]
    },
    {
     "name": "stdout",
     "output_type": "stream",
     "text": [
      "                   all        200        668      0.934      0.993      0.988      0.863\n"
     ]
    },
    {
     "name": "stderr",
     "output_type": "stream",
     "text": [
      "\n"
     ]
    },
    {
     "name": "stdout",
     "output_type": "stream",
     "text": [
      "\n",
      "      Epoch    GPU_mem   box_loss   cls_loss   dfl_loss  Instances       Size\n"
     ]
    },
    {
     "name": "stderr",
     "output_type": "stream",
     "text": [
      "     10/100         0G     0.7019     0.5803       1.21        102        640: 100%|██████████| 50/50 [33:01<00:00, 39.64s/it]\n",
      "                 Class     Images  Instances      Box(P          R      mAP50  mAP50-95): 100%|██████████| 7/7 [03:11<00:00, 27.36s/it]"
     ]
    },
    {
     "name": "stdout",
     "output_type": "stream",
     "text": [
      "                   all        200        668       0.99      0.995      0.994      0.855\n"
     ]
    },
    {
     "name": "stderr",
     "output_type": "stream",
     "text": [
      "\n"
     ]
    },
    {
     "name": "stdout",
     "output_type": "stream",
     "text": [
      "\n",
      "      Epoch    GPU_mem   box_loss   cls_loss   dfl_loss  Instances       Size\n"
     ]
    },
    {
     "name": "stderr",
     "output_type": "stream",
     "text": [
      "     11/100         0G     0.6577     0.5522      1.193        104        640: 100%|██████████| 50/50 [33:06<00:00, 39.72s/it]\n",
      "                 Class     Images  Instances      Box(P          R      mAP50  mAP50-95): 100%|██████████| 7/7 [03:11<00:00, 27.36s/it]"
     ]
    },
    {
     "name": "stdout",
     "output_type": "stream",
     "text": [
      "                   all        200        668      0.972      0.973       0.99      0.851\n"
     ]
    },
    {
     "name": "stderr",
     "output_type": "stream",
     "text": [
      "\n"
     ]
    },
    {
     "name": "stdout",
     "output_type": "stream",
     "text": [
      "\n",
      "      Epoch    GPU_mem   box_loss   cls_loss   dfl_loss  Instances       Size\n"
     ]
    },
    {
     "name": "stderr",
     "output_type": "stream",
     "text": [
      "     12/100         0G     0.6454     0.5323      1.176        112        640: 100%|██████████| 50/50 [33:12<00:00, 39.85s/it]\n",
      "                 Class     Images  Instances      Box(P          R      mAP50  mAP50-95): 100%|██████████| 7/7 [03:09<00:00, 27.11s/it]"
     ]
    },
    {
     "name": "stdout",
     "output_type": "stream",
     "text": [
      "                   all        200        668       0.95      0.981      0.991      0.858\n"
     ]
    },
    {
     "name": "stderr",
     "output_type": "stream",
     "text": [
      "\n"
     ]
    },
    {
     "name": "stdout",
     "output_type": "stream",
     "text": [
      "\n",
      "      Epoch    GPU_mem   box_loss   cls_loss   dfl_loss  Instances       Size\n"
     ]
    },
    {
     "name": "stderr",
     "output_type": "stream",
     "text": [
      "     13/100         0G     0.6377     0.5068      1.167         95        640: 100%|██████████| 50/50 [32:48<00:00, 39.38s/it]\n",
      "                 Class     Images  Instances      Box(P          R      mAP50  mAP50-95): 100%|██████████| 7/7 [03:14<00:00, 27.73s/it]"
     ]
    },
    {
     "name": "stdout",
     "output_type": "stream",
     "text": [
      "                   all        200        668      0.981      0.992      0.994        0.9\n"
     ]
    },
    {
     "name": "stderr",
     "output_type": "stream",
     "text": [
      "\n"
     ]
    },
    {
     "name": "stdout",
     "output_type": "stream",
     "text": [
      "\n",
      "      Epoch    GPU_mem   box_loss   cls_loss   dfl_loss  Instances       Size\n"
     ]
    },
    {
     "name": "stderr",
     "output_type": "stream",
     "text": [
      "     14/100         0G     0.6235      0.508      1.159        108        640: 100%|██████████| 50/50 [32:41<00:00, 39.23s/it]\n",
      "                 Class     Images  Instances      Box(P          R      mAP50  mAP50-95): 100%|██████████| 7/7 [03:13<00:00, 27.58s/it]"
     ]
    },
    {
     "name": "stdout",
     "output_type": "stream",
     "text": [
      "                   all        200        668      0.995      0.993      0.995      0.893\n"
     ]
    },
    {
     "name": "stderr",
     "output_type": "stream",
     "text": [
      "\n"
     ]
    },
    {
     "name": "stdout",
     "output_type": "stream",
     "text": [
      "\n",
      "      Epoch    GPU_mem   box_loss   cls_loss   dfl_loss  Instances       Size\n"
     ]
    },
    {
     "name": "stderr",
     "output_type": "stream",
     "text": [
      "     15/100         0G      0.629     0.5061      1.179         77        640: 100%|██████████| 50/50 [33:03<00:00, 39.68s/it]\n",
      "                 Class     Images  Instances      Box(P          R      mAP50  mAP50-95): 100%|██████████| 7/7 [03:14<00:00, 27.84s/it]"
     ]
    },
    {
     "name": "stdout",
     "output_type": "stream",
     "text": [
      "                   all        200        668      0.986      0.992      0.995      0.906\n"
     ]
    },
    {
     "name": "stderr",
     "output_type": "stream",
     "text": [
      "\n"
     ]
    },
    {
     "name": "stdout",
     "output_type": "stream",
     "text": [
      "\n",
      "      Epoch    GPU_mem   box_loss   cls_loss   dfl_loss  Instances       Size\n"
     ]
    },
    {
     "name": "stderr",
     "output_type": "stream",
     "text": [
      "     16/100         0G     0.5971     0.4861       1.15        106        640: 100%|██████████| 50/50 [33:15<00:00, 39.91s/it]\n",
      "                 Class     Images  Instances      Box(P          R      mAP50  mAP50-95): 100%|██████████| 7/7 [03:15<00:00, 27.91s/it]"
     ]
    },
    {
     "name": "stdout",
     "output_type": "stream",
     "text": [
      "                   all        200        668      0.995      0.999      0.995      0.909\n"
     ]
    },
    {
     "name": "stderr",
     "output_type": "stream",
     "text": [
      "\n"
     ]
    },
    {
     "name": "stdout",
     "output_type": "stream",
     "text": [
      "\n",
      "      Epoch    GPU_mem   box_loss   cls_loss   dfl_loss  Instances       Size\n"
     ]
    },
    {
     "name": "stderr",
     "output_type": "stream",
     "text": [
      "     17/100         0G     0.5898      0.486      1.156        122        640: 100%|██████████| 50/50 [1:32:38<00:00, 111.16s/it]   \n",
      "                 Class     Images  Instances      Box(P          R      mAP50  mAP50-95): 100%|██████████| 7/7 [03:20<00:00, 28.71s/it]"
     ]
    },
    {
     "name": "stdout",
     "output_type": "stream",
     "text": [
      "                   all        200        668      0.992      0.998      0.995      0.919\n"
     ]
    },
    {
     "name": "stderr",
     "output_type": "stream",
     "text": [
      "\n"
     ]
    },
    {
     "name": "stdout",
     "output_type": "stream",
     "text": [
      "\n",
      "      Epoch    GPU_mem   box_loss   cls_loss   dfl_loss  Instances       Size\n"
     ]
    },
    {
     "name": "stderr",
     "output_type": "stream",
     "text": [
      "     18/100         0G     0.5879     0.4813      1.141        108        640: 100%|██████████| 50/50 [41:04<00:00, 49.29s/it]   \n",
      "                 Class     Images  Instances      Box(P          R      mAP50  mAP50-95): 100%|██████████| 7/7 [04:03<00:00, 34.84s/it]"
     ]
    },
    {
     "name": "stdout",
     "output_type": "stream",
     "text": [
      "                   all        200        668      0.991      0.998      0.995      0.888\n"
     ]
    },
    {
     "name": "stderr",
     "output_type": "stream",
     "text": [
      "\n"
     ]
    },
    {
     "name": "stdout",
     "output_type": "stream",
     "text": [
      "\n",
      "      Epoch    GPU_mem   box_loss   cls_loss   dfl_loss  Instances       Size\n"
     ]
    },
    {
     "name": "stderr",
     "output_type": "stream",
     "text": [
      "     19/100         0G     0.5765     0.4639      1.134         90        640: 100%|██████████| 50/50 [41:16<00:00, 49.54s/it]\n",
      "                 Class     Images  Instances      Box(P          R      mAP50  mAP50-95): 100%|██████████| 7/7 [03:44<00:00, 32.08s/it]"
     ]
    },
    {
     "name": "stdout",
     "output_type": "stream",
     "text": [
      "                   all        200        668      0.986      0.997      0.995      0.906\n"
     ]
    },
    {
     "name": "stderr",
     "output_type": "stream",
     "text": [
      "\n"
     ]
    },
    {
     "name": "stdout",
     "output_type": "stream",
     "text": [
      "\n",
      "      Epoch    GPU_mem   box_loss   cls_loss   dfl_loss  Instances       Size\n"
     ]
    },
    {
     "name": "stderr",
     "output_type": "stream",
     "text": [
      "     20/100         0G      0.571     0.4621      1.122         88        640: 100%|██████████| 50/50 [42:00<00:00, 50.41s/it]\n",
      "                 Class     Images  Instances      Box(P          R      mAP50  mAP50-95): 100%|██████████| 7/7 [04:43<00:00, 40.57s/it]"
     ]
    },
    {
     "name": "stdout",
     "output_type": "stream",
     "text": [
      "                   all        200        668      0.997          1      0.995      0.926\n"
     ]
    },
    {
     "name": "stderr",
     "output_type": "stream",
     "text": [
      "\n"
     ]
    },
    {
     "name": "stdout",
     "output_type": "stream",
     "text": [
      "\n",
      "      Epoch    GPU_mem   box_loss   cls_loss   dfl_loss  Instances       Size\n"
     ]
    },
    {
     "name": "stderr",
     "output_type": "stream",
     "text": [
      "     21/100         0G     0.5506     0.4309      1.116         97        640: 100%|██████████| 50/50 [38:35<00:00, 46.30s/it]\n",
      "                 Class     Images  Instances      Box(P          R      mAP50  mAP50-95): 100%|██████████| 7/7 [03:24<00:00, 29.21s/it]"
     ]
    },
    {
     "name": "stdout",
     "output_type": "stream",
     "text": [
      "                   all        200        668      0.991      0.997      0.995      0.897\n"
     ]
    },
    {
     "name": "stderr",
     "output_type": "stream",
     "text": [
      "\n"
     ]
    },
    {
     "name": "stdout",
     "output_type": "stream",
     "text": [
      "\n",
      "      Epoch    GPU_mem   box_loss   cls_loss   dfl_loss  Instances       Size\n"
     ]
    },
    {
     "name": "stderr",
     "output_type": "stream",
     "text": [
      "     22/100         0G     0.5667     0.4473      1.125         84        640: 100%|██████████| 50/50 [35:28<00:00, 42.56s/it]\n",
      "                 Class     Images  Instances      Box(P          R      mAP50  mAP50-95): 100%|██████████| 7/7 [03:57<00:00, 33.87s/it]"
     ]
    },
    {
     "name": "stdout",
     "output_type": "stream",
     "text": [
      "                   all        200        668      0.999          1      0.995      0.924\n"
     ]
    },
    {
     "name": "stderr",
     "output_type": "stream",
     "text": [
      "\n"
     ]
    },
    {
     "name": "stdout",
     "output_type": "stream",
     "text": [
      "\n",
      "      Epoch    GPU_mem   box_loss   cls_loss   dfl_loss  Instances       Size\n"
     ]
    },
    {
     "name": "stderr",
     "output_type": "stream",
     "text": [
      "     23/100         0G     0.5485     0.4304      1.112         92        640: 100%|██████████| 50/50 [35:51<00:00, 43.02s/it]\n",
      "                 Class     Images  Instances      Box(P          R      mAP50  mAP50-95): 100%|██████████| 7/7 [04:13<00:00, 36.25s/it]"
     ]
    },
    {
     "name": "stdout",
     "output_type": "stream",
     "text": [
      "                   all        200        668      0.987      0.994      0.994      0.904\n"
     ]
    },
    {
     "name": "stderr",
     "output_type": "stream",
     "text": [
      "\n"
     ]
    },
    {
     "name": "stdout",
     "output_type": "stream",
     "text": [
      "\n",
      "      Epoch    GPU_mem   box_loss   cls_loss   dfl_loss  Instances       Size\n"
     ]
    },
    {
     "name": "stderr",
     "output_type": "stream",
     "text": [
      "     24/100         0G     0.5319     0.4302      1.104         94        640: 100%|██████████| 50/50 [38:40<00:00, 46.40s/it]\n",
      "                 Class     Images  Instances      Box(P          R      mAP50  mAP50-95): 100%|██████████| 7/7 [04:21<00:00, 37.35s/it]"
     ]
    },
    {
     "name": "stdout",
     "output_type": "stream",
     "text": [
      "                   all        200        668      0.999      0.998      0.995      0.956\n"
     ]
    },
    {
     "name": "stderr",
     "output_type": "stream",
     "text": [
      "\n"
     ]
    },
    {
     "name": "stdout",
     "output_type": "stream",
     "text": [
      "\n",
      "      Epoch    GPU_mem   box_loss   cls_loss   dfl_loss  Instances       Size\n"
     ]
    },
    {
     "name": "stderr",
     "output_type": "stream",
     "text": [
      "     25/100         0G      0.528     0.4227      1.113        102        640: 100%|██████████| 50/50 [38:38<00:00, 46.36s/it]\n",
      "                 Class     Images  Instances      Box(P          R      mAP50  mAP50-95): 100%|██████████| 7/7 [03:52<00:00, 33.28s/it]"
     ]
    },
    {
     "name": "stdout",
     "output_type": "stream",
     "text": [
      "                   all        200        668      0.998          1      0.995      0.946\n"
     ]
    },
    {
     "name": "stderr",
     "output_type": "stream",
     "text": [
      "\n"
     ]
    },
    {
     "name": "stdout",
     "output_type": "stream",
     "text": [
      "\n",
      "      Epoch    GPU_mem   box_loss   cls_loss   dfl_loss  Instances       Size\n"
     ]
    },
    {
     "name": "stderr",
     "output_type": "stream",
     "text": [
      "     26/100         0G     0.5195     0.4121      1.103        101        640: 100%|██████████| 50/50 [37:46<00:00, 45.33s/it]\n",
      "                 Class     Images  Instances      Box(P          R      mAP50  mAP50-95): 100%|██████████| 7/7 [36:18<00:00, 311.19s/it]   "
     ]
    },
    {
     "name": "stdout",
     "output_type": "stream",
     "text": [
      "                   all        200        668      0.995      0.998      0.995       0.95\n"
     ]
    },
    {
     "name": "stderr",
     "output_type": "stream",
     "text": [
      "\n"
     ]
    },
    {
     "name": "stdout",
     "output_type": "stream",
     "text": [
      "\n",
      "      Epoch    GPU_mem   box_loss   cls_loss   dfl_loss  Instances       Size\n"
     ]
    },
    {
     "name": "stderr",
     "output_type": "stream",
     "text": [
      "     27/100         0G     0.5188      0.412      1.091        115        640: 100%|██████████| 50/50 [53:18<00:00, 63.97s/it]   \n",
      "                 Class     Images  Instances      Box(P          R      mAP50  mAP50-95): 100%|██████████| 7/7 [02:57<00:00, 25.32s/it]"
     ]
    },
    {
     "name": "stdout",
     "output_type": "stream",
     "text": [
      "                   all        200        668      0.993          1      0.994      0.953\n"
     ]
    },
    {
     "name": "stderr",
     "output_type": "stream",
     "text": [
      "\n"
     ]
    },
    {
     "name": "stdout",
     "output_type": "stream",
     "text": [
      "\n",
      "      Epoch    GPU_mem   box_loss   cls_loss   dfl_loss  Instances       Size\n"
     ]
    },
    {
     "name": "stderr",
     "output_type": "stream",
     "text": [
      "     28/100         0G     0.5279     0.4169      1.101        101        640: 100%|██████████| 50/50 [35:00<00:00, 42.02s/it]\n",
      "                 Class     Images  Instances      Box(P          R      mAP50  mAP50-95): 100%|██████████| 7/7 [03:52<00:00, 33.15s/it]"
     ]
    },
    {
     "name": "stdout",
     "output_type": "stream",
     "text": [
      "                   all        200        668      0.998          1      0.995       0.93\n"
     ]
    },
    {
     "name": "stderr",
     "output_type": "stream",
     "text": [
      "\n"
     ]
    },
    {
     "name": "stdout",
     "output_type": "stream",
     "text": [
      "\n",
      "      Epoch    GPU_mem   box_loss   cls_loss   dfl_loss  Instances       Size\n"
     ]
    },
    {
     "name": "stderr",
     "output_type": "stream",
     "text": [
      "     29/100         0G     0.5026     0.3916       1.08        106        640: 100%|██████████| 50/50 [40:03<00:00, 48.07s/it]\n",
      "                 Class     Images  Instances      Box(P          R      mAP50  mAP50-95): 100%|██████████| 7/7 [03:08<00:00, 26.89s/it]"
     ]
    },
    {
     "name": "stdout",
     "output_type": "stream",
     "text": [
      "                   all        200        668      0.995      0.999      0.995      0.954\n"
     ]
    },
    {
     "name": "stderr",
     "output_type": "stream",
     "text": [
      "\n"
     ]
    },
    {
     "name": "stdout",
     "output_type": "stream",
     "text": [
      "\n",
      "      Epoch    GPU_mem   box_loss   cls_loss   dfl_loss  Instances       Size\n"
     ]
    },
    {
     "name": "stderr",
     "output_type": "stream",
     "text": [
      "     30/100         0G     0.5036      0.392       1.09        101        640: 100%|██████████| 50/50 [33:44<00:00, 40.49s/it]\n",
      "                 Class     Images  Instances      Box(P          R      mAP50  mAP50-95): 100%|██████████| 7/7 [03:17<00:00, 28.27s/it]"
     ]
    },
    {
     "name": "stdout",
     "output_type": "stream",
     "text": [
      "                   all        200        668      0.995      0.998      0.995      0.947\n"
     ]
    },
    {
     "name": "stderr",
     "output_type": "stream",
     "text": [
      "\n"
     ]
    },
    {
     "name": "stdout",
     "output_type": "stream",
     "text": [
      "\n",
      "      Epoch    GPU_mem   box_loss   cls_loss   dfl_loss  Instances       Size\n"
     ]
    },
    {
     "name": "stderr",
     "output_type": "stream",
     "text": [
      "     31/100         0G     0.4917     0.3805       1.08        106        640: 100%|██████████| 50/50 [34:15<00:00, 41.11s/it]\n",
      "                 Class     Images  Instances      Box(P          R      mAP50  mAP50-95): 100%|██████████| 7/7 [03:24<00:00, 29.24s/it]"
     ]
    },
    {
     "name": "stdout",
     "output_type": "stream",
     "text": [
      "                   all        200        668      0.995          1      0.995      0.967\n"
     ]
    },
    {
     "name": "stderr",
     "output_type": "stream",
     "text": [
      "\n"
     ]
    },
    {
     "name": "stdout",
     "output_type": "stream",
     "text": [
      "\n",
      "      Epoch    GPU_mem   box_loss   cls_loss   dfl_loss  Instances       Size\n"
     ]
    },
    {
     "name": "stderr",
     "output_type": "stream",
     "text": [
      "     32/100         0G     0.5084      0.387      1.089        113        640: 100%|██████████| 50/50 [34:35<00:00, 41.51s/it]\n",
      "                 Class     Images  Instances      Box(P          R      mAP50  mAP50-95): 100%|██████████| 7/7 [03:20<00:00, 28.59s/it]"
     ]
    },
    {
     "name": "stdout",
     "output_type": "stream",
     "text": [
      "                   all        200        668      0.999          1      0.995      0.943\n"
     ]
    },
    {
     "name": "stderr",
     "output_type": "stream",
     "text": [
      "\n"
     ]
    },
    {
     "name": "stdout",
     "output_type": "stream",
     "text": [
      "\n",
      "      Epoch    GPU_mem   box_loss   cls_loss   dfl_loss  Instances       Size\n"
     ]
    },
    {
     "name": "stderr",
     "output_type": "stream",
     "text": [
      "     33/100         0G     0.4768     0.3743      1.065        112        640: 100%|██████████| 50/50 [34:40<00:00, 41.62s/it]\n",
      "                 Class     Images  Instances      Box(P          R      mAP50  mAP50-95): 100%|██████████| 7/7 [03:34<00:00, 30.57s/it]"
     ]
    },
    {
     "name": "stdout",
     "output_type": "stream",
     "text": [
      "                   all        200        668      0.996      0.998      0.995      0.944\n"
     ]
    },
    {
     "name": "stderr",
     "output_type": "stream",
     "text": [
      "\n"
     ]
    },
    {
     "name": "stdout",
     "output_type": "stream",
     "text": [
      "\n",
      "      Epoch    GPU_mem   box_loss   cls_loss   dfl_loss  Instances       Size\n"
     ]
    },
    {
     "name": "stderr",
     "output_type": "stream",
     "text": [
      "     34/100         0G     0.4885     0.3826      1.081        107        640: 100%|██████████| 50/50 [40:40<00:00, 48.81s/it]\n",
      "                 Class     Images  Instances      Box(P          R      mAP50  mAP50-95): 100%|██████████| 7/7 [03:57<00:00, 33.96s/it]"
     ]
    },
    {
     "name": "stdout",
     "output_type": "stream",
     "text": [
      "                   all        200        668      0.997      0.999      0.995      0.946\n"
     ]
    },
    {
     "name": "stderr",
     "output_type": "stream",
     "text": [
      "\n"
     ]
    },
    {
     "name": "stdout",
     "output_type": "stream",
     "text": [
      "\n",
      "      Epoch    GPU_mem   box_loss   cls_loss   dfl_loss  Instances       Size\n"
     ]
    },
    {
     "name": "stderr",
     "output_type": "stream",
     "text": [
      "     35/100         0G     0.4643     0.3578      1.059         93        640: 100%|██████████| 50/50 [38:34<00:00, 46.28s/it]\n",
      "                 Class     Images  Instances      Box(P          R      mAP50  mAP50-95): 100%|██████████| 7/7 [03:37<00:00, 31.05s/it]"
     ]
    },
    {
     "name": "stdout",
     "output_type": "stream",
     "text": [
      "                   all        200        668      0.999          1      0.995      0.958\n"
     ]
    },
    {
     "name": "stderr",
     "output_type": "stream",
     "text": [
      "\n"
     ]
    },
    {
     "name": "stdout",
     "output_type": "stream",
     "text": [
      "\n",
      "      Epoch    GPU_mem   box_loss   cls_loss   dfl_loss  Instances       Size\n"
     ]
    },
    {
     "name": "stderr",
     "output_type": "stream",
     "text": [
      "     36/100         0G      0.485     0.3666      1.077        101        640: 100%|██████████| 50/50 [38:06<00:00, 45.74s/it]\n",
      "                 Class     Images  Instances      Box(P          R      mAP50  mAP50-95): 100%|██████████| 7/7 [03:41<00:00, 31.62s/it]"
     ]
    },
    {
     "name": "stdout",
     "output_type": "stream",
     "text": [
      "                   all        200        668      0.999          1      0.995      0.922\n"
     ]
    },
    {
     "name": "stderr",
     "output_type": "stream",
     "text": [
      "\n"
     ]
    },
    {
     "name": "stdout",
     "output_type": "stream",
     "text": [
      "\n",
      "      Epoch    GPU_mem   box_loss   cls_loss   dfl_loss  Instances       Size\n"
     ]
    },
    {
     "name": "stderr",
     "output_type": "stream",
     "text": [
      "     37/100         0G     0.4803     0.3698      1.078         98        640: 100%|██████████| 50/50 [36:56<00:00, 44.33s/it]\n",
      "                 Class     Images  Instances      Box(P          R      mAP50  mAP50-95): 100%|██████████| 7/7 [03:29<00:00, 29.92s/it]"
     ]
    },
    {
     "name": "stdout",
     "output_type": "stream",
     "text": [
      "                   all        200        668      0.999          1      0.995      0.968\n"
     ]
    },
    {
     "name": "stderr",
     "output_type": "stream",
     "text": [
      "\n"
     ]
    },
    {
     "name": "stdout",
     "output_type": "stream",
     "text": [
      "\n",
      "      Epoch    GPU_mem   box_loss   cls_loss   dfl_loss  Instances       Size\n"
     ]
    },
    {
     "name": "stderr",
     "output_type": "stream",
     "text": [
      "     38/100         0G     0.4686     0.3682      1.071         96        640: 100%|██████████| 50/50 [35:13<00:00, 42.27s/it]\n",
      "                 Class     Images  Instances      Box(P          R      mAP50  mAP50-95): 100%|██████████| 7/7 [03:03<00:00, 26.16s/it]"
     ]
    },
    {
     "name": "stdout",
     "output_type": "stream",
     "text": [
      "                   all        200        668      0.998      0.999      0.995      0.955\n"
     ]
    },
    {
     "name": "stderr",
     "output_type": "stream",
     "text": [
      "\n"
     ]
    },
    {
     "name": "stdout",
     "output_type": "stream",
     "text": [
      "\n",
      "      Epoch    GPU_mem   box_loss   cls_loss   dfl_loss  Instances       Size\n"
     ]
    },
    {
     "name": "stderr",
     "output_type": "stream",
     "text": [
      "     39/100         0G     0.4581      0.348      1.055        101        640: 100%|██████████| 50/50 [33:49<00:00, 40.60s/it]\n",
      "                 Class     Images  Instances      Box(P          R      mAP50  mAP50-95): 100%|██████████| 7/7 [03:21<00:00, 28.72s/it]"
     ]
    },
    {
     "name": "stdout",
     "output_type": "stream",
     "text": [
      "                   all        200        668      0.999          1      0.995      0.967\n"
     ]
    },
    {
     "name": "stderr",
     "output_type": "stream",
     "text": [
      "\n"
     ]
    },
    {
     "name": "stdout",
     "output_type": "stream",
     "text": [
      "\n",
      "      Epoch    GPU_mem   box_loss   cls_loss   dfl_loss  Instances       Size\n"
     ]
    },
    {
     "name": "stderr",
     "output_type": "stream",
     "text": [
      "     40/100         0G     0.4437      0.336      1.048        120        640: 100%|██████████| 50/50 [34:12<00:00, 41.05s/it]\n",
      "                 Class     Images  Instances      Box(P          R      mAP50  mAP50-95): 100%|██████████| 7/7 [03:17<00:00, 28.15s/it]"
     ]
    },
    {
     "name": "stdout",
     "output_type": "stream",
     "text": [
      "                   all        200        668      0.999          1      0.995      0.958\n"
     ]
    },
    {
     "name": "stderr",
     "output_type": "stream",
     "text": [
      "\n"
     ]
    },
    {
     "name": "stdout",
     "output_type": "stream",
     "text": [
      "\n",
      "      Epoch    GPU_mem   box_loss   cls_loss   dfl_loss  Instances       Size\n"
     ]
    },
    {
     "name": "stderr",
     "output_type": "stream",
     "text": [
      "     41/100         0G     0.4463     0.3444      1.047        116        640: 100%|██████████| 50/50 [34:00<00:00, 40.81s/it]\n",
      "                 Class     Images  Instances      Box(P          R      mAP50  mAP50-95): 100%|██████████| 7/7 [03:16<00:00, 28.09s/it]"
     ]
    },
    {
     "name": "stdout",
     "output_type": "stream",
     "text": [
      "                   all        200        668      0.998          1      0.995      0.958\n"
     ]
    },
    {
     "name": "stderr",
     "output_type": "stream",
     "text": [
      "\n"
     ]
    },
    {
     "name": "stdout",
     "output_type": "stream",
     "text": [
      "\n",
      "      Epoch    GPU_mem   box_loss   cls_loss   dfl_loss  Instances       Size\n"
     ]
    },
    {
     "name": "stderr",
     "output_type": "stream",
     "text": [
      "     42/100         0G     0.4474     0.3271      1.043         88        640: 100%|██████████| 50/50 [33:57<00:00, 40.75s/it]\n",
      "                 Class     Images  Instances      Box(P          R      mAP50  mAP50-95): 100%|██████████| 7/7 [03:19<00:00, 28.44s/it]"
     ]
    },
    {
     "name": "stdout",
     "output_type": "stream",
     "text": [
      "                   all        200        668      0.998          1      0.995      0.975\n"
     ]
    },
    {
     "name": "stderr",
     "output_type": "stream",
     "text": [
      "\n"
     ]
    },
    {
     "name": "stdout",
     "output_type": "stream",
     "text": [
      "\n",
      "      Epoch    GPU_mem   box_loss   cls_loss   dfl_loss  Instances       Size\n"
     ]
    },
    {
     "name": "stderr",
     "output_type": "stream",
     "text": [
      "     43/100         0G     0.4428     0.3537      1.055        108        640: 100%|██████████| 50/50 [33:47<00:00, 40.55s/it]\n",
      "                 Class     Images  Instances      Box(P          R      mAP50  mAP50-95): 100%|██████████| 7/7 [03:15<00:00, 27.90s/it]"
     ]
    },
    {
     "name": "stdout",
     "output_type": "stream",
     "text": [
      "                   all        200        668      0.999          1      0.995      0.979\n"
     ]
    },
    {
     "name": "stderr",
     "output_type": "stream",
     "text": [
      "\n"
     ]
    },
    {
     "name": "stdout",
     "output_type": "stream",
     "text": [
      "\n",
      "      Epoch    GPU_mem   box_loss   cls_loss   dfl_loss  Instances       Size\n"
     ]
    },
    {
     "name": "stderr",
     "output_type": "stream",
     "text": [
      "     44/100         0G     0.4369     0.3287      1.046         88        640: 100%|██████████| 50/50 [33:30<00:00, 40.22s/it]\n",
      "                 Class     Images  Instances      Box(P          R      mAP50  mAP50-95): 100%|██████████| 7/7 [03:12<00:00, 27.54s/it]"
     ]
    },
    {
     "name": "stdout",
     "output_type": "stream",
     "text": [
      "                   all        200        668      0.999          1      0.995      0.979\n"
     ]
    },
    {
     "name": "stderr",
     "output_type": "stream",
     "text": [
      "\n"
     ]
    },
    {
     "name": "stdout",
     "output_type": "stream",
     "text": [
      "\n",
      "      Epoch    GPU_mem   box_loss   cls_loss   dfl_loss  Instances       Size\n"
     ]
    },
    {
     "name": "stderr",
     "output_type": "stream",
     "text": [
      "     45/100         0G     0.4379     0.3463      1.043        106        640: 100%|██████████| 50/50 [33:41<00:00, 40.43s/it]\n",
      "                 Class     Images  Instances      Box(P          R      mAP50  mAP50-95): 100%|██████████| 7/7 [03:14<00:00, 27.74s/it]"
     ]
    },
    {
     "name": "stdout",
     "output_type": "stream",
     "text": [
      "                   all        200        668      0.999          1      0.995      0.979\n"
     ]
    },
    {
     "name": "stderr",
     "output_type": "stream",
     "text": [
      "\n"
     ]
    },
    {
     "name": "stdout",
     "output_type": "stream",
     "text": [
      "\n",
      "      Epoch    GPU_mem   box_loss   cls_loss   dfl_loss  Instances       Size\n"
     ]
    },
    {
     "name": "stderr",
     "output_type": "stream",
     "text": [
      "     46/100         0G     0.4248     0.3216      1.037        120        640: 100%|██████████| 50/50 [33:38<00:00, 40.37s/it]\n",
      "                 Class     Images  Instances      Box(P          R      mAP50  mAP50-95): 100%|██████████| 7/7 [03:14<00:00, 27.80s/it]"
     ]
    },
    {
     "name": "stdout",
     "output_type": "stream",
     "text": [
      "                   all        200        668          1          1      0.995      0.979\n"
     ]
    },
    {
     "name": "stderr",
     "output_type": "stream",
     "text": [
      "\n"
     ]
    },
    {
     "name": "stdout",
     "output_type": "stream",
     "text": [
      "\n",
      "      Epoch    GPU_mem   box_loss   cls_loss   dfl_loss  Instances       Size\n"
     ]
    },
    {
     "name": "stderr",
     "output_type": "stream",
     "text": [
      "     47/100         0G     0.4328      0.329      1.045         85        640: 100%|██████████| 50/50 [33:43<00:00, 40.47s/it]\n",
      "                 Class     Images  Instances      Box(P          R      mAP50  mAP50-95): 100%|██████████| 7/7 [03:16<00:00, 28.01s/it]"
     ]
    },
    {
     "name": "stdout",
     "output_type": "stream",
     "text": [
      "                   all        200        668      0.999          1      0.995      0.988\n"
     ]
    },
    {
     "name": "stderr",
     "output_type": "stream",
     "text": [
      "\n"
     ]
    },
    {
     "name": "stdout",
     "output_type": "stream",
     "text": [
      "\n",
      "      Epoch    GPU_mem   box_loss   cls_loss   dfl_loss  Instances       Size\n"
     ]
    },
    {
     "name": "stderr",
     "output_type": "stream",
     "text": [
      "     48/100         0G     0.4332     0.3246      1.038        112        640: 100%|██████████| 50/50 [33:51<00:00, 40.62s/it]\n",
      "                 Class     Images  Instances      Box(P          R      mAP50  mAP50-95): 100%|██████████| 7/7 [03:19<00:00, 28.45s/it]"
     ]
    },
    {
     "name": "stdout",
     "output_type": "stream",
     "text": [
      "                   all        200        668      0.998          1      0.995      0.978\n"
     ]
    },
    {
     "name": "stderr",
     "output_type": "stream",
     "text": [
      "\n"
     ]
    },
    {
     "name": "stdout",
     "output_type": "stream",
     "text": [
      "\n",
      "      Epoch    GPU_mem   box_loss   cls_loss   dfl_loss  Instances       Size\n"
     ]
    },
    {
     "name": "stderr",
     "output_type": "stream",
     "text": [
      "     49/100         0G     0.4186     0.3234      1.034        104        640: 100%|██████████| 50/50 [33:29<00:00, 40.20s/it]\n",
      "                 Class     Images  Instances      Box(P          R      mAP50  mAP50-95): 100%|██████████| 7/7 [03:12<00:00, 27.56s/it]"
     ]
    },
    {
     "name": "stdout",
     "output_type": "stream",
     "text": [
      "                   all        200        668      0.995          1      0.995      0.966\n"
     ]
    },
    {
     "name": "stderr",
     "output_type": "stream",
     "text": [
      "\n"
     ]
    },
    {
     "name": "stdout",
     "output_type": "stream",
     "text": [
      "\n",
      "      Epoch    GPU_mem   box_loss   cls_loss   dfl_loss  Instances       Size\n"
     ]
    },
    {
     "name": "stderr",
     "output_type": "stream",
     "text": [
      "     50/100         0G     0.4254     0.3203      1.041        102        640: 100%|██████████| 50/50 [33:26<00:00, 40.13s/it]\n",
      "                 Class     Images  Instances      Box(P          R      mAP50  mAP50-95): 100%|██████████| 7/7 [03:13<00:00, 27.62s/it]"
     ]
    },
    {
     "name": "stdout",
     "output_type": "stream",
     "text": [
      "                   all        200        668      0.998          1      0.995      0.985\n"
     ]
    },
    {
     "name": "stderr",
     "output_type": "stream",
     "text": [
      "\n"
     ]
    },
    {
     "name": "stdout",
     "output_type": "stream",
     "text": [
      "\n",
      "      Epoch    GPU_mem   box_loss   cls_loss   dfl_loss  Instances       Size\n"
     ]
    },
    {
     "name": "stderr",
     "output_type": "stream",
     "text": [
      "     51/100         0G     0.4209     0.3193      1.032         87        640: 100%|██████████| 50/50 [1:39:48<00:00, 119.76s/it]    \n",
      "                 Class     Images  Instances      Box(P          R      mAP50  mAP50-95): 100%|██████████| 7/7 [03:27<00:00, 29.58s/it]"
     ]
    },
    {
     "name": "stdout",
     "output_type": "stream",
     "text": [
      "                   all        200        668      0.999          1      0.995      0.988\n"
     ]
    },
    {
     "name": "stderr",
     "output_type": "stream",
     "text": [
      "\n"
     ]
    },
    {
     "name": "stdout",
     "output_type": "stream",
     "text": [
      "\n",
      "      Epoch    GPU_mem   box_loss   cls_loss   dfl_loss  Instances       Size\n"
     ]
    },
    {
     "name": "stderr",
     "output_type": "stream",
     "text": [
      "     52/100         0G     0.4249      0.326      1.043        110        640: 100%|██████████| 50/50 [36:23<00:00, 43.67s/it]\n",
      "                 Class     Images  Instances      Box(P          R      mAP50  mAP50-95): 100%|██████████| 7/7 [04:13<00:00, 36.23s/it]"
     ]
    },
    {
     "name": "stdout",
     "output_type": "stream",
     "text": [
      "                   all        200        668      0.999          1      0.995      0.984\n"
     ]
    },
    {
     "name": "stderr",
     "output_type": "stream",
     "text": [
      "\n"
     ]
    },
    {
     "name": "stdout",
     "output_type": "stream",
     "text": [
      "\n",
      "      Epoch    GPU_mem   box_loss   cls_loss   dfl_loss  Instances       Size\n"
     ]
    },
    {
     "name": "stderr",
     "output_type": "stream",
     "text": [
      "     53/100         0G     0.4044     0.3068      1.017         96        640: 100%|██████████| 50/50 [1:11:18<00:00, 85.57s/it] \n",
      "                 Class     Images  Instances      Box(P          R      mAP50  mAP50-95): 100%|██████████| 7/7 [04:04<00:00, 34.91s/it]"
     ]
    },
    {
     "name": "stdout",
     "output_type": "stream",
     "text": [
      "                   all        200        668      0.999          1      0.995      0.987\n"
     ]
    },
    {
     "name": "stderr",
     "output_type": "stream",
     "text": [
      "\n"
     ]
    },
    {
     "name": "stdout",
     "output_type": "stream",
     "text": [
      "\n",
      "      Epoch    GPU_mem   box_loss   cls_loss   dfl_loss  Instances       Size\n"
     ]
    },
    {
     "name": "stderr",
     "output_type": "stream",
     "text": [
      "     54/100         0G     0.4042     0.3035      1.024        103        640: 100%|██████████| 50/50 [36:13<00:00, 43.48s/it]\n",
      "                 Class     Images  Instances      Box(P          R      mAP50  mAP50-95): 100%|██████████| 7/7 [03:27<00:00, 29.58s/it]"
     ]
    },
    {
     "name": "stdout",
     "output_type": "stream",
     "text": [
      "                   all        200        668      0.999          1      0.995      0.985\n"
     ]
    },
    {
     "name": "stderr",
     "output_type": "stream",
     "text": [
      "\n"
     ]
    },
    {
     "name": "stdout",
     "output_type": "stream",
     "text": [
      "\n",
      "      Epoch    GPU_mem   box_loss   cls_loss   dfl_loss  Instances       Size\n"
     ]
    },
    {
     "name": "stderr",
     "output_type": "stream",
     "text": [
      "     55/100         0G     0.3955     0.2941      1.018        113        640: 100%|██████████| 50/50 [36:45<00:00, 44.11s/it]\n",
      "                 Class     Images  Instances      Box(P          R      mAP50  mAP50-95): 100%|██████████| 7/7 [03:29<00:00, 29.95s/it]"
     ]
    },
    {
     "name": "stdout",
     "output_type": "stream",
     "text": [
      "                   all        200        668      0.999          1      0.995      0.986\n"
     ]
    },
    {
     "name": "stderr",
     "output_type": "stream",
     "text": [
      "\n"
     ]
    },
    {
     "name": "stdout",
     "output_type": "stream",
     "text": [
      "\n",
      "      Epoch    GPU_mem   box_loss   cls_loss   dfl_loss  Instances       Size\n"
     ]
    },
    {
     "name": "stderr",
     "output_type": "stream",
     "text": [
      "     56/100         0G      0.394     0.2929      1.018        109        640: 100%|██████████| 50/50 [37:40<00:00, 45.22s/it]\n",
      "                 Class     Images  Instances      Box(P          R      mAP50  mAP50-95): 100%|██████████| 7/7 [03:43<00:00, 31.86s/it]"
     ]
    },
    {
     "name": "stdout",
     "output_type": "stream",
     "text": [
      "                   all        200        668      0.999          1      0.995      0.985\n"
     ]
    },
    {
     "name": "stderr",
     "output_type": "stream",
     "text": [
      "\n"
     ]
    },
    {
     "name": "stdout",
     "output_type": "stream",
     "text": [
      "\n",
      "      Epoch    GPU_mem   box_loss   cls_loss   dfl_loss  Instances       Size\n"
     ]
    },
    {
     "name": "stderr",
     "output_type": "stream",
     "text": [
      "     57/100         0G     0.3844     0.2893      1.015        102        640: 100%|██████████| 50/50 [37:35<00:00, 45.11s/it]\n",
      "                 Class     Images  Instances      Box(P          R      mAP50  mAP50-95): 100%|██████████| 7/7 [04:01<00:00, 34.56s/it]"
     ]
    },
    {
     "name": "stdout",
     "output_type": "stream",
     "text": [
      "                   all        200        668      0.999          1      0.995       0.99\n"
     ]
    },
    {
     "name": "stderr",
     "output_type": "stream",
     "text": [
      "\n"
     ]
    },
    {
     "name": "stdout",
     "output_type": "stream",
     "text": [
      "\n",
      "      Epoch    GPU_mem   box_loss   cls_loss   dfl_loss  Instances       Size\n"
     ]
    },
    {
     "name": "stderr",
     "output_type": "stream",
     "text": [
      "     58/100         0G     0.3909     0.2957      1.021        118        640: 100%|██████████| 50/50 [38:42<00:00, 46.44s/it]\n",
      "                 Class     Images  Instances      Box(P          R      mAP50  mAP50-95): 100%|██████████| 7/7 [03:44<00:00, 32.07s/it]"
     ]
    },
    {
     "name": "stdout",
     "output_type": "stream",
     "text": [
      "                   all        200        668      0.999          1      0.995      0.988\n"
     ]
    },
    {
     "name": "stderr",
     "output_type": "stream",
     "text": [
      "\n"
     ]
    },
    {
     "name": "stdout",
     "output_type": "stream",
     "text": [
      "\n",
      "      Epoch    GPU_mem   box_loss   cls_loss   dfl_loss  Instances       Size\n"
     ]
    },
    {
     "name": "stderr",
     "output_type": "stream",
     "text": [
      "     59/100         0G     0.3807     0.2905      1.013         93        640: 100%|██████████| 50/50 [38:15<00:00, 45.91s/it]\n",
      "                 Class     Images  Instances      Box(P          R      mAP50  mAP50-95): 100%|██████████| 7/7 [03:16<00:00, 28.07s/it]"
     ]
    },
    {
     "name": "stdout",
     "output_type": "stream",
     "text": [
      "                   all        200        668          1          1      0.995      0.991\n"
     ]
    },
    {
     "name": "stderr",
     "output_type": "stream",
     "text": [
      "\n"
     ]
    },
    {
     "name": "stdout",
     "output_type": "stream",
     "text": [
      "\n",
      "      Epoch    GPU_mem   box_loss   cls_loss   dfl_loss  Instances       Size\n"
     ]
    },
    {
     "name": "stderr",
     "output_type": "stream",
     "text": [
      "     60/100         0G     0.3682     0.2766      1.002         91        640: 100%|██████████| 50/50 [50:12<00:00, 60.25s/it]  \n",
      "                 Class     Images  Instances      Box(P          R      mAP50  mAP50-95): 100%|██████████| 7/7 [03:08<00:00, 26.94s/it]"
     ]
    },
    {
     "name": "stdout",
     "output_type": "stream",
     "text": [
      "                   all        200        668      0.999          1      0.995      0.991\n"
     ]
    },
    {
     "name": "stderr",
     "output_type": "stream",
     "text": [
      "\n"
     ]
    },
    {
     "name": "stdout",
     "output_type": "stream",
     "text": [
      "\n",
      "      Epoch    GPU_mem   box_loss   cls_loss   dfl_loss  Instances       Size\n"
     ]
    },
    {
     "name": "stderr",
     "output_type": "stream",
     "text": [
      "     61/100         0G     0.3714     0.2784     0.9967        110        640: 100%|██████████| 50/50 [35:29<00:00, 42.60s/it]\n",
      "                 Class     Images  Instances      Box(P          R      mAP50  mAP50-95): 100%|██████████| 7/7 [03:27<00:00, 29.57s/it]"
     ]
    },
    {
     "name": "stdout",
     "output_type": "stream",
     "text": [
      "                   all        200        668      0.999          1      0.995       0.99\n"
     ]
    },
    {
     "name": "stderr",
     "output_type": "stream",
     "text": [
      "\n"
     ]
    },
    {
     "name": "stdout",
     "output_type": "stream",
     "text": [
      "\n",
      "      Epoch    GPU_mem   box_loss   cls_loss   dfl_loss  Instances       Size\n"
     ]
    },
    {
     "name": "stderr",
     "output_type": "stream",
     "text": [
      "     62/100         0G     0.3689     0.2777      1.003        114        640: 100%|██████████| 50/50 [51:42<00:00, 62.04s/it] \n",
      "                 Class     Images  Instances      Box(P          R      mAP50  mAP50-95): 100%|██████████| 7/7 [03:22<00:00, 28.89s/it]"
     ]
    },
    {
     "name": "stdout",
     "output_type": "stream",
     "text": [
      "                   all        200        668      0.999          1      0.995      0.988\n"
     ]
    },
    {
     "name": "stderr",
     "output_type": "stream",
     "text": [
      "\n"
     ]
    },
    {
     "name": "stdout",
     "output_type": "stream",
     "text": [
      "\n",
      "      Epoch    GPU_mem   box_loss   cls_loss   dfl_loss  Instances       Size\n"
     ]
    },
    {
     "name": "stderr",
     "output_type": "stream",
     "text": [
      "     63/100         0G     0.3786     0.2762      1.015         93        640: 100%|██████████| 50/50 [1:23:24<00:00, 100.09s/it]  \n",
      "                 Class     Images  Instances      Box(P          R      mAP50  mAP50-95): 100%|██████████| 7/7 [03:11<00:00, 27.35s/it]"
     ]
    },
    {
     "name": "stdout",
     "output_type": "stream",
     "text": [
      "                   all        200        668          1          1      0.995      0.987\n"
     ]
    },
    {
     "name": "stderr",
     "output_type": "stream",
     "text": [
      "\n"
     ]
    },
    {
     "name": "stdout",
     "output_type": "stream",
     "text": [
      "\n",
      "      Epoch    GPU_mem   box_loss   cls_loss   dfl_loss  Instances       Size\n"
     ]
    },
    {
     "name": "stderr",
     "output_type": "stream",
     "text": [
      "     64/100         0G      0.368     0.2747      1.005        123        640: 100%|██████████| 50/50 [33:26<00:00, 40.12s/it]\n",
      "                 Class     Images  Instances      Box(P          R      mAP50  mAP50-95): 100%|██████████| 7/7 [03:06<00:00, 26.60s/it]"
     ]
    },
    {
     "name": "stdout",
     "output_type": "stream",
     "text": [
      "                   all        200        668      0.999          1      0.995      0.992\n"
     ]
    },
    {
     "name": "stderr",
     "output_type": "stream",
     "text": [
      "\n"
     ]
    },
    {
     "name": "stdout",
     "output_type": "stream",
     "text": [
      "\n",
      "      Epoch    GPU_mem   box_loss   cls_loss   dfl_loss  Instances       Size\n"
     ]
    },
    {
     "name": "stderr",
     "output_type": "stream",
     "text": [
      "     65/100         0G     0.3531     0.2684     0.9976        109        640: 100%|██████████| 50/50 [34:37<00:00, 41.56s/it]\n",
      "                 Class     Images  Instances      Box(P          R      mAP50  mAP50-95): 100%|██████████| 7/7 [03:37<00:00, 31.05s/it]"
     ]
    },
    {
     "name": "stdout",
     "output_type": "stream",
     "text": [
      "                   all        200        668          1          1      0.995      0.991\n"
     ]
    },
    {
     "name": "stderr",
     "output_type": "stream",
     "text": [
      "\n"
     ]
    },
    {
     "name": "stdout",
     "output_type": "stream",
     "text": [
      "\n",
      "      Epoch    GPU_mem   box_loss   cls_loss   dfl_loss  Instances       Size\n"
     ]
    },
    {
     "name": "stderr",
     "output_type": "stream",
     "text": [
      "     66/100         0G     0.3642     0.2704      1.002         86        640: 100%|██████████| 50/50 [39:11<00:00, 47.02s/it]\n",
      "                 Class     Images  Instances      Box(P          R      mAP50  mAP50-95): 100%|██████████| 7/7 [03:39<00:00, 31.38s/it]"
     ]
    },
    {
     "name": "stdout",
     "output_type": "stream",
     "text": [
      "                   all        200        668          1          1      0.995      0.991\n"
     ]
    },
    {
     "name": "stderr",
     "output_type": "stream",
     "text": [
      "\n"
     ]
    },
    {
     "name": "stdout",
     "output_type": "stream",
     "text": [
      "\n",
      "      Epoch    GPU_mem   box_loss   cls_loss   dfl_loss  Instances       Size\n"
     ]
    },
    {
     "name": "stderr",
     "output_type": "stream",
     "text": [
      "     67/100         0G     0.3556     0.2638     0.9946         95        640: 100%|██████████| 50/50 [40:43<00:00, 48.86s/it]\n",
      "                 Class     Images  Instances      Box(P          R      mAP50  mAP50-95): 100%|██████████| 7/7 [05:13<00:00, 44.83s/it]"
     ]
    },
    {
     "name": "stdout",
     "output_type": "stream",
     "text": [
      "                   all        200        668      0.999          1      0.995      0.992\n"
     ]
    },
    {
     "name": "stderr",
     "output_type": "stream",
     "text": [
      "\n"
     ]
    },
    {
     "name": "stdout",
     "output_type": "stream",
     "text": [
      "\n",
      "      Epoch    GPU_mem   box_loss   cls_loss   dfl_loss  Instances       Size\n"
     ]
    },
    {
     "name": "stderr",
     "output_type": "stream",
     "text": [
      "     68/100         0G     0.3461     0.2582     0.9911         93        640: 100%|██████████| 50/50 [40:53<00:00, 49.06s/it]\n",
      "                 Class     Images  Instances      Box(P          R      mAP50  mAP50-95): 100%|██████████| 7/7 [03:27<00:00, 29.66s/it]"
     ]
    },
    {
     "name": "stdout",
     "output_type": "stream",
     "text": [
      "                   all        200        668          1          1      0.995      0.992\n"
     ]
    },
    {
     "name": "stderr",
     "output_type": "stream",
     "text": [
      "\n"
     ]
    },
    {
     "name": "stdout",
     "output_type": "stream",
     "text": [
      "\n",
      "      Epoch    GPU_mem   box_loss   cls_loss   dfl_loss  Instances       Size\n"
     ]
    },
    {
     "name": "stderr",
     "output_type": "stream",
     "text": [
      "     69/100         0G     0.3384     0.2566     0.9785         92        640: 100%|██████████| 50/50 [36:17<00:00, 43.56s/it]\n",
      "                 Class     Images  Instances      Box(P          R      mAP50  mAP50-95): 100%|██████████| 7/7 [04:01<00:00, 34.51s/it]"
     ]
    },
    {
     "name": "stdout",
     "output_type": "stream",
     "text": [
      "                   all        200        668          1          1      0.995      0.992\n"
     ]
    },
    {
     "name": "stderr",
     "output_type": "stream",
     "text": [
      "\n"
     ]
    },
    {
     "name": "stdout",
     "output_type": "stream",
     "text": [
      "\n",
      "      Epoch    GPU_mem   box_loss   cls_loss   dfl_loss  Instances       Size\n"
     ]
    },
    {
     "name": "stderr",
     "output_type": "stream",
     "text": [
      "     70/100         0G      0.343     0.2589     0.9868        101        640: 100%|██████████| 50/50 [38:40<00:00, 46.40s/it]\n",
      "                 Class     Images  Instances      Box(P          R      mAP50  mAP50-95): 100%|██████████| 7/7 [03:13<00:00, 27.66s/it]"
     ]
    },
    {
     "name": "stdout",
     "output_type": "stream",
     "text": [
      "                   all        200        668      0.998          1      0.995      0.993\n"
     ]
    },
    {
     "name": "stderr",
     "output_type": "stream",
     "text": [
      "\n"
     ]
    },
    {
     "name": "stdout",
     "output_type": "stream",
     "text": [
      "\n",
      "      Epoch    GPU_mem   box_loss   cls_loss   dfl_loss  Instances       Size\n"
     ]
    },
    {
     "name": "stderr",
     "output_type": "stream",
     "text": [
      "     71/100         0G     0.3461     0.2519     0.9938         88        640: 100%|██████████| 50/50 [33:39<00:00, 40.39s/it]\n",
      "                 Class     Images  Instances      Box(P          R      mAP50  mAP50-95): 100%|██████████| 7/7 [03:03<00:00, 26.25s/it]"
     ]
    },
    {
     "name": "stdout",
     "output_type": "stream",
     "text": [
      "                   all        200        668      0.999          1      0.995      0.993\n"
     ]
    },
    {
     "name": "stderr",
     "output_type": "stream",
     "text": [
      "\n"
     ]
    },
    {
     "name": "stdout",
     "output_type": "stream",
     "text": [
      "\n",
      "      Epoch    GPU_mem   box_loss   cls_loss   dfl_loss  Instances       Size\n"
     ]
    },
    {
     "name": "stderr",
     "output_type": "stream",
     "text": [
      "     72/100         0G     0.3311     0.2499     0.9838         93        640: 100%|██████████| 50/50 [32:28<00:00, 38.98s/it]\n",
      "                 Class     Images  Instances      Box(P          R      mAP50  mAP50-95): 100%|██████████| 7/7 [03:05<00:00, 26.43s/it]"
     ]
    },
    {
     "name": "stdout",
     "output_type": "stream",
     "text": [
      "                   all        200        668          1          1      0.995      0.993\n"
     ]
    },
    {
     "name": "stderr",
     "output_type": "stream",
     "text": [
      "\n"
     ]
    },
    {
     "name": "stdout",
     "output_type": "stream",
     "text": [
      "\n",
      "      Epoch    GPU_mem   box_loss   cls_loss   dfl_loss  Instances       Size\n"
     ]
    },
    {
     "name": "stderr",
     "output_type": "stream",
     "text": [
      "     73/100         0G     0.3316     0.2456     0.9866        101        640: 100%|██████████| 50/50 [32:08<00:00, 38.56s/it]\n",
      "                 Class     Images  Instances      Box(P          R      mAP50  mAP50-95): 100%|██████████| 7/7 [03:03<00:00, 26.25s/it]"
     ]
    },
    {
     "name": "stdout",
     "output_type": "stream",
     "text": [
      "                   all        200        668          1          1      0.995      0.992\n"
     ]
    },
    {
     "name": "stderr",
     "output_type": "stream",
     "text": [
      "\n"
     ]
    },
    {
     "name": "stdout",
     "output_type": "stream",
     "text": [
      "\n",
      "      Epoch    GPU_mem   box_loss   cls_loss   dfl_loss  Instances       Size\n"
     ]
    },
    {
     "name": "stderr",
     "output_type": "stream",
     "text": [
      "     74/100         0G     0.3304      0.249     0.9829         92        640: 100%|██████████| 50/50 [32:35<00:00, 39.10s/it]\n",
      "                 Class     Images  Instances      Box(P          R      mAP50  mAP50-95): 100%|██████████| 7/7 [03:08<00:00, 26.92s/it]"
     ]
    },
    {
     "name": "stdout",
     "output_type": "stream",
     "text": [
      "                   all        200        668      0.999          1      0.995      0.993\n"
     ]
    },
    {
     "name": "stderr",
     "output_type": "stream",
     "text": [
      "\n"
     ]
    },
    {
     "name": "stdout",
     "output_type": "stream",
     "text": [
      "\n",
      "      Epoch    GPU_mem   box_loss   cls_loss   dfl_loss  Instances       Size\n"
     ]
    },
    {
     "name": "stderr",
     "output_type": "stream",
     "text": [
      "     75/100         0G     0.3299      0.243      0.973        100        640: 100%|██████████| 50/50 [32:29<00:00, 39.00s/it]\n",
      "                 Class     Images  Instances      Box(P          R      mAP50  mAP50-95): 100%|██████████| 7/7 [03:09<00:00, 27.08s/it]"
     ]
    },
    {
     "name": "stdout",
     "output_type": "stream",
     "text": [
      "                   all        200        668      0.999          1      0.995      0.992\n"
     ]
    },
    {
     "name": "stderr",
     "output_type": "stream",
     "text": [
      "\n"
     ]
    },
    {
     "name": "stdout",
     "output_type": "stream",
     "text": [
      "\n",
      "      Epoch    GPU_mem   box_loss   cls_loss   dfl_loss  Instances       Size\n"
     ]
    },
    {
     "name": "stderr",
     "output_type": "stream",
     "text": [
      "     76/100         0G     0.3336     0.2444     0.9874         94        640: 100%|██████████| 50/50 [32:33<00:00, 39.07s/it]\n",
      "                 Class     Images  Instances      Box(P          R      mAP50  mAP50-95): 100%|██████████| 7/7 [03:10<00:00, 27.27s/it]"
     ]
    },
    {
     "name": "stdout",
     "output_type": "stream",
     "text": [
      "                   all        200        668      0.999          1      0.995      0.992\n"
     ]
    },
    {
     "name": "stderr",
     "output_type": "stream",
     "text": [
      "\n"
     ]
    },
    {
     "name": "stdout",
     "output_type": "stream",
     "text": [
      "\n",
      "      Epoch    GPU_mem   box_loss   cls_loss   dfl_loss  Instances       Size\n"
     ]
    },
    {
     "name": "stderr",
     "output_type": "stream",
     "text": [
      "     77/100         0G     0.3222     0.2414     0.9794         88        640: 100%|██████████| 50/50 [32:24<00:00, 38.90s/it]\n",
      "                 Class     Images  Instances      Box(P          R      mAP50  mAP50-95): 100%|██████████| 7/7 [03:08<00:00, 26.97s/it]"
     ]
    },
    {
     "name": "stdout",
     "output_type": "stream",
     "text": [
      "                   all        200        668          1          1      0.995      0.992\n"
     ]
    },
    {
     "name": "stderr",
     "output_type": "stream",
     "text": [
      "\n"
     ]
    },
    {
     "name": "stdout",
     "output_type": "stream",
     "text": [
      "\n",
      "      Epoch    GPU_mem   box_loss   cls_loss   dfl_loss  Instances       Size\n"
     ]
    },
    {
     "name": "stderr",
     "output_type": "stream",
     "text": [
      "     78/100         0G     0.3211     0.2427     0.9772         99        640: 100%|██████████| 50/50 [32:42<00:00, 39.24s/it]\n",
      "                 Class     Images  Instances      Box(P          R      mAP50  mAP50-95): 100%|██████████| 7/7 [03:10<00:00, 27.28s/it]"
     ]
    },
    {
     "name": "stdout",
     "output_type": "stream",
     "text": [
      "                   all        200        668          1          1      0.995      0.993\n"
     ]
    },
    {
     "name": "stderr",
     "output_type": "stream",
     "text": [
      "\n"
     ]
    },
    {
     "name": "stdout",
     "output_type": "stream",
     "text": [
      "\n",
      "      Epoch    GPU_mem   box_loss   cls_loss   dfl_loss  Instances       Size\n"
     ]
    },
    {
     "name": "stderr",
     "output_type": "stream",
     "text": [
      "     79/100         0G     0.3171      0.241     0.9775         96        640: 100%|██████████| 50/50 [32:50<00:00, 39.41s/it]\n",
      "                 Class     Images  Instances      Box(P          R      mAP50  mAP50-95): 100%|██████████| 7/7 [03:10<00:00, 27.28s/it]"
     ]
    },
    {
     "name": "stdout",
     "output_type": "stream",
     "text": [
      "                   all        200        668          1          1      0.995      0.993\n"
     ]
    },
    {
     "name": "stderr",
     "output_type": "stream",
     "text": [
      "\n"
     ]
    },
    {
     "name": "stdout",
     "output_type": "stream",
     "text": [
      "\n",
      "      Epoch    GPU_mem   box_loss   cls_loss   dfl_loss  Instances       Size\n"
     ]
    },
    {
     "name": "stderr",
     "output_type": "stream",
     "text": [
      "     80/100         0G     0.3145     0.2397     0.9787        104        640: 100%|██████████| 50/50 [33:03<00:00, 39.68s/it]\n",
      "                 Class     Images  Instances      Box(P          R      mAP50  mAP50-95): 100%|██████████| 7/7 [03:01<00:00, 25.89s/it]"
     ]
    },
    {
     "name": "stdout",
     "output_type": "stream",
     "text": [
      "                   all        200        668          1          1      0.995      0.993\n"
     ]
    },
    {
     "name": "stderr",
     "output_type": "stream",
     "text": [
      "\n"
     ]
    },
    {
     "name": "stdout",
     "output_type": "stream",
     "text": [
      "\n",
      "      Epoch    GPU_mem   box_loss   cls_loss   dfl_loss  Instances       Size\n"
     ]
    },
    {
     "name": "stderr",
     "output_type": "stream",
     "text": [
      "     81/100         0G     0.3112       0.24     0.9705        113        640: 100%|██████████| 50/50 [32:57<00:00, 39.56s/it]\n",
      "                 Class     Images  Instances      Box(P          R      mAP50  mAP50-95): 100%|██████████| 7/7 [03:02<00:00, 26.02s/it]"
     ]
    },
    {
     "name": "stdout",
     "output_type": "stream",
     "text": [
      "                   all        200        668      0.999          1      0.995      0.993\n"
     ]
    },
    {
     "name": "stderr",
     "output_type": "stream",
     "text": [
      "\n"
     ]
    },
    {
     "name": "stdout",
     "output_type": "stream",
     "text": [
      "\n",
      "      Epoch    GPU_mem   box_loss   cls_loss   dfl_loss  Instances       Size\n"
     ]
    },
    {
     "name": "stderr",
     "output_type": "stream",
     "text": [
      "     82/100         0G     0.3104     0.2335     0.9749         97        640: 100%|██████████| 50/50 [32:55<00:00, 39.51s/it]\n",
      "                 Class     Images  Instances      Box(P          R      mAP50  mAP50-95): 100%|██████████| 7/7 [03:02<00:00, 26.13s/it]"
     ]
    },
    {
     "name": "stdout",
     "output_type": "stream",
     "text": [
      "                   all        200        668          1          1      0.995      0.993\n"
     ]
    },
    {
     "name": "stderr",
     "output_type": "stream",
     "text": [
      "\n"
     ]
    },
    {
     "name": "stdout",
     "output_type": "stream",
     "text": [
      "\n",
      "      Epoch    GPU_mem   box_loss   cls_loss   dfl_loss  Instances       Size\n"
     ]
    },
    {
     "name": "stderr",
     "output_type": "stream",
     "text": [
      "     83/100         0G     0.3121     0.2306     0.9704        100        640: 100%|██████████| 50/50 [1:35:04<00:00, 114.09s/it]  \n",
      "                 Class     Images  Instances      Box(P          R      mAP50  mAP50-95): 100%|██████████| 7/7 [03:16<00:00, 28.14s/it]"
     ]
    },
    {
     "name": "stdout",
     "output_type": "stream",
     "text": [
      "                   all        200        668          1          1      0.995      0.993\n"
     ]
    },
    {
     "name": "stderr",
     "output_type": "stream",
     "text": [
      "\n"
     ]
    },
    {
     "name": "stdout",
     "output_type": "stream",
     "text": [
      "\n",
      "      Epoch    GPU_mem   box_loss   cls_loss   dfl_loss  Instances       Size\n"
     ]
    },
    {
     "name": "stderr",
     "output_type": "stream",
     "text": [
      "     84/100         0G     0.3063     0.2293     0.9668         85        640: 100%|██████████| 50/50 [43:17<00:00, 51.96s/it]   \n",
      "                 Class     Images  Instances      Box(P          R      mAP50  mAP50-95): 100%|██████████| 7/7 [03:48<00:00, 32.71s/it]"
     ]
    },
    {
     "name": "stdout",
     "output_type": "stream",
     "text": [
      "                   all        200        668          1          1      0.995      0.993\n"
     ]
    },
    {
     "name": "stderr",
     "output_type": "stream",
     "text": [
      "\n"
     ]
    },
    {
     "name": "stdout",
     "output_type": "stream",
     "text": [
      "\n",
      "      Epoch    GPU_mem   box_loss   cls_loss   dfl_loss  Instances       Size\n"
     ]
    },
    {
     "name": "stderr",
     "output_type": "stream",
     "text": [
      "     85/100         0G     0.3066     0.2334     0.9627        103        640: 100%|██████████| 50/50 [38:31<00:00, 46.24s/it]\n",
      "                 Class     Images  Instances      Box(P          R      mAP50  mAP50-95): 100%|██████████| 7/7 [03:38<00:00, 31.21s/it]"
     ]
    },
    {
     "name": "stdout",
     "output_type": "stream",
     "text": [
      "                   all        200        668          1          1      0.995      0.993\n"
     ]
    },
    {
     "name": "stderr",
     "output_type": "stream",
     "text": [
      "\n"
     ]
    },
    {
     "name": "stdout",
     "output_type": "stream",
     "text": [
      "\n",
      "      Epoch    GPU_mem   box_loss   cls_loss   dfl_loss  Instances       Size\n"
     ]
    },
    {
     "name": "stderr",
     "output_type": "stream",
     "text": [
      "     86/100         0G     0.3029      0.226     0.9674         86        640: 100%|██████████| 50/50 [38:16<00:00, 45.93s/it]\n",
      "                 Class     Images  Instances      Box(P          R      mAP50  mAP50-95): 100%|██████████| 7/7 [03:42<00:00, 31.78s/it]"
     ]
    },
    {
     "name": "stdout",
     "output_type": "stream",
     "text": [
      "                   all        200        668          1          1      0.995      0.994\n"
     ]
    },
    {
     "name": "stderr",
     "output_type": "stream",
     "text": [
      "\n"
     ]
    },
    {
     "name": "stdout",
     "output_type": "stream",
     "text": [
      "\n",
      "      Epoch    GPU_mem   box_loss   cls_loss   dfl_loss  Instances       Size\n"
     ]
    },
    {
     "name": "stderr",
     "output_type": "stream",
     "text": [
      "     87/100         0G     0.3084     0.2278     0.9649         91        640: 100%|██████████| 50/50 [37:42<00:00, 45.26s/it]\n",
      "                 Class     Images  Instances      Box(P          R      mAP50  mAP50-95): 100%|██████████| 7/7 [03:26<00:00, 29.51s/it]"
     ]
    },
    {
     "name": "stdout",
     "output_type": "stream",
     "text": [
      "                   all        200        668          1          1      0.995      0.993\n"
     ]
    },
    {
     "name": "stderr",
     "output_type": "stream",
     "text": [
      "\n"
     ]
    },
    {
     "name": "stdout",
     "output_type": "stream",
     "text": [
      "\n",
      "      Epoch    GPU_mem   box_loss   cls_loss   dfl_loss  Instances       Size\n"
     ]
    },
    {
     "name": "stderr",
     "output_type": "stream",
     "text": [
      "     88/100         0G     0.2965     0.2268     0.9667         92        640: 100%|██████████| 50/50 [36:21<00:00, 43.63s/it]\n",
      "                 Class     Images  Instances      Box(P          R      mAP50  mAP50-95): 100%|██████████| 7/7 [03:39<00:00, 31.39s/it]"
     ]
    },
    {
     "name": "stdout",
     "output_type": "stream",
     "text": [
      "                   all        200        668          1          1      0.995      0.993\n"
     ]
    },
    {
     "name": "stderr",
     "output_type": "stream",
     "text": [
      "\n"
     ]
    },
    {
     "name": "stdout",
     "output_type": "stream",
     "text": [
      "\n",
      "      Epoch    GPU_mem   box_loss   cls_loss   dfl_loss  Instances       Size\n"
     ]
    },
    {
     "name": "stderr",
     "output_type": "stream",
     "text": [
      "     89/100         0G     0.2938     0.2216     0.9565        114        640: 100%|██████████| 50/50 [39:41<00:00, 47.63s/it]\n",
      "                 Class     Images  Instances      Box(P          R      mAP50  mAP50-95): 100%|██████████| 7/7 [03:59<00:00, 34.19s/it]"
     ]
    },
    {
     "name": "stdout",
     "output_type": "stream",
     "text": [
      "                   all        200        668          1          1      0.995      0.994\n"
     ]
    },
    {
     "name": "stderr",
     "output_type": "stream",
     "text": [
      "\n"
     ]
    },
    {
     "name": "stdout",
     "output_type": "stream",
     "text": [
      "\n",
      "      Epoch    GPU_mem   box_loss   cls_loss   dfl_loss  Instances       Size\n"
     ]
    },
    {
     "name": "stderr",
     "output_type": "stream",
     "text": [
      "     90/100         0G     0.2973     0.2257     0.9614         98        640: 100%|██████████| 50/50 [40:13<00:00, 48.27s/it]\n",
      "                 Class     Images  Instances      Box(P          R      mAP50  mAP50-95): 100%|██████████| 7/7 [03:52<00:00, 33.16s/it]"
     ]
    },
    {
     "name": "stdout",
     "output_type": "stream",
     "text": [
      "                   all        200        668          1          1      0.995      0.993\n"
     ]
    },
    {
     "name": "stderr",
     "output_type": "stream",
     "text": [
      "\n"
     ]
    },
    {
     "name": "stdout",
     "output_type": "stream",
     "text": [
      "Closing dataloader mosaic\n",
      "\n",
      "      Epoch    GPU_mem   box_loss   cls_loss   dfl_loss  Instances       Size\n"
     ]
    },
    {
     "name": "stderr",
     "output_type": "stream",
     "text": [
      "     91/100         0G     0.1649     0.1291     0.8579         49        640: 100%|██████████| 50/50 [40:12<00:00, 48.25s/it]\n",
      "                 Class     Images  Instances      Box(P          R      mAP50  mAP50-95): 100%|██████████| 7/7 [04:07<00:00, 35.36s/it]"
     ]
    },
    {
     "name": "stdout",
     "output_type": "stream",
     "text": [
      "                   all        200        668      0.999          1      0.995      0.993\n"
     ]
    },
    {
     "name": "stderr",
     "output_type": "stream",
     "text": [
      "\n"
     ]
    },
    {
     "name": "stdout",
     "output_type": "stream",
     "text": [
      "\n",
      "      Epoch    GPU_mem   box_loss   cls_loss   dfl_loss  Instances       Size\n"
     ]
    },
    {
     "name": "stderr",
     "output_type": "stream",
     "text": [
      "     92/100         0G     0.1575     0.1195     0.8405         47        640: 100%|██████████| 50/50 [40:43<00:00, 48.88s/it]\n",
      "                 Class     Images  Instances      Box(P          R      mAP50  mAP50-95): 100%|██████████| 7/7 [13:29<00:00, 115.69s/it]"
     ]
    },
    {
     "name": "stdout",
     "output_type": "stream",
     "text": [
      "                   all        200        668      0.999          1      0.995      0.993\n"
     ]
    },
    {
     "name": "stderr",
     "output_type": "stream",
     "text": [
      "\n"
     ]
    },
    {
     "name": "stdout",
     "output_type": "stream",
     "text": [
      "\n",
      "      Epoch    GPU_mem   box_loss   cls_loss   dfl_loss  Instances       Size\n"
     ]
    },
    {
     "name": "stderr",
     "output_type": "stream",
     "text": [
      "     93/100         0G      0.155     0.1147     0.8451         51        640: 100%|██████████| 50/50 [35:34<00:00, 42.68s/it]\n",
      "                 Class     Images  Instances      Box(P          R      mAP50  mAP50-95): 100%|██████████| 7/7 [03:39<00:00, 31.37s/it]"
     ]
    },
    {
     "name": "stdout",
     "output_type": "stream",
     "text": [
      "                   all        200        668          1          1      0.995      0.993\n"
     ]
    },
    {
     "name": "stderr",
     "output_type": "stream",
     "text": [
      "\n"
     ]
    },
    {
     "name": "stdout",
     "output_type": "stream",
     "text": [
      "\n",
      "      Epoch    GPU_mem   box_loss   cls_loss   dfl_loss  Instances       Size\n"
     ]
    },
    {
     "name": "stderr",
     "output_type": "stream",
     "text": [
      "     94/100         0G     0.1525     0.1123     0.8398         51        640: 100%|██████████| 50/50 [37:32<00:00, 45.05s/it]\n",
      "                 Class     Images  Instances      Box(P          R      mAP50  mAP50-95): 100%|██████████| 7/7 [03:33<00:00, 30.53s/it]"
     ]
    },
    {
     "name": "stdout",
     "output_type": "stream",
     "text": [
      "                   all        200        668          1          1      0.995      0.993\n"
     ]
    },
    {
     "name": "stderr",
     "output_type": "stream",
     "text": [
      "\n"
     ]
    },
    {
     "name": "stdout",
     "output_type": "stream",
     "text": [
      "\n",
      "      Epoch    GPU_mem   box_loss   cls_loss   dfl_loss  Instances       Size\n"
     ]
    },
    {
     "name": "stderr",
     "output_type": "stream",
     "text": [
      "     95/100         0G     0.1542     0.1147     0.8433         58        640: 100%|██████████| 50/50 [37:14<00:00, 44.69s/it]\n",
      "                 Class     Images  Instances      Box(P          R      mAP50  mAP50-95): 100%|██████████| 7/7 [03:25<00:00, 29.30s/it]"
     ]
    },
    {
     "name": "stdout",
     "output_type": "stream",
     "text": [
      "                   all        200        668          1          1      0.995      0.993\n"
     ]
    },
    {
     "name": "stderr",
     "output_type": "stream",
     "text": [
      "\n"
     ]
    },
    {
     "name": "stdout",
     "output_type": "stream",
     "text": [
      "\n",
      "      Epoch    GPU_mem   box_loss   cls_loss   dfl_loss  Instances       Size\n"
     ]
    },
    {
     "name": "stderr",
     "output_type": "stream",
     "text": [
      "     96/100         0G      0.152     0.1118     0.8389         57        640: 100%|██████████| 50/50 [37:57<00:00, 45.56s/it]\n",
      "                 Class     Images  Instances      Box(P          R      mAP50  mAP50-95): 100%|██████████| 7/7 [03:31<00:00, 30.24s/it]"
     ]
    },
    {
     "name": "stdout",
     "output_type": "stream",
     "text": [
      "                   all        200        668          1          1      0.995      0.993\n",
      "\u001b[34m\u001b[1mEarlyStopping: \u001b[0mTraining stopped early as no improvement observed in last 10 epochs. Best results observed at epoch 86, best model saved as best.pt.\n",
      "To update EarlyStopping(patience=10) pass a new patience value, i.e. `patience=300` or use `patience=0` to disable EarlyStopping.\n"
     ]
    },
    {
     "name": "stderr",
     "output_type": "stream",
     "text": [
      "\n"
     ]
    },
    {
     "name": "stdout",
     "output_type": "stream",
     "text": [
      "\n",
      "96 epochs completed in 69.033 hours.\n",
      "Optimizer stripped from /Users/makoto/dev/YOLO/training_log/l_22/weights/last.pt, 87.7MB\n",
      "Optimizer stripped from /Users/makoto/dev/YOLO/training_log/l_22/weights/best.pt, 87.7MB\n",
      "\n",
      "Validating /Users/makoto/dev/YOLO/training_log/l_22/weights/best.pt...\n",
      "Ultralytics YOLOv8.1.47 🚀 Python-3.8.19 torch-2.2.2 CPU (Apple M2)\n",
      "Model summary (fused): 268 layers, 43609692 parameters, 0 gradients\n"
     ]
    },
    {
     "name": "stderr",
     "output_type": "stream",
     "text": [
      "                 Class     Images  Instances      Box(P          R      mAP50  mAP50-95): 100%|██████████| 7/7 [03:42<00:00, 31.86s/it]\n"
     ]
    },
    {
     "name": "stdout",
     "output_type": "stream",
     "text": [
      "                   all        200        668          1          1      0.995      0.994\n",
      "UtukushiNihongoErabiJiten        200        163          1          1      0.995      0.994\n",
      " KodaiChugokuNo24Jikan        200        166          1          1      0.995      0.994\n",
      "         ChainSawMan12        200        168          1          1      0.995      0.992\n",
      "   ChugokugoNavi202204        200        171      0.999          1      0.995      0.995\n",
      "Speed: 1.0ms preprocess, 1103.5ms inference, 0.0ms loss, 0.2ms postprocess per image\n",
      "Results saved to \u001b[1m/Users/makoto/dev/YOLO/training_log/l_22\u001b[0m\n"
     ]
    }
   ],
   "source": [
    "project = '/Users/makoto/dev/YOLO/training_log'\n",
    "\n",
    "results = model.train(data='dataset.yaml', epochs=100, imgsz=640, patience=10, optimizer='auto', cos_lr=True, verbose=True, pretrained=True, degrees=+180, shear=+30, project=project, batch=16, name='l_2', device='cpu', plots=True, seed=123)"
   ]
  },
  {
   "cell_type": "code",
   "execution_count": 16,
   "metadata": {},
   "outputs": [
    {
     "name": "stdout",
     "output_type": "stream",
     "text": [
      "\n",
      "image 1/233 /Users/makoto/dev/YOLO/original_data/images/book00001.JPG: 640x480 1 UtukushiNihongoErabiJiten, 1 KodaiChugokuNo24Jikan, 1 ChainSawMan12, 445.7ms\n",
      "image 2/233 /Users/makoto/dev/YOLO/original_data/images/book00002.JPG: 640x480 1 UtukushiNihongoErabiJiten, 1 KodaiChugokuNo24Jikan, 1 ChainSawMan12, 405.6ms\n",
      "image 3/233 /Users/makoto/dev/YOLO/original_data/images/book00003.JPG: 640x480 1 UtukushiNihongoErabiJiten, 1 ChainSawMan12, 390.5ms\n",
      "image 4/233 /Users/makoto/dev/YOLO/original_data/images/book00004.JPG: 640x480 1 UtukushiNihongoErabiJiten, 1 KodaiChugokuNo24Jikan, 1 ChainSawMan12, 369.1ms\n",
      "image 5/233 /Users/makoto/dev/YOLO/original_data/images/book00005.JPG: 640x480 1 UtukushiNihongoErabiJiten, 1 KodaiChugokuNo24Jikan, 1 ChainSawMan12, 343.5ms\n",
      "image 6/233 /Users/makoto/dev/YOLO/original_data/images/book00006.JPG: 640x480 1 UtukushiNihongoErabiJiten, 1 KodaiChugokuNo24Jikan, 1 ChainSawMan12, 341.2ms\n",
      "image 7/233 /Users/makoto/dev/YOLO/original_data/images/book00007.JPG: 640x480 1 KodaiChugokuNo24Jikan, 1 ChainSawMan12, 1 ChugokugoNavi202204, 341.0ms\n",
      "image 8/233 /Users/makoto/dev/YOLO/original_data/images/book00008.JPG: 640x480 1 KodaiChugokuNo24Jikan, 1 ChainSawMan12, 1 ChugokugoNavi202204, 336.1ms\n",
      "image 9/233 /Users/makoto/dev/YOLO/original_data/images/book00009.JPG: 640x480 1 KodaiChugokuNo24Jikan, 1 ChainSawMan12, 1 ChugokugoNavi202204, 348.7ms\n",
      "image 10/233 /Users/makoto/dev/YOLO/original_data/images/book00010.JPG: 640x480 1 KodaiChugokuNo24Jikan, 1 ChainSawMan12, 1 ChugokugoNavi202204, 365.7ms\n",
      "image 11/233 /Users/makoto/dev/YOLO/original_data/images/book00011.JPG: 640x480 1 KodaiChugokuNo24Jikan, 1 ChainSawMan12, 1 ChugokugoNavi202204, 338.3ms\n",
      "image 12/233 /Users/makoto/dev/YOLO/original_data/images/book00012.JPG: 640x480 1 KodaiChugokuNo24Jikan, 1 ChainSawMan12, 1 ChugokugoNavi202204, 395.9ms\n",
      "image 13/233 /Users/makoto/dev/YOLO/original_data/images/book00013.JPG: 640x480 1 KodaiChugokuNo24Jikan, 1 ChainSawMan12, 1 ChugokugoNavi202204, 339.5ms\n",
      "image 14/233 /Users/makoto/dev/YOLO/original_data/images/book00014.JPG: 640x480 1 KodaiChugokuNo24Jikan, 1 ChainSawMan12, 1 ChugokugoNavi202204, 380.7ms\n",
      "image 15/233 /Users/makoto/dev/YOLO/original_data/images/book00015.JPG: 640x480 1 KodaiChugokuNo24Jikan, 1 ChainSawMan12, 1 ChugokugoNavi202204, 341.6ms\n",
      "image 16/233 /Users/makoto/dev/YOLO/original_data/images/book00016.JPG: 640x480 1 KodaiChugokuNo24Jikan, 1 ChainSawMan12, 1 ChugokugoNavi202204, 329.2ms\n",
      "image 17/233 /Users/makoto/dev/YOLO/original_data/images/book00017.JPG: 640x480 1 KodaiChugokuNo24Jikan, 347.5ms\n",
      "image 18/233 /Users/makoto/dev/YOLO/original_data/images/book00018.JPG: 640x480 1 KodaiChugokuNo24Jikan, 332.7ms\n",
      "image 19/233 /Users/makoto/dev/YOLO/original_data/images/book00019.JPG: 640x480 1 KodaiChugokuNo24Jikan, 339.7ms\n",
      "image 20/233 /Users/makoto/dev/YOLO/original_data/images/book00020.JPG: 640x480 1 KodaiChugokuNo24Jikan, 368.8ms\n",
      "image 21/233 /Users/makoto/dev/YOLO/original_data/images/book00021.JPG: 640x480 1 KodaiChugokuNo24Jikan, 353.1ms\n",
      "image 22/233 /Users/makoto/dev/YOLO/original_data/images/book00022.JPG: 640x480 1 KodaiChugokuNo24Jikan, 356.3ms\n",
      "image 23/233 /Users/makoto/dev/YOLO/original_data/images/book00023.JPG: 640x480 1 UtukushiNihongoErabiJiten, 365.1ms\n",
      "image 24/233 /Users/makoto/dev/YOLO/original_data/images/book00024.JPG: 640x480 1 UtukushiNihongoErabiJiten, 354.8ms\n",
      "image 25/233 /Users/makoto/dev/YOLO/original_data/images/book00025.JPG: 640x480 1 UtukushiNihongoErabiJiten, 331.6ms\n",
      "image 26/233 /Users/makoto/dev/YOLO/original_data/images/book00026.JPG: 640x480 2 UtukushiNihongoErabiJitens, 379.4ms\n",
      "image 27/233 /Users/makoto/dev/YOLO/original_data/images/book00027.JPG: 640x480 1 UtukushiNihongoErabiJiten, 333.5ms\n",
      "image 28/233 /Users/makoto/dev/YOLO/original_data/images/book00028.JPG: 640x480 1 UtukushiNihongoErabiJiten, 336.5ms\n",
      "image 29/233 /Users/makoto/dev/YOLO/original_data/images/book00029.JPG: 640x480 1 ChainSawMan12, 365.5ms\n",
      "image 30/233 /Users/makoto/dev/YOLO/original_data/images/book00030.JPG: 640x480 1 ChainSawMan12, 337.2ms\n",
      "image 31/233 /Users/makoto/dev/YOLO/original_data/images/book00031.JPG: 640x480 1 ChainSawMan12, 339.7ms\n",
      "image 32/233 /Users/makoto/dev/YOLO/original_data/images/book00032.JPG: 640x480 1 ChainSawMan12, 358.2ms\n",
      "image 33/233 /Users/makoto/dev/YOLO/original_data/images/book00033.JPG: 640x480 (no detections), 353.6ms\n",
      "image 34/233 /Users/makoto/dev/YOLO/original_data/images/book00034.JPG: 640x480 1 ChainSawMan12, 371.2ms\n",
      "image 35/233 /Users/makoto/dev/YOLO/original_data/images/book00035.JPG: 640x480 1 ChugokugoNavi202204, 380.2ms\n",
      "image 36/233 /Users/makoto/dev/YOLO/original_data/images/book00036.JPG: 640x480 1 ChugokugoNavi202204, 327.5ms\n",
      "image 37/233 /Users/makoto/dev/YOLO/original_data/images/book00037.JPG: 640x480 1 ChugokugoNavi202204, 346.2ms\n",
      "image 38/233 /Users/makoto/dev/YOLO/original_data/images/book00038.JPG: 640x480 1 ChugokugoNavi202204, 343.8ms\n",
      "image 39/233 /Users/makoto/dev/YOLO/original_data/images/book00039.JPG: 640x480 1 ChugokugoNavi202204, 348.6ms\n",
      "image 40/233 /Users/makoto/dev/YOLO/original_data/images/book00040.JPG: 640x480 1 ChugokugoNavi202204, 345.5ms\n",
      "image 41/233 /Users/makoto/dev/YOLO/original_data/images/book00041.jpg: 640x480 1 ChugokugoNavi202204, 305.4ms\n",
      "image 42/233 /Users/makoto/dev/YOLO/original_data/images/book00042.jpg: 640x480 1 ChugokugoNavi202204, 339.9ms\n",
      "image 43/233 /Users/makoto/dev/YOLO/original_data/images/book00043.jpg: 640x480 1 ChugokugoNavi202204, 309.7ms\n",
      "image 44/233 /Users/makoto/dev/YOLO/original_data/images/book00044.jpg: 640x480 1 ChainSawMan12, 303.0ms\n",
      "image 45/233 /Users/makoto/dev/YOLO/original_data/images/book00045.jpg: 640x480 1 ChainSawMan12, 305.5ms\n",
      "image 46/233 /Users/makoto/dev/YOLO/original_data/images/book00046.jpg: 640x480 1 ChugokugoNavi202204, 304.5ms\n",
      "image 47/233 /Users/makoto/dev/YOLO/original_data/images/book00047.jpg: 640x480 1 ChugokugoNavi202204, 335.6ms\n",
      "image 48/233 /Users/makoto/dev/YOLO/original_data/images/book00048.jpg: 640x480 1 ChugokugoNavi202204, 299.9ms\n",
      "image 49/233 /Users/makoto/dev/YOLO/original_data/images/book00049.jpg: 640x480 1 ChugokugoNavi202204, 292.1ms\n",
      "image 50/233 /Users/makoto/dev/YOLO/original_data/images/book00050.jpg: 640x480 1 ChainSawMan12, 300.9ms\n",
      "image 51/233 /Users/makoto/dev/YOLO/original_data/images/book00051.jpg: 640x480 1 ChugokugoNavi202204, 306.4ms\n",
      "image 52/233 /Users/makoto/dev/YOLO/original_data/images/book00052.jpg: 640x480 1 ChugokugoNavi202204, 292.1ms\n",
      "image 53/233 /Users/makoto/dev/YOLO/original_data/images/book00053.jpg: 640x480 1 ChugokugoNavi202204, 307.4ms\n",
      "image 54/233 /Users/makoto/dev/YOLO/original_data/images/book00054.jpg: 640x480 1 ChainSawMan12, 304.8ms\n",
      "image 55/233 /Users/makoto/dev/YOLO/original_data/images/book00055.JPG: 640x480 1 UtukushiNihongoErabiJiten, 1 KodaiChugokuNo24Jikan, 1 ChainSawMan12, 313.5ms\n",
      "image 56/233 /Users/makoto/dev/YOLO/original_data/images/book00056.JPG: 640x480 1 UtukushiNihongoErabiJiten, 1 KodaiChugokuNo24Jikan, 1 ChainSawMan12, 300.4ms\n",
      "image 57/233 /Users/makoto/dev/YOLO/original_data/images/book00057.JPG: 640x480 1 UtukushiNihongoErabiJiten, 1 KodaiChugokuNo24Jikan, 1 ChainSawMan12, 347.5ms\n",
      "image 58/233 /Users/makoto/dev/YOLO/original_data/images/book00058.JPG: 640x480 1 UtukushiNihongoErabiJiten, 1 KodaiChugokuNo24Jikan, 1 ChainSawMan12, 313.2ms\n",
      "image 59/233 /Users/makoto/dev/YOLO/original_data/images/book00059.JPG: 640x480 1 UtukushiNihongoErabiJiten, 1 KodaiChugokuNo24Jikan, 1 ChainSawMan12, 326.2ms\n",
      "image 60/233 /Users/makoto/dev/YOLO/original_data/images/book00060.JPG: 640x480 1 UtukushiNihongoErabiJiten, 1 KodaiChugokuNo24Jikan, 1 ChainSawMan12, 522.6ms\n",
      "image 61/233 /Users/makoto/dev/YOLO/original_data/images/book00061.JPG: 640x480 1 UtukushiNihongoErabiJiten, 1 KodaiChugokuNo24Jikan, 1 ChainSawMan12, 326.6ms\n",
      "image 62/233 /Users/makoto/dev/YOLO/original_data/images/book00062.JPG: 640x480 1 UtukushiNihongoErabiJiten, 1 KodaiChugokuNo24Jikan, 1 ChainSawMan12, 305.8ms\n",
      "image 63/233 /Users/makoto/dev/YOLO/original_data/images/book00063.JPG: 640x480 1 UtukushiNihongoErabiJiten, 1 ChainSawMan12, 337.5ms\n",
      "image 64/233 /Users/makoto/dev/YOLO/original_data/images/book00064.JPG: 640x480 1 UtukushiNihongoErabiJiten, 1 KodaiChugokuNo24Jikan, 1 ChainSawMan12, 315.6ms\n",
      "image 65/233 /Users/makoto/dev/YOLO/original_data/images/book00065.JPG: 640x480 1 UtukushiNihongoErabiJiten, 1 KodaiChugokuNo24Jikan, 1 ChainSawMan12, 303.3ms\n",
      "image 66/233 /Users/makoto/dev/YOLO/original_data/images/book00066.JPG: 640x480 1 UtukushiNihongoErabiJiten, 1 KodaiChugokuNo24Jikan, 1 ChainSawMan12, 306.2ms\n",
      "image 67/233 /Users/makoto/dev/YOLO/original_data/images/book00067.JPG: 640x480 1 UtukushiNihongoErabiJiten, 1 ChainSawMan12, 309.4ms\n",
      "image 68/233 /Users/makoto/dev/YOLO/original_data/images/book00068.JPG: 640x480 1 UtukushiNihongoErabiJiten, 1 ChainSawMan12, 341.8ms\n",
      "image 69/233 /Users/makoto/dev/YOLO/original_data/images/book00069.JPG: 640x480 1 UtukushiNihongoErabiJiten, 1 ChainSawMan12, 361.1ms\n",
      "image 70/233 /Users/makoto/dev/YOLO/original_data/images/book00070.JPG: 640x480 1 UtukushiNihongoErabiJiten, 1 ChainSawMan12, 309.7ms\n",
      "image 71/233 /Users/makoto/dev/YOLO/original_data/images/book00071.JPG: 640x480 1 UtukushiNihongoErabiJiten, 1 KodaiChugokuNo24Jikan, 1 ChainSawMan12, 303.6ms\n",
      "image 72/233 /Users/makoto/dev/YOLO/original_data/images/book00072.JPG: 640x480 1 UtukushiNihongoErabiJiten, 1 ChainSawMan12, 327.0ms\n",
      "image 73/233 /Users/makoto/dev/YOLO/original_data/images/book00073.JPG: 640x480 1 UtukushiNihongoErabiJiten, 1 KodaiChugokuNo24Jikan, 1 ChainSawMan12, 307.3ms\n",
      "image 74/233 /Users/makoto/dev/YOLO/original_data/images/book00074.JPG: 640x480 1 UtukushiNihongoErabiJiten, 1 KodaiChugokuNo24Jikan, 305.2ms\n",
      "image 75/233 /Users/makoto/dev/YOLO/original_data/images/book00075.JPG: 640x480 1 UtukushiNihongoErabiJiten, 307.6ms\n",
      "image 76/233 /Users/makoto/dev/YOLO/original_data/images/book00076.JPG: 640x480 1 UtukushiNihongoErabiJiten, 1 ChainSawMan12, 302.3ms\n",
      "image 77/233 /Users/makoto/dev/YOLO/original_data/images/book00077.JPG: 640x480 2 UtukushiNihongoErabiJitens, 1 KodaiChugokuNo24Jikan, 1 ChainSawMan12, 302.9ms\n",
      "image 78/233 /Users/makoto/dev/YOLO/original_data/images/book00078.JPG: 640x480 1 UtukushiNihongoErabiJiten, 1 KodaiChugokuNo24Jikan, 1 ChainSawMan12, 304.7ms\n",
      "image 79/233 /Users/makoto/dev/YOLO/original_data/images/book00079.JPG: 640x480 1 UtukushiNihongoErabiJiten, 1 KodaiChugokuNo24Jikan, 1 ChainSawMan12, 309.6ms\n",
      "image 80/233 /Users/makoto/dev/YOLO/original_data/images/book00080.JPG: 640x480 1 UtukushiNihongoErabiJiten, 1 KodaiChugokuNo24Jikan, 1 ChainSawMan12, 303.7ms\n",
      "image 81/233 /Users/makoto/dev/YOLO/original_data/images/book00081.JPG: 640x480 1 UtukushiNihongoErabiJiten, 1 KodaiChugokuNo24Jikan, 1 ChainSawMan12, 322.8ms\n",
      "image 82/233 /Users/makoto/dev/YOLO/original_data/images/book00082.JPG: 640x480 1 UtukushiNihongoErabiJiten, 1 KodaiChugokuNo24Jikan, 1 ChainSawMan12, 296.6ms\n",
      "image 83/233 /Users/makoto/dev/YOLO/original_data/images/book00083.JPG: 640x480 1 KodaiChugokuNo24Jikan, 1 ChainSawMan12, 1 ChugokugoNavi202204, 302.1ms\n",
      "image 84/233 /Users/makoto/dev/YOLO/original_data/images/book00084.JPG: 640x480 1 KodaiChugokuNo24Jikan, 1 ChainSawMan12, 1 ChugokugoNavi202204, 301.9ms\n",
      "image 85/233 /Users/makoto/dev/YOLO/original_data/images/book00085.JPG: 640x480 1 KodaiChugokuNo24Jikan, 1 ChainSawMan12, 1 ChugokugoNavi202204, 302.2ms\n",
      "image 86/233 /Users/makoto/dev/YOLO/original_data/images/book00086.JPG: 640x480 1 KodaiChugokuNo24Jikan, 1 ChainSawMan12, 1 ChugokugoNavi202204, 301.5ms\n",
      "image 87/233 /Users/makoto/dev/YOLO/original_data/images/book00087.JPG: 640x480 1 UtukushiNihongoErabiJiten, 1 KodaiChugokuNo24Jikan, 1 ChainSawMan12, 1 ChugokugoNavi202204, 308.1ms\n",
      "image 88/233 /Users/makoto/dev/YOLO/original_data/images/book00088.JPG: 640x480 1 KodaiChugokuNo24Jikan, 1 ChainSawMan12, 1 ChugokugoNavi202204, 301.2ms\n",
      "image 89/233 /Users/makoto/dev/YOLO/original_data/images/book00089.JPG: 640x480 1 KodaiChugokuNo24Jikan, 1 ChainSawMan12, 1 ChugokugoNavi202204, 305.8ms\n",
      "image 90/233 /Users/makoto/dev/YOLO/original_data/images/book00090.JPG: 640x480 1 KodaiChugokuNo24Jikan, 1 ChainSawMan12, 1 ChugokugoNavi202204, 299.6ms\n",
      "image 91/233 /Users/makoto/dev/YOLO/original_data/images/book00091.JPG: 640x480 1 KodaiChugokuNo24Jikan, 1 ChainSawMan12, 1 ChugokugoNavi202204, 305.5ms\n",
      "image 92/233 /Users/makoto/dev/YOLO/original_data/images/book00092.JPG: 640x480 1 KodaiChugokuNo24Jikan, 1 ChainSawMan12, 1 ChugokugoNavi202204, 299.9ms\n",
      "image 93/233 /Users/makoto/dev/YOLO/original_data/images/book00093.JPG: 640x480 1 KodaiChugokuNo24Jikan, 1 ChainSawMan12, 1 ChugokugoNavi202204, 301.6ms\n",
      "image 94/233 /Users/makoto/dev/YOLO/original_data/images/book00094.JPG: 640x480 1 KodaiChugokuNo24Jikan, 1 ChainSawMan12, 1 ChugokugoNavi202204, 295.2ms\n",
      "image 95/233 /Users/makoto/dev/YOLO/original_data/images/book00095.JPG: 640x480 1 KodaiChugokuNo24Jikan, 1 ChainSawMan12, 1 ChugokugoNavi202204, 298.7ms\n",
      "image 96/233 /Users/makoto/dev/YOLO/original_data/images/book00096.JPG: 640x480 1 KodaiChugokuNo24Jikan, 1 ChainSawMan12, 1 ChugokugoNavi202204, 297.8ms\n",
      "image 97/233 /Users/makoto/dev/YOLO/original_data/images/book00097.JPG: 640x480 1 KodaiChugokuNo24Jikan, 1 ChainSawMan12, 1 ChugokugoNavi202204, 305.5ms\n",
      "image 98/233 /Users/makoto/dev/YOLO/original_data/images/book00098.JPG: 640x480 1 KodaiChugokuNo24Jikan, 1 ChainSawMan12, 1 ChugokugoNavi202204, 298.1ms\n",
      "image 99/233 /Users/makoto/dev/YOLO/original_data/images/book00099.JPG: 640x480 1 KodaiChugokuNo24Jikan, 1 ChainSawMan12, 1 ChugokugoNavi202204, 303.5ms\n",
      "image 100/233 /Users/makoto/dev/YOLO/original_data/images/book00100.JPG: 640x480 1 KodaiChugokuNo24Jikan, 1 ChainSawMan12, 1 ChugokugoNavi202204, 292.5ms\n",
      "image 101/233 /Users/makoto/dev/YOLO/original_data/images/book00101.JPG: 640x480 1 KodaiChugokuNo24Jikan, 1 ChainSawMan12, 1 ChugokugoNavi202204, 298.7ms\n",
      "image 102/233 /Users/makoto/dev/YOLO/original_data/images/book00102.JPG: 640x480 1 KodaiChugokuNo24Jikan, 1 ChainSawMan12, 1 ChugokugoNavi202204, 304.3ms\n",
      "image 103/233 /Users/makoto/dev/YOLO/original_data/images/book00103.JPG: 640x480 1 KodaiChugokuNo24Jikan, 1 ChainSawMan12, 1 ChugokugoNavi202204, 295.3ms\n",
      "image 104/233 /Users/makoto/dev/YOLO/original_data/images/book00104.JPG: 640x480 1 KodaiChugokuNo24Jikan, 1 ChainSawMan12, 1 ChugokugoNavi202204, 295.7ms\n",
      "image 105/233 /Users/makoto/dev/YOLO/original_data/images/book00105.JPG: 640x480 1 KodaiChugokuNo24Jikan, 1 ChainSawMan12, 1 ChugokugoNavi202204, 304.2ms\n",
      "image 106/233 /Users/makoto/dev/YOLO/original_data/images/book00106.JPG: 640x480 1 KodaiChugokuNo24Jikan, 1 ChainSawMan12, 1 ChugokugoNavi202204, 307.4ms\n",
      "image 107/233 /Users/makoto/dev/YOLO/original_data/images/book00107.JPG: 640x480 1 KodaiChugokuNo24Jikan, 1 ChainSawMan12, 1 ChugokugoNavi202204, 313.5ms\n",
      "image 108/233 /Users/makoto/dev/YOLO/original_data/images/book00108.JPG: 640x480 1 KodaiChugokuNo24Jikan, 1 ChainSawMan12, 1 ChugokugoNavi202204, 343.7ms\n",
      "image 109/233 /Users/makoto/dev/YOLO/original_data/images/book00109.JPG: 640x480 1 KodaiChugokuNo24Jikan, 1 ChainSawMan12, 1 ChugokugoNavi202204, 331.0ms\n",
      "image 110/233 /Users/makoto/dev/YOLO/original_data/images/book00110.JPG: 640x480 1 KodaiChugokuNo24Jikan, 1 ChainSawMan12, 1 ChugokugoNavi202204, 363.4ms\n",
      "image 111/233 /Users/makoto/dev/YOLO/original_data/images/book00111.JPG: 640x480 1 KodaiChugokuNo24Jikan, 1 ChainSawMan12, 1 ChugokugoNavi202204, 307.9ms\n",
      "image 112/233 /Users/makoto/dev/YOLO/original_data/images/book00112.JPG: 640x480 1 KodaiChugokuNo24Jikan, 1 ChainSawMan12, 1 ChugokugoNavi202204, 325.5ms\n",
      "image 113/233 /Users/makoto/dev/YOLO/original_data/images/book00113.JPG: 640x480 1 KodaiChugokuNo24Jikan, 1 ChainSawMan12, 1 ChugokugoNavi202204, 371.2ms\n",
      "image 114/233 /Users/makoto/dev/YOLO/original_data/images/book00114.JPG: 640x480 1 KodaiChugokuNo24Jikan, 1 ChainSawMan12, 1 ChugokugoNavi202204, 304.1ms\n",
      "image 115/233 /Users/makoto/dev/YOLO/original_data/images/book00115.JPG: 640x480 1 KodaiChugokuNo24Jikan, 1 ChainSawMan12, 1 ChugokugoNavi202204, 304.6ms\n",
      "image 116/233 /Users/makoto/dev/YOLO/original_data/images/book00116.JPG: 640x480 1 KodaiChugokuNo24Jikan, 1 ChainSawMan12, 1 ChugokugoNavi202204, 307.0ms\n",
      "image 117/233 /Users/makoto/dev/YOLO/original_data/images/book00117.JPG: 640x480 1 KodaiChugokuNo24Jikan, 1 ChainSawMan12, 1 ChugokugoNavi202204, 577.7ms\n",
      "image 118/233 /Users/makoto/dev/YOLO/original_data/images/book00118.JPG: 640x480 1 KodaiChugokuNo24Jikan, 1 ChainSawMan12, 1 ChugokugoNavi202204, 339.6ms\n",
      "image 119/233 /Users/makoto/dev/YOLO/original_data/images/book00119.JPG: 640x480 1 KodaiChugokuNo24Jikan, 1 ChainSawMan12, 1 ChugokugoNavi202204, 319.7ms\n",
      "image 120/233 /Users/makoto/dev/YOLO/original_data/images/book00120.JPG: 640x480 1 KodaiChugokuNo24Jikan, 312.6ms\n",
      "image 121/233 /Users/makoto/dev/YOLO/original_data/images/book00121.JPG: 640x480 1 KodaiChugokuNo24Jikan, 315.8ms\n",
      "image 122/233 /Users/makoto/dev/YOLO/original_data/images/book00122.JPG: 640x480 1 KodaiChugokuNo24Jikan, 305.8ms\n",
      "image 123/233 /Users/makoto/dev/YOLO/original_data/images/book00123.JPG: 640x480 (no detections), 318.7ms\n",
      "image 124/233 /Users/makoto/dev/YOLO/original_data/images/book00124.JPG: 640x480 1 KodaiChugokuNo24Jikan, 316.6ms\n",
      "image 125/233 /Users/makoto/dev/YOLO/original_data/images/book00125.JPG: 640x480 1 KodaiChugokuNo24Jikan, 301.7ms\n",
      "image 126/233 /Users/makoto/dev/YOLO/original_data/images/book00126.JPG: 640x480 1 KodaiChugokuNo24Jikan, 308.4ms\n",
      "image 127/233 /Users/makoto/dev/YOLO/original_data/images/book00127.JPG: 640x480 1 KodaiChugokuNo24Jikan, 297.5ms\n",
      "image 128/233 /Users/makoto/dev/YOLO/original_data/images/book00128.JPG: 640x480 (no detections), 303.0ms\n",
      "image 129/233 /Users/makoto/dev/YOLO/original_data/images/book00129.JPG: 640x480 (no detections), 299.9ms\n",
      "image 130/233 /Users/makoto/dev/YOLO/original_data/images/book00130.JPG: 640x480 (no detections), 293.1ms\n",
      "image 131/233 /Users/makoto/dev/YOLO/original_data/images/book00131.JPG: 640x480 (no detections), 306.0ms\n",
      "image 132/233 /Users/makoto/dev/YOLO/original_data/images/book00132.JPG: 640x480 1 KodaiChugokuNo24Jikan, 303.8ms\n",
      "image 133/233 /Users/makoto/dev/YOLO/original_data/images/book00133.JPG: 640x480 1 KodaiChugokuNo24Jikan, 301.7ms\n",
      "image 134/233 /Users/makoto/dev/YOLO/original_data/images/book00134.JPG: 640x480 1 KodaiChugokuNo24Jikan, 298.8ms\n",
      "image 135/233 /Users/makoto/dev/YOLO/original_data/images/book00135.JPG: 640x480 (no detections), 307.3ms\n",
      "image 136/233 /Users/makoto/dev/YOLO/original_data/images/book00136.JPG: 640x480 (no detections), 305.5ms\n",
      "image 137/233 /Users/makoto/dev/YOLO/original_data/images/book00137.JPG: 640x480 1 KodaiChugokuNo24Jikan, 302.0ms\n",
      "image 138/233 /Users/makoto/dev/YOLO/original_data/images/book00138.JPG: 640x480 1 KodaiChugokuNo24Jikan, 296.5ms\n",
      "image 139/233 /Users/makoto/dev/YOLO/original_data/images/book00139.JPG: 640x480 (no detections), 301.2ms\n",
      "image 140/233 /Users/makoto/dev/YOLO/original_data/images/book00140.JPG: 640x480 1 KodaiChugokuNo24Jikan, 300.2ms\n",
      "image 141/233 /Users/makoto/dev/YOLO/original_data/images/book00141.JPG: 640x480 1 KodaiChugokuNo24Jikan, 312.3ms\n",
      "image 142/233 /Users/makoto/dev/YOLO/original_data/images/book00142.JPG: 640x480 1 KodaiChugokuNo24Jikan, 292.0ms\n",
      "image 143/233 /Users/makoto/dev/YOLO/original_data/images/book00143.JPG: 640x480 1 KodaiChugokuNo24Jikan, 298.9ms\n",
      "image 144/233 /Users/makoto/dev/YOLO/original_data/images/book00144.JPG: 640x576 1 UtukushiNihongoErabiJiten, 391.6ms\n",
      "image 145/233 /Users/makoto/dev/YOLO/original_data/images/book00145.JPG: 640x480 1 UtukushiNihongoErabiJiten, 325.4ms\n",
      "image 146/233 /Users/makoto/dev/YOLO/original_data/images/book00146.JPG: 640x480 1 UtukushiNihongoErabiJiten, 309.9ms\n",
      "image 147/233 /Users/makoto/dev/YOLO/original_data/images/book00147.JPG: 640x480 1 UtukushiNihongoErabiJiten, 296.5ms\n",
      "image 148/233 /Users/makoto/dev/YOLO/original_data/images/book00148.JPG: 640x480 2 UtukushiNihongoErabiJitens, 294.1ms\n",
      "image 149/233 /Users/makoto/dev/YOLO/original_data/images/book00149.JPG: 640x480 (no detections), 302.9ms\n",
      "image 150/233 /Users/makoto/dev/YOLO/original_data/images/book00150.JPG: 640x480 1 UtukushiNihongoErabiJiten, 296.0ms\n",
      "image 151/233 /Users/makoto/dev/YOLO/original_data/images/book00151.JPG: 640x480 1 UtukushiNihongoErabiJiten, 308.0ms\n",
      "image 152/233 /Users/makoto/dev/YOLO/original_data/images/book00152.JPG: 640x480 1 UtukushiNihongoErabiJiten, 298.0ms\n",
      "image 153/233 /Users/makoto/dev/YOLO/original_data/images/book00153.JPG: 640x480 1 UtukushiNihongoErabiJiten, 325.6ms\n",
      "image 154/233 /Users/makoto/dev/YOLO/original_data/images/book00154.JPG: 640x480 1 UtukushiNihongoErabiJiten, 299.6ms\n",
      "image 155/233 /Users/makoto/dev/YOLO/original_data/images/book00155.JPG: 640x480 1 UtukushiNihongoErabiJiten, 314.4ms\n",
      "image 156/233 /Users/makoto/dev/YOLO/original_data/images/book00156.JPG: 640x480 1 UtukushiNihongoErabiJiten, 313.2ms\n",
      "image 157/233 /Users/makoto/dev/YOLO/original_data/images/book00157.JPG: 640x480 1 UtukushiNihongoErabiJiten, 340.1ms\n",
      "image 158/233 /Users/makoto/dev/YOLO/original_data/images/book00158.JPG: 640x480 1 UtukushiNihongoErabiJiten, 319.2ms\n",
      "image 159/233 /Users/makoto/dev/YOLO/original_data/images/book00159.JPG: 640x480 1 UtukushiNihongoErabiJiten, 333.6ms\n",
      "image 160/233 /Users/makoto/dev/YOLO/original_data/images/book00160.JPG: 640x480 2 UtukushiNihongoErabiJitens, 321.3ms\n",
      "image 161/233 /Users/makoto/dev/YOLO/original_data/images/book00161.JPG: 640x480 1 UtukushiNihongoErabiJiten, 307.8ms\n",
      "image 162/233 /Users/makoto/dev/YOLO/original_data/images/book00162.JPG: 640x480 1 UtukushiNihongoErabiJiten, 313.3ms\n",
      "image 163/233 /Users/makoto/dev/YOLO/original_data/images/book00163.JPG: 640x480 1 UtukushiNihongoErabiJiten, 309.9ms\n",
      "image 164/233 /Users/makoto/dev/YOLO/original_data/images/book00164.JPG: 640x480 1 UtukushiNihongoErabiJiten, 302.7ms\n",
      "image 165/233 /Users/makoto/dev/YOLO/original_data/images/book00165.JPG: 640x480 1 UtukushiNihongoErabiJiten, 312.0ms\n",
      "image 166/233 /Users/makoto/dev/YOLO/original_data/images/book00166.JPG: 640x480 1 UtukushiNihongoErabiJiten, 321.7ms\n",
      "image 167/233 /Users/makoto/dev/YOLO/original_data/images/book00167.JPG: 640x480 1 UtukushiNihongoErabiJiten, 312.5ms\n",
      "image 168/233 /Users/makoto/dev/YOLO/original_data/images/book00168.JPG: 640x480 1 ChainSawMan12, 310.2ms\n",
      "image 169/233 /Users/makoto/dev/YOLO/original_data/images/book00169.JPG: 640x480 1 ChainSawMan12, 306.7ms\n",
      "image 170/233 /Users/makoto/dev/YOLO/original_data/images/book00170.JPG: 640x480 1 ChainSawMan12, 330.3ms\n",
      "image 171/233 /Users/makoto/dev/YOLO/original_data/images/book00171.JPG: 640x480 1 ChainSawMan12, 339.1ms\n",
      "image 172/233 /Users/makoto/dev/YOLO/original_data/images/book00172.JPG: 640x480 1 ChainSawMan12, 331.4ms\n",
      "image 173/233 /Users/makoto/dev/YOLO/original_data/images/book00173.JPG: 640x480 (no detections), 384.2ms\n",
      "image 174/233 /Users/makoto/dev/YOLO/original_data/images/book00174.JPG: 640x480 1 ChainSawMan12, 327.0ms\n",
      "image 175/233 /Users/makoto/dev/YOLO/original_data/images/book00175.JPG: 640x480 1 ChainSawMan12, 346.7ms\n",
      "image 176/233 /Users/makoto/dev/YOLO/original_data/images/book00176.JPG: 640x480 1 ChainSawMan12, 334.7ms\n",
      "image 177/233 /Users/makoto/dev/YOLO/original_data/images/book00177.JPG: 640x480 1 ChainSawMan12, 351.8ms\n",
      "image 178/233 /Users/makoto/dev/YOLO/original_data/images/book00178.JPG: 640x480 1 ChainSawMan12, 841.8ms\n",
      "image 179/233 /Users/makoto/dev/YOLO/original_data/images/book00179.JPG: 640x384 1 ChainSawMan12, 292.1ms\n",
      "image 180/233 /Users/makoto/dev/YOLO/original_data/images/book00180.JPG: 640x480 2 ChainSawMan12s, 338.3ms\n",
      "image 181/233 /Users/makoto/dev/YOLO/original_data/images/book00181.JPG: 640x480 1 ChainSawMan12, 320.9ms\n",
      "image 182/233 /Users/makoto/dev/YOLO/original_data/images/book00182.JPG: 640x480 1 ChainSawMan12, 855.0ms\n",
      "image 183/233 /Users/makoto/dev/YOLO/original_data/images/book00183.JPG: 640x480 1 ChainSawMan12, 402.3ms\n",
      "image 184/233 /Users/makoto/dev/YOLO/original_data/images/book00184.JPG: 640x480 1 ChainSawMan12, 481.5ms\n",
      "image 185/233 /Users/makoto/dev/YOLO/original_data/images/book00185.JPG: 640x480 1 ChainSawMan12, 320.3ms\n",
      "image 186/233 /Users/makoto/dev/YOLO/original_data/images/book00186.JPG: 640x480 1 ChainSawMan12, 374.7ms\n",
      "image 187/233 /Users/makoto/dev/YOLO/original_data/images/book00187.JPG: 640x480 1 ChainSawMan12, 325.2ms\n",
      "image 188/233 /Users/makoto/dev/YOLO/original_data/images/book00188.JPG: 640x480 1 ChainSawMan12, 318.9ms\n",
      "image 189/233 /Users/makoto/dev/YOLO/original_data/images/book00189.JPG: 640x480 1 ChainSawMan12, 428.7ms\n",
      "image 190/233 /Users/makoto/dev/YOLO/original_data/images/book00190.JPG: 640x480 1 ChainSawMan12, 458.4ms\n",
      "image 191/233 /Users/makoto/dev/YOLO/original_data/images/book00191.JPG: 640x480 1 ChainSawMan12, 443.6ms\n",
      "image 192/233 /Users/makoto/dev/YOLO/original_data/images/book00192.JPG: 640x480 1 ChugokugoNavi202204, 808.4ms\n",
      "image 193/233 /Users/makoto/dev/YOLO/original_data/images/book00193.JPG: 640x480 1 ChugokugoNavi202204, 494.6ms\n",
      "image 194/233 /Users/makoto/dev/YOLO/original_data/images/book00194.JPG: 640x480 1 ChugokugoNavi202204, 369.7ms\n",
      "image 195/233 /Users/makoto/dev/YOLO/original_data/images/book00195.JPG: 640x480 1 ChugokugoNavi202204, 444.5ms\n",
      "image 196/233 /Users/makoto/dev/YOLO/original_data/images/book00196.JPG: 640x480 1 ChugokugoNavi202204, 514.2ms\n",
      "image 197/233 /Users/makoto/dev/YOLO/original_data/images/book00197.JPG: 640x480 1 ChugokugoNavi202204, 383.4ms\n",
      "image 198/233 /Users/makoto/dev/YOLO/original_data/images/book00198.JPG: 640x480 1 ChugokugoNavi202204, 333.7ms\n",
      "image 199/233 /Users/makoto/dev/YOLO/original_data/images/book00199.JPG: 640x480 1 ChugokugoNavi202204, 329.5ms\n",
      "image 200/233 /Users/makoto/dev/YOLO/original_data/images/book00200.JPG: 640x480 1 ChugokugoNavi202204, 693.0ms\n",
      "image 201/233 /Users/makoto/dev/YOLO/original_data/images/book00201.JPG: 640x480 1 ChugokugoNavi202204, 398.2ms\n",
      "image 202/233 /Users/makoto/dev/YOLO/original_data/images/book00202.JPG: 640x480 1 ChugokugoNavi202204, 381.9ms\n",
      "image 203/233 /Users/makoto/dev/YOLO/original_data/images/book00203.JPG: 640x480 1 ChugokugoNavi202204, 383.3ms\n",
      "image 204/233 /Users/makoto/dev/YOLO/original_data/images/book00204.JPG: 640x480 1 ChugokugoNavi202204, 481.1ms\n",
      "image 205/233 /Users/makoto/dev/YOLO/original_data/images/book00205.JPG: 640x480 1 ChugokugoNavi202204, 340.1ms\n",
      "image 206/233 /Users/makoto/dev/YOLO/original_data/images/book00206.JPG: 640x480 1 ChugokugoNavi202204, 465.7ms\n",
      "image 207/233 /Users/makoto/dev/YOLO/original_data/images/book00207.JPG: 640x480 1 ChugokugoNavi202204, 492.8ms\n",
      "image 208/233 /Users/makoto/dev/YOLO/original_data/images/book00208.JPG: 640x480 1 ChugokugoNavi202204, 352.4ms\n",
      "image 209/233 /Users/makoto/dev/YOLO/original_data/images/book00209.JPG: 640x480 1 ChugokugoNavi202204, 328.8ms\n",
      "image 210/233 /Users/makoto/dev/YOLO/original_data/images/book00210.JPG: 640x480 1 ChugokugoNavi202204, 333.4ms\n",
      "image 211/233 /Users/makoto/dev/YOLO/original_data/images/book00211.JPG: 640x480 1 ChugokugoNavi202204, 318.3ms\n",
      "image 212/233 /Users/makoto/dev/YOLO/original_data/images/book00212.JPG: 640x480 1 ChugokugoNavi202204, 368.3ms\n",
      "image 213/233 /Users/makoto/dev/YOLO/original_data/images/book00213.JPG: 640x480 1 ChugokugoNavi202204, 354.4ms\n",
      "image 214/233 /Users/makoto/dev/YOLO/original_data/images/book00214.JPG: 640x480 1 ChugokugoNavi202204, 372.7ms\n",
      "image 215/233 /Users/makoto/dev/YOLO/original_data/images/book00215.JPG: 640x480 1 ChugokugoNavi202204, 362.8ms\n",
      "image 216/233 /Users/makoto/dev/YOLO/original_data/images/book00216.jpg: 640x480 1 ChugokugoNavi202204, 447.0ms\n",
      "image 217/233 /Users/makoto/dev/YOLO/original_data/images/book00217.jpg: 640x480 1 ChugokugoNavi202204, 328.0ms\n",
      "image 218/233 /Users/makoto/dev/YOLO/original_data/images/book00218.jpg: 640x480 1 ChainSawMan12, 497.5ms\n",
      "image 219/233 /Users/makoto/dev/YOLO/original_data/images/book00219.jpg: 640x480 2 ChainSawMan12s, 487.6ms\n",
      "image 220/233 /Users/makoto/dev/YOLO/original_data/images/book00220.jpg: 640x480 1 ChainSawMan12, 348.3ms\n",
      "image 221/233 /Users/makoto/dev/YOLO/original_data/images/book00221.jpg: 640x480 1 ChainSawMan12, 328.7ms\n",
      "image 222/233 /Users/makoto/dev/YOLO/original_data/images/book00222.jpg: 640x480 1 ChugokugoNavi202204, 326.8ms\n",
      "image 223/233 /Users/makoto/dev/YOLO/original_data/images/book00223.jpg: 640x480 1 ChugokugoNavi202204, 351.4ms\n",
      "image 224/233 /Users/makoto/dev/YOLO/original_data/images/book00224.jpg: 640x480 1 ChainSawMan12, 346.3ms\n",
      "image 225/233 /Users/makoto/dev/YOLO/original_data/images/book00225.jpg: 640x480 1 ChainSawMan12, 374.9ms\n",
      "image 226/233 /Users/makoto/dev/YOLO/original_data/images/book00226.jpg: 640x480 1 ChainSawMan12, 363.0ms\n",
      "image 227/233 /Users/makoto/dev/YOLO/original_data/images/book00227.jpg: 640x480 1 ChugokugoNavi202204, 511.7ms\n",
      "image 228/233 /Users/makoto/dev/YOLO/original_data/images/book00228.jpg: 640x480 1 ChainSawMan12, 336.9ms\n",
      "image 229/233 /Users/makoto/dev/YOLO/original_data/images/book00229.jpg: 640x480 1 ChainSawMan12, 338.7ms\n",
      "image 230/233 /Users/makoto/dev/YOLO/original_data/images/book00230.jpg: 640x480 1 ChainSawMan12, 333.4ms\n",
      "image 231/233 /Users/makoto/dev/YOLO/original_data/images/book00231.JPG: 640x480 1 UtukushiNihongoErabiJiten, 1 KodaiChugokuNo24Jikan, 1 ChainSawMan12, 333.6ms\n",
      "image 232/233 /Users/makoto/dev/YOLO/original_data/images/book00232.JPG: 640x480 1 UtukushiNihongoErabiJiten, 1 KodaiChugokuNo24Jikan, 1 ChainSawMan12, 537.3ms\n",
      "image 233/233 /Users/makoto/dev/YOLO/original_data/images/book00233.JPG: 640x480 1 KodaiChugokuNo24Jikan, 1 ChainSawMan12, 1 ChugokugoNavi202204, 469.9ms\n",
      "Speed: 2.3ms preprocess, 347.2ms inference, 0.4ms postprocess per image at shape (1, 3, 640, 480)\n",
      "Results saved to \u001b[1m/Users/makoto/Desktop/predict\u001b[0m\n"
     ]
    }
   ],
   "source": [
    "model = YOLO('/Users/makoto/dev/YOLO/training_log/l_22/weights/best.pt')\n",
    "results = model.predict('/Users/makoto/dev/YOLO/original_data/images', project='/Users/makoto/Desktop', save=True, imgsz=640, conf=0.7, exist_ok=True)"
   ]
  },
  {
   "cell_type": "code",
   "execution_count": null,
   "metadata": {},
   "outputs": [],
   "source": []
  }
 ],
 "metadata": {
  "kernelspec": {
   "display_name": "YOLO",
   "language": "python",
   "name": "python3"
  },
  "language_info": {
   "codemirror_mode": {
    "name": "ipython",
    "version": 3
   },
   "file_extension": ".py",
   "mimetype": "text/x-python",
   "name": "python",
   "nbconvert_exporter": "python",
   "pygments_lexer": "ipython3",
   "version": "3.8.19"
  }
 },
 "nbformat": 4,
 "nbformat_minor": 2
}
