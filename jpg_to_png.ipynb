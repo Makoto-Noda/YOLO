{
 "cells": [
  {
   "cell_type": "code",
   "execution_count": 1,
   "metadata": {},
   "outputs": [],
   "source": [
    "import os\n",
    "import cv2\n",
    "from tqdm import tqdm\n",
    "from PIL import Image"
   ]
  },
  {
   "cell_type": "code",
   "execution_count": 2,
   "metadata": {},
   "outputs": [],
   "source": [
    "input_dir = '/Users/makoto/Desktop/materials/backgrounds'\n",
    "output_dir = '/Users/makoto/Desktop/materials/backgrounds'"
   ]
  },
  {
   "cell_type": "code",
   "execution_count": 3,
   "metadata": {},
   "outputs": [],
   "source": [
    "def convert_and_save(input_dir, output_dir):\n",
    "    \n",
    "    files = os.listdir(input_dir)\n",
    "    \n",
    "    for file in tqdm(files):\n",
    "        \n",
    "        file_path = f'{input_dir}/{file}'\n",
    "        file_head = file.split('.')[0]\n",
    "        save_path = f'{output_dir}/{file_head}.png'\n",
    "        \n",
    "        img = cv2.imread(file_path)\n",
    "        cv2.imwrite(save_path, img)\n",
    "    \n",
    "    return save_path\n",
    "        "
   ]
  },
  {
   "cell_type": "code",
   "execution_count": 4,
   "metadata": {},
   "outputs": [
    {
     "name": "stderr",
     "output_type": "stream",
     "text": [
      "  0%|          | 0/32 [00:00<?, ?it/s]"
     ]
    },
    {
     "name": "stderr",
     "output_type": "stream",
     "text": [
      "100%|██████████| 32/32 [00:11<00:00,  2.72it/s]\n"
     ]
    },
    {
     "data": {
      "text/plain": [
       "'/Users/makoto/Desktop/materials/backgrounds/bg2.png'"
      ]
     },
     "execution_count": 4,
     "metadata": {},
     "output_type": "execute_result"
    }
   ],
   "source": [
    "convert_and_save(input_dir, output_dir)"
   ]
  },
  {
   "cell_type": "code",
   "execution_count": null,
   "metadata": {},
   "outputs": [],
   "source": []
  }
 ],
 "metadata": {
  "kernelspec": {
   "display_name": "YOLO",
   "language": "python",
   "name": "python3"
  },
  "language_info": {
   "codemirror_mode": {
    "name": "ipython",
    "version": 3
   },
   "file_extension": ".py",
   "mimetype": "text/x-python",
   "name": "python",
   "nbconvert_exporter": "python",
   "pygments_lexer": "ipython3",
   "version": "3.8.19"
  }
 },
 "nbformat": 4,
 "nbformat_minor": 2
}
